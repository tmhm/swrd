{
 "cells": [
  {
   "cell_type": "markdown",
   "metadata": {},
   "source": [
    "### 二分法查找"
   ]
  },
  {
   "cell_type": "code",
   "execution_count": 33,
   "metadata": {
    "collapsed": false
   },
   "outputs": [],
   "source": [
    "def BinarySearch(key, a):\n",
    "    if key > a[-1] or key < a[0]:\n",
    "        return -1\n",
    "    lo, hi = 0, len(a)\n",
    "    while(lo <= hi):\n",
    "        mid = (lo + hi)/2\n",
    "        #print mid\n",
    "        if key > a[mid]:\n",
    "            lo = mid + 1\n",
    "        elif key < a[mid]:\n",
    "            hi = mid - 1\n",
    "        else:\n",
    "            return mid\n",
    "    return -1"
   ]
  },
  {
   "cell_type": "code",
   "execution_count": 16,
   "metadata": {
    "collapsed": false
   },
   "outputs": [
    {
     "name": "stdout",
     "output_type": "stream",
     "text": [
      "[0, 1, 3, 5, 7, 9]\n",
      "3\n"
     ]
    }
   ],
   "source": [
    "a = [1,3,5,7,9,0]\n",
    "a.sort()\n",
    "print a\n",
    "print BinarySearch(5,a)"
   ]
  },
  {
   "cell_type": "markdown",
   "metadata": {},
   "source": [
    "### 求文件中所有和为0的整数对的数量\n",
    "- 问题很容易在平方级别解决\n",
    "- 改进到线性对数级别\n",
    "    - 先将数据归并排序\n",
    "    - 然后用二分法查找 -a[i], 要求返回的位置j　＞　ｉ"
   ]
  },
  {
   "cell_type": "code",
   "execution_count": 24,
   "metadata": {
    "collapsed": false
   },
   "outputs": [],
   "source": [
    "def TwoSum(a):\n",
    "    a.sort()\n",
    "    cnt = 0\n",
    "    print \"after sort:\",a\n",
    "    for idx, elem in enumerate(a):\n",
    "        if BinarySearch(-elem, a) > idx:\n",
    "            cnt += 1 \n",
    "    return cnt\n",
    "            "
   ]
  },
  {
   "cell_type": "code",
   "execution_count": 34,
   "metadata": {
    "collapsed": false
   },
   "outputs": [
    {
     "name": "stdout",
     "output_type": "stream",
     "text": [
      "[-20, -18, -16, -14, -12, -10, -8, -6, -4, -2, 0, 2, 4, 6, 8]\n",
      "after sort: [-20, -18, -16, -14, -12, -10, -8, -6, -4, -2, 0, 2, 4, 6, 8]\n",
      "4\n"
     ]
    }
   ],
   "source": [
    "t = [i for i in xrange(-20,10,2)]\n",
    "print t\n",
    "print TwoSum(t)"
   ]
  },
  {
   "cell_type": "markdown",
   "metadata": {},
   "source": [
    "### 用cProfile进行性能分析"
   ]
  },
  {
   "cell_type": "code",
   "execution_count": 47,
   "metadata": {
    "collapsed": false
   },
   "outputs": [
    {
     "name": "stdout",
     "output_type": "stream",
     "text": [
      "Mon Aug 08 20:24:47 2016    ./result_analysis/test\n",
      "\n",
      "         2 function calls in 0.000 seconds\n",
      "\n",
      "   Ordered by: standard name\n",
      "\n",
      "   ncalls  tottime  percall  cumtime  percall filename:lineno(function)\n",
      "        1    0.000    0.000    0.000    0.000 <string>:1(<module>)\n",
      "        1    0.000    0.000    0.000    0.000 {method 'disable' of '_lsprof.Profiler' objects}\n",
      "\n",
      "\n"
     ]
    },
    {
     "data": {
      "text/plain": [
       "<pstats.Stats instance at 0x0000000003EF8EC8>"
      ]
     },
     "execution_count": 47,
     "metadata": {},
     "output_type": "execute_result"
    }
   ],
   "source": [
    "import cProfile\n",
    "import os\n",
    "import pstats\n",
    "#os.mkdir(\"./result_analysis\")\n",
    "cProfile.run(\"TwoSum\", \"./result_analysis/test\")\n",
    "p= pstats.Stats(\"./result_analysis/test\")\n",
    "p.strip_dirs().sort_stats(-1).print_stats()"
   ]
  },
  {
   "cell_type": "markdown",
   "metadata": {},
   "source": [
    "### union-find 算法（动态连通性问题）"
   ]
  },
  {
   "cell_type": "code",
   "execution_count": 70,
   "metadata": {
    "collapsed": true
   },
   "outputs": [],
   "source": [
    "class UF:\n",
    "    \"\"\"\n",
    "    union find algorithm\n",
    "    \"\"\"\n",
    "    id = []\n",
    "    count = 0\n",
    "    \n",
    "    def __init__(self, N):\n",
    "        self.count = N\n",
    "        self.id = [0]*N\n",
    "        for i in xrange(N):\n",
    "            self.id[i] = i\n",
    "    \n",
    "    def count(self):\n",
    "        return self.count\n",
    "    \n",
    "    def connected(self, p, q):\n",
    "        return self.find(p) == self.find(q)\n",
    "    \n",
    "    def find(self, p):\n",
    "        return 1\n",
    "        pass\n",
    "    \n",
    "    def union(self, p, q):\n",
    "        pass\n",
    "    \n",
    "    \n",
    "        \n",
    "        "
   ]
  },
  {
   "cell_type": "code",
   "execution_count": 71,
   "metadata": {
    "collapsed": false
   },
   "outputs": [
    {
     "name": "stdout",
     "output_type": "stream",
     "text": [
      "10\n",
      "10 commponents.\n"
     ]
    }
   ],
   "source": [
    "import sys\n",
    "\n",
    "pfile = \"./data/tinyUF.txt\"\n",
    "with open(pfile) as f:\n",
    "    #for line in f.readlines():\n",
    "    #    print line\n",
    "    n = int(f.readline())\n",
    "    print n\n",
    "    uf = UF(n)\n",
    "    for i in xrange(int(n)):\n",
    "        t = f.next().split()\n",
    "        p, q = t[0], t[1]\n",
    "        #print p,q\n",
    "        if uf.connected(p, q):\n",
    "            continue\n",
    "        uf.union(p, q)\n",
    "        print \"+\".join(p,q)\n",
    "    print \"%s commponents.\" %uf.count\n",
    "            \n",
    "    #print f.next()\n",
    "    \n",
    "    f.close()"
   ]
  },
  {
   "cell_type": "code",
   "execution_count": null,
   "metadata": {
    "collapsed": true
   },
   "outputs": [],
   "source": []
  }
 ],
 "metadata": {
  "kernelspec": {
   "display_name": "Python 2",
   "language": "python",
   "name": "python2"
  },
  "language_info": {
   "codemirror_mode": {
    "name": "ipython",
    "version": 2
   },
   "file_extension": ".py",
   "mimetype": "text/x-python",
   "name": "python",
   "nbconvert_exporter": "python",
   "pygments_lexer": "ipython2",
   "version": "2.7.11"
  }
 },
 "nbformat": 4,
 "nbformat_minor": 0
}
