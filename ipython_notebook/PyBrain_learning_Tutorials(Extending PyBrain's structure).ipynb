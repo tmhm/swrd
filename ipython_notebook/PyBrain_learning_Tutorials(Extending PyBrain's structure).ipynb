{
 "cells": [
  {
   "cell_type": "markdown",
   "metadata": {},
   "source": [
    "### [extending Pybrain's structure](http://pybrain.org/docs/tutorial/extending-structure.html)"
   ]
  },
  {
   "cell_type": "markdown",
   "metadata": {},
   "source": [
    "#### layer"
   ]
  },
  {
   "cell_type": "markdown",
   "metadata": {},
   "source": [
    "#### An example: quadratic polynomial as transfer function\n",
    "\n",
    "uses $f(x) = x^2 $ ,for transfer function, and then the derivative is $ f^{'} = 2x \n"
   ]
  },
  {
   "cell_type": "code",
   "execution_count": 6,
   "metadata": {
    "collapsed": true
   },
   "outputs": [],
   "source": [
    "from pybrain.structure.modules.neuronlayer import NeuronLayer\n",
    "\n",
    "class QuadraticPolynomialLayer(NeuronLayer):\n",
    "    def _forwardImplementation(self, inbuf, outbuf):\n",
    "        outbuf[:] = inbuf**2\n",
    "    \n",
    "    def _backwardImplementation(self, outerr, inerr, outbuf, inbuf):\n",
    "       # inerr[:] = inbuf * outerr # for test check\n",
    "        inerr[:] = 2 * inbuf * outerr\n"
   ]
  },
  {
   "cell_type": "markdown",
   "metadata": {},
   "source": [
    "Further readings: Layers can be used in numerous different ways. The interested reader is referred to the source code of the [LSTMLayer](http://pybrain.org/docs/api/structure/modules.html#pybrain.structure.modules.LSTMLayer) and the mailing list for further help."
   ]
  },
  {
   "cell_type": "markdown",
   "metadata": {},
   "source": [
    "#### connections"
   ]
  },
  {
   "cell_type": "markdown",
   "metadata": {},
   "source": [
    "### checking for correctness"
   ]
  },
  {
   "cell_type": "code",
   "execution_count": 8,
   "metadata": {
    "collapsed": false
   },
   "outputs": [
    {
     "name": "stdout",
     "output_type": "stream",
     "text": [
      "Perfect gradient\n"
     ]
    },
    {
     "data": {
      "text/plain": [
       "True"
      ]
     },
     "execution_count": 8,
     "metadata": {},
     "output_type": "execute_result"
    }
   ],
   "source": [
    "from pybrain.tools.shortcuts import buildNetwork\n",
    "from pybrain.tests.helpers import gradientCheck\n",
    "\n",
    "n= buildNetwork(2,3,1, hiddenclass = QuadraticPolynomialLayer)\n",
    "n.randomize()\n",
    "gradientCheck(n)"
   ]
  },
  {
   "cell_type": "markdown",
   "metadata": {},
   "source": [
    "First we do the necessary imports in line 1 and 2. Then we build a network with our special class in line 4. To initialize the weights of the network, we randomize its parameters in line 5 and call our gradient check in line 6. If we have done everything right, we will be rewarded with the output Perfect gradient."
   ]
  }
 ],
 "metadata": {
  "kernelspec": {
   "display_name": "Python 2",
   "language": "python",
   "name": "python2"
  },
  "language_info": {
   "codemirror_mode": {
    "name": "ipython",
    "version": 2
   },
   "file_extension": ".py",
   "mimetype": "text/x-python",
   "name": "python",
   "nbconvert_exporter": "python",
   "pygments_lexer": "ipython2",
   "version": "2.7.11"
  }
 },
 "nbformat": 4,
 "nbformat_minor": 0
}
