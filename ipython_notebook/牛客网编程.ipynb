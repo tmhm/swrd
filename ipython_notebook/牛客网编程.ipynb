{
 "cells": [
  {
   "cell_type": "code",
   "execution_count": 7,
   "metadata": {
    "collapsed": false
   },
   "outputs": [
    {
     "name": "stdout",
     "output_type": "stream",
     "text": [
      "['2', '1', '3', '4']\n",
      "2134 2134\n"
     ]
    }
   ],
   "source": [
    "a= 2134\n",
    "ali=[]\n",
    "for t in str(a):\n",
    "    ali.append(t)\n",
    "print ali\n",
    "\n",
    "b = str(a)\n",
    "#b.sort()\n",
    "print a,b\n",
    "\n"
   ]
  },
  {
   "cell_type": "code",
   "execution_count": 9,
   "metadata": {
    "collapsed": false
   },
   "outputs": [
    {
     "name": "stdout",
     "output_type": "stream",
     "text": [
      "set([1, 2, 3])\n"
     ]
    }
   ],
   "source": [
    "test = [1,2,1,2,3]\n",
    "a=set(test)\n",
    "print a"
   ]
  },
  {
   "cell_type": "code",
   "execution_count": 1,
   "metadata": {
    "collapsed": true
   },
   "outputs": [],
   "source": [
    "def kaprekar(i, cnt = 1):\n",
    "    if len(set(str(i))) == 1:\n",
    "        print \"Invalid Input!\"\n",
    "        return\n",
    "\n",
    "    if i == 6174:\n",
    "        return\n",
    "    else:\n",
    "        _min = int(\"\".join(sorted(str(i),reverse=False)))\n",
    "        _max = int(\"\".join(sorted(str(i),reverse=True)))\n",
    "        _val = _max - _min\n",
    "        print cnt, \":\", _max, \"-\", _min, \"=\", _val\n",
    "\n",
    "    return kaprekar(_val, cnt+1)"
   ]
  },
  {
   "cell_type": "code",
   "execution_count": 2,
   "metadata": {
    "collapsed": false
   },
   "outputs": [
    {
     "name": "stdout",
     "output_type": "stream",
     "text": [
      "1 : 7772 - 2777 = 4995\n",
      "2 : 9954 - 4599 = 5355\n",
      "3 : 5553 - 3555 = 1998\n",
      "4 : 9981 - 1899 = 8082\n",
      "5 : 8820 - 288 = 8532\n",
      "6 : 8532 - 2358 = 6174\n"
     ]
    }
   ],
   "source": [
    "kaprekar(7727)\n",
    "#import sys\n",
    "    "
   ]
  },
  {
   "cell_type": "code",
   "execution_count": 3,
   "metadata": {
    "collapsed": false
   },
   "outputs": [
    {
     "name": "stdout",
     "output_type": "stream",
     "text": [
      "12341 <type 'str'>\n",
      "11234\n",
      "<type 'str'>\n"
     ]
    }
   ],
   "source": [
    "i=12341\n",
    "t= str(i)\n",
    "print t, type(t)\n",
    "test = \"\".join(sorted(str(i)))\n",
    "print test\n",
    "print type(test)\n",
    "\n",
    "\n"
   ]
  },
  {
   "cell_type": "code",
   "execution_count": 5,
   "metadata": {
    "collapsed": false
   },
   "outputs": [
    {
     "name": "stdout",
     "output_type": "stream",
     "text": [
      "2.44948974278\n"
     ]
    }
   ],
   "source": [
    "from numpy import sqrt\n",
    "print sqrt(6)\n",
    "a =False"
   ]
  },
  {
   "cell_type": "code",
   "execution_count": 13,
   "metadata": {
    "collapsed": false
   },
   "outputs": [
    {
     "name": "stdout",
     "output_type": "stream",
     "text": [
      "['0', 'b', '1', '0']\n",
      "1\n",
      "['0', 'b', '1', '1', '1', '1', '1', '1', '1', '1', '1', '1', '1', '1', '1', '1', '1', '1', '1', '1', '1', '1', '1', '1', '1', '1', '1', '1', '1', '1', '1', '1', '1', '1']\n",
      "32\n"
     ]
    }
   ],
   "source": [
    "def NumberOf1(n):\n",
    "    # write code here\n",
    "    if n < 0:\n",
    "        tn = bin(n+2**32)\n",
    "        cnt = list(tn).count(\"1\")\n",
    "        print list(tn)\n",
    "        print cnt\n",
    "    else:\n",
    "        tn = bin(n)\n",
    "        cnt = list(tn).count(\"1\")\n",
    "        print list(tn)\n",
    "        print cnt\n",
    "    \n",
    "NumberOf1(2)\n",
    "NumberOf1(-1)\n"
   ]
  },
  {
   "cell_type": "code",
   "execution_count": 21,
   "metadata": {
    "collapsed": false
   },
   "outputs": [
    {
     "name": "stdout",
     "output_type": "stream",
     "text": [
      "0 1 sum:  1 Flag:  True\n",
      "1 2 sum:  3 Flag:  True\n",
      "2 4 sum:  7 Flag:  True\n",
      "3 8 sum:  15 Flag:  True\n",
      "4 16 sum:  31 Flag:  True\n",
      "5 32 sum:  63 Flag:  True\n",
      "6 64 sum:  127 Flag:  True\n",
      "7 128 sum:  255 Flag:  True\n",
      "8 256 sum:  511 Flag:  True\n",
      "9 512 sum:  1023 Flag:  True\n",
      "10 1024 sum:  2047 Flag:  True\n",
      "11 2048 sum:  4095 Flag:  True\n",
      "12 4096 sum:  8191 Flag:  True\n",
      "13 8192 sum:  16383 Flag:  True\n"
     ]
    }
   ],
   "source": [
    "def db(n,a=1,q=2):\n",
    "    cnt = 0\n",
    "    while a < n:\n",
    "        yield a\n",
    "        a = a*q\n",
    "\n",
    "sum = 0\n",
    "for i,elem in enumerate(db(10000)):\n",
    "    sum += elem\n",
    "    flag = True if sum == elem * 2 - 1 else False\n",
    "    print i,elem ,\"sum: \",sum, \"Flag: \", flag\n",
    "    "
   ]
  }
 ],
 "metadata": {
  "kernelspec": {
   "display_name": "Python 2",
   "language": "python",
   "name": "python2"
  },
  "language_info": {
   "codemirror_mode": {
    "name": "ipython",
    "version": 2
   },
   "file_extension": ".py",
   "mimetype": "text/x-python",
   "name": "python",
   "nbconvert_exporter": "python",
   "pygments_lexer": "ipython2",
   "version": "2.7.11"
  }
 },
 "nbformat": 4,
 "nbformat_minor": 0
}
