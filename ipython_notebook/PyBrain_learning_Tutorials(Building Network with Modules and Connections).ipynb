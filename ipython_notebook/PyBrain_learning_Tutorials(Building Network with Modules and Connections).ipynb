{
 "cells": [
  {
   "cell_type": "markdown",
   "metadata": {},
   "source": [
    "# Building Network with Modules and Connections\n",
    "[resource](http://pybrain.org/docs/tutorial/netmodcon.html)"
   ]
  },
  {
   "cell_type": "markdown",
   "metadata": {},
   "source": [
    "### feed forward networks"
   ]
  },
  {
   "cell_type": "code",
   "execution_count": 13,
   "metadata": {
    "collapsed": false
   },
   "outputs": [],
   "source": [
    "from pybrain.structure import FeedForwardNetwork\n",
    "n = FeedForwardNetwork()"
   ]
  },
  {
   "cell_type": "code",
   "execution_count": 14,
   "metadata": {
    "collapsed": false
   },
   "outputs": [],
   "source": [
    "from pybrain.structure import LinearLayer,SigmoidLayer\n",
    "inLayer = LinearLayer(2,name = \"IN\")\n",
    "hiddenLayer = SigmoidLayer(3,name = \"Hidden0\")\n",
    "outLayer = LinearLayer(1,name = \"OUT\")"
   ]
  },
  {
   "cell_type": "code",
   "execution_count": 15,
   "metadata": {
    "collapsed": true
   },
   "outputs": [],
   "source": [
    "n.addInputModule(inLayer)\n",
    "n.addModule(hiddenLayer)\n",
    "n.addOutputModule(outLayer)"
   ]
  },
  {
   "cell_type": "code",
   "execution_count": 16,
   "metadata": {
    "collapsed": true
   },
   "outputs": [],
   "source": [
    "from pybrain.structure import FullConnection\n",
    "in_to_hidden = FullConnection(inLayer,hiddenLayer)\n",
    "hidden_to_out = FullConnection(hiddenLayer,outLayer)"
   ]
  },
  {
   "cell_type": "code",
   "execution_count": 17,
   "metadata": {
    "collapsed": true
   },
   "outputs": [],
   "source": [
    "n.addConnection(in_to_hidden)\n",
    "n.addConnection(hidden_to_out)"
   ]
  },
  {
   "cell_type": "markdown",
   "metadata": {},
   "source": [
    "from pybrain.structure import TanhLayer\n",
    "\n",
    "n.addOutputModule(TanhLayer(2,name='out'))\n",
    "n.addConnection(FullConnection(n['Hidden0'],n['out']))"
   ]
  },
  {
   "cell_type": "markdown",
   "metadata": {},
   "source": [
    "here , all the elements are in place now , so we can do the final step that makes our MLP usable, which is to call the *.sortModules()* method"
   ]
  },
  {
   "cell_type": "code",
   "execution_count": 19,
   "metadata": {
    "collapsed": false
   },
   "outputs": [
    {
     "name": "stdout",
     "output_type": "stream",
     "text": [
      "FeedForwardNetwork-20\n",
      "   Modules:\n",
      "    [<LinearLayer 'IN'>, <SigmoidLayer 'Hidden0'>, <LinearLayer 'OUT'>, <TanhLayer 'out'>]\n",
      "   Connections:\n",
      "    [<FullConnection 'FullConnection-17': 'Hidden0' -> 'OUT'>, <FullConnection 'FullConnection-18': 'Hidden0' -> 'out'>, <FullConnection 'FullConnection-19': 'IN' -> 'Hidden0'>]\n",
      "\n"
     ]
    }
   ],
   "source": [
    "n.sortModules()\n",
    "print n"
   ]
  },
  {
   "cell_type": "markdown",
   "metadata": {},
   "source": [
    "### examining a network"
   ]
  },
  {
   "cell_type": "code",
   "execution_count": 8,
   "metadata": {
    "collapsed": false
   },
   "outputs": [
    {
     "name": "stdout",
     "output_type": "stream",
     "text": [
      "FeedForwardNetwork-5\n",
      "   Modules:\n",
      "    [<LinearLayer 'IN'>, <SigmoidLayer 'Hidden0'>, <LinearLayer 'OUT'>]\n",
      "   Connections:\n",
      "    [<FullConnection 'FullConnection-3': 'Hidden0' -> 'OUT'>, <FullConnection 'FullConnection-4': 'IN' -> 'Hidden0'>]\n",
      "\n"
     ]
    }
   ],
   "source": [
    "print n"
   ]
  },
  {
   "cell_type": "code",
   "execution_count": 11,
   "metadata": {
    "collapsed": false
   },
   "outputs": [
    {
     "name": "stdout",
     "output_type": "stream",
     "text": [
      "FeedForwardNetwork-5\n",
      "   Modules:\n",
      "    [<LinearLayer 'IN'>, <SigmoidLayer 'Hidden0'>, <LinearLayer 'OUT'>]\n",
      "   Connections:\n",
      "    [<FullConnection 'FullConnection-3': 'Hidden0' -> 'OUT'>, <FullConnection 'FullConnection-4': 'IN' -> 'Hidden0'>, <FullConnection 'FullConnection-9': 'Hidden0' -> 'out'>]\n",
      "\n"
     ]
    }
   ],
   "source": [
    "from pybrain.structure import TanhLayer\n",
    "\n",
    "n.addOutputModule(TanhLayer(2,name='out'))\n",
    "n.addConnection(FullConnection(n['Hidden0'],n['out']))\n",
    "\n",
    "print n"
   ]
  },
  {
   "cell_type": "code",
   "execution_count": 12,
   "metadata": {
    "collapsed": false
   },
   "outputs": [
    {
     "name": "stdout",
     "output_type": "stream",
     "text": [
      "FeedForwardNetwork-5\n",
      "   Modules:\n",
      "    [<LinearLayer 'IN'>, <SigmoidLayer 'Hidden0'>, <LinearLayer 'OUT'>]\n",
      "   Connections:\n",
      "    [<FullConnection 'FullConnection-12': 'Hidden0' -> 'out'>, <FullConnection 'FullConnection-3': 'Hidden0' -> 'OUT'>, <FullConnection 'FullConnection-4': 'IN' -> 'Hidden0'>, <FullConnection 'FullConnection-9': 'Hidden0' -> 'out'>]\n",
      "\n"
     ]
    }
   ],
   "source": [
    "from pybrain.structure import TanhLayer\n",
    "\n",
    "n.addOutputModule(TanhLayer(2,name='out'))\n",
    "n.addConnection(FullConnection(n['Hidden0'],n['out']))\n",
    "n.sortModules\n",
    "print n"
   ]
  },
  {
   "cell_type": "code",
   "execution_count": 60,
   "metadata": {
    "collapsed": false
   },
   "outputs": [
    {
     "data": {
      "text/plain": [
       "array([-0.52111408])"
      ]
     },
     "execution_count": 60,
     "metadata": {},
     "output_type": "execute_result"
    }
   ],
   "source": [
    "n.activate([1,2])"
   ]
  },
  {
   "cell_type": "code",
   "execution_count": 61,
   "metadata": {
    "collapsed": false
   },
   "outputs": [
    {
     "data": {
      "text/plain": [
       "array([-0.75384091, -0.93153373, -0.97365508,  0.11006768, -0.76198466,\n",
       "        0.38031605])"
      ]
     },
     "execution_count": 61,
     "metadata": {},
     "output_type": "execute_result"
    }
   ],
   "source": [
    "in_to_hidden.params"
   ]
  },
  {
   "cell_type": "code",
   "execution_count": 62,
   "metadata": {
    "collapsed": false
   },
   "outputs": [
    {
     "data": {
      "text/plain": [
       "array([-0.54121196, -0.49618825, -0.65138602])"
      ]
     },
     "execution_count": 62,
     "metadata": {},
     "output_type": "execute_result"
    }
   ],
   "source": [
    "hidden_to_out.params"
   ]
  },
  {
   "cell_type": "code",
   "execution_count": 63,
   "metadata": {
    "collapsed": false
   },
   "outputs": [
    {
     "data": {
      "text/plain": [
       "array([-0.75384091, -0.93153373, -0.97365508,  0.11006768, -0.76198466,\n",
       "        0.38031605, -0.54121196, -0.49618825, -0.65138602])"
      ]
     },
     "execution_count": 63,
     "metadata": {},
     "output_type": "execute_result"
    }
   ],
   "source": [
    "n.params"
   ]
  },
  {
   "cell_type": "markdown",
   "metadata": {},
   "source": [
    "### naming our networks structure"
   ]
  },
  {
   "cell_type": "code",
   "execution_count": 65,
   "metadata": {
    "collapsed": false
   },
   "outputs": [
    {
     "name": "stdout",
     "output_type": "stream",
     "text": [
      "<LinearLayer 'IN'>\n"
     ]
    },
    {
     "data": {
      "text/plain": [
       "<LinearLayer 'well'>"
      ]
     },
     "execution_count": 65,
     "metadata": {},
     "output_type": "execute_result"
    }
   ],
   "source": [
    "print inLayer\n",
    "LinearLayer(2)\n",
    "LinearLayer(2,name = \"well\")"
   ]
  },
  {
   "cell_type": "markdown",
   "metadata": {},
   "source": [
    "### using Recurrent networks\n",
    "*not we need ,this is the RNN???*"
   ]
  },
  {
   "cell_type": "code",
   "execution_count": 75,
   "metadata": {
    "collapsed": true
   },
   "outputs": [],
   "source": [
    "from pybrain.structure import RecurrentNetwork\n",
    "n= RecurrentNetwork()"
   ]
  },
  {
   "cell_type": "code",
   "execution_count": 76,
   "metadata": {
    "collapsed": true
   },
   "outputs": [],
   "source": [
    "n.addInputModule(LinearLayer(2,name=\"in\"))\n",
    "n.addModule(SigmoidLayer(3,name=\"hidden0\"))\n",
    "n.addOutputModule(LinearLayer(1,name = \"out\"))\n",
    "n.addConnection(FullConnection(n['in'],n['hidden0'], name='c1'))\n",
    "n.addConnection(FullConnection(n['hidden0'], n['out'], name = 'c2'))"
   ]
  },
  {
   "cell_type": "code",
   "execution_count": 77,
   "metadata": {
    "collapsed": true
   },
   "outputs": [],
   "source": [
    "# bewteen hidden ,we build the recurrent connect\n",
    "n.addRecurrentConnection(FullConnection(n['hidden0'],n['hidden0'], name = 'c3'))"
   ]
  },
  {
   "cell_type": "code",
   "execution_count": 78,
   "metadata": {
    "collapsed": true
   },
   "outputs": [],
   "source": [
    "n.sortModules()"
   ]
  },
  {
   "cell_type": "code",
   "execution_count": 94,
   "metadata": {
    "collapsed": false
   },
   "outputs": [
    {
     "data": {
      "text/plain": [
       "array([-0.33957257])"
      ]
     },
     "execution_count": 94,
     "metadata": {},
     "output_type": "execute_result"
    }
   ],
   "source": [
    "n.activate([1,2]) # [1,2] ,or (1,2) ,both ok"
   ]
  },
  {
   "cell_type": "code",
   "execution_count": 91,
   "metadata": {
    "collapsed": false
   },
   "outputs": [
    {
     "data": {
      "text/plain": [
       "array([-0.4500006])"
      ]
     },
     "execution_count": 91,
     "metadata": {},
     "output_type": "execute_result"
    }
   ],
   "source": [
    "n.reset()\n",
    "n.activate([2,2])"
   ]
  }
 ],
 "metadata": {
  "kernelspec": {
   "display_name": "Python 2",
   "language": "python",
   "name": "python2"
  },
  "language_info": {
   "codemirror_mode": {
    "name": "ipython",
    "version": 2
   },
   "file_extension": ".py",
   "mimetype": "text/x-python",
   "name": "python",
   "nbconvert_exporter": "python",
   "pygments_lexer": "ipython2",
   "version": "2.7.11"
  }
 },
 "nbformat": 4,
 "nbformat_minor": 0
}
