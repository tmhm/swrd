{
 "cells": [
  {
   "cell_type": "code",
   "execution_count": 2,
   "metadata": {
    "collapsed": false
   },
   "outputs": [
    {
     "ename": "IOError",
     "evalue": "[Errno 2] No such file or directory: 'traindata.svm'",
     "output_type": "error",
     "traceback": [
      "\u001b[1;31m---------------------------------------------------------------------------\u001b[0m",
      "\u001b[1;31mIOError\u001b[0m                                   Traceback (most recent call last)",
      "\u001b[1;32m<ipython-input-2-afee2df47548>\u001b[0m in \u001b[0;36m<module>\u001b[1;34m()\u001b[0m\n\u001b[0;32m      7\u001b[0m \u001b[1;32mfrom\u001b[0m \u001b[0mpybrain\u001b[0m \u001b[1;33m.\u001b[0m \u001b[0msupervised\u001b[0m \u001b[1;33m.\u001b[0m \u001b[0mtrainers\u001b[0m \u001b[1;32mimport\u001b[0m \u001b[0mBackpropTrainer\u001b[0m\u001b[1;33m\u001b[0m\u001b[0m\n\u001b[0;32m      8\u001b[0m \u001b[1;31m# load the t r a i n i n g data s e t\u001b[0m\u001b[1;33m\u001b[0m\u001b[1;33m\u001b[0m\u001b[0m\n\u001b[1;32m----> 9\u001b[1;33m \u001b[0mtrndata\u001b[0m \u001b[1;33m=\u001b[0m \u001b[0mClassificationDataSet\u001b[0m\u001b[1;33m.\u001b[0m\u001b[0mloadFromFile\u001b[0m\u001b[1;33m(\u001b[0m\u001b[1;34m'traindata.svm'\u001b[0m\u001b[1;33m)\u001b[0m\u001b[1;33m\u001b[0m\u001b[0m\n\u001b[0m\u001b[0;32m     10\u001b[0m \u001b[1;31m# neur a l networks work b e t t e r i f c l a s s e s are encoded using\u001b[0m\u001b[1;33m\u001b[0m\u001b[1;33m\u001b[0m\u001b[0m\n\u001b[0;32m     11\u001b[0m \u001b[1;31m# one output neuron per c l a s s\u001b[0m\u001b[1;33m\u001b[0m\u001b[1;33m\u001b[0m\u001b[0m\n",
      "\u001b[1;32mf:\\Anaconda2\\lib\\site-packages\\pybrain\\utilities.pyc\u001b[0m in \u001b[0;36mloadFromFile\u001b[1;34m(cls, filename, format)\u001b[0m\n\u001b[0;32m    194\u001b[0m             \u001b[1;31m# try to derive protocol from file extension\u001b[0m\u001b[1;33m\u001b[0m\u001b[1;33m\u001b[0m\u001b[0m\n\u001b[0;32m    195\u001b[0m             \u001b[0mformat\u001b[0m \u001b[1;33m=\u001b[0m \u001b[0mformatFromExtension\u001b[0m\u001b[1;33m(\u001b[0m\u001b[0mfilename\u001b[0m\u001b[1;33m)\u001b[0m\u001b[1;33m\u001b[0m\u001b[0m\n\u001b[1;32m--> 196\u001b[1;33m         \u001b[1;32mwith\u001b[0m \u001b[0mfile\u001b[0m\u001b[1;33m(\u001b[0m\u001b[0mfilename\u001b[0m\u001b[1;33m,\u001b[0m \u001b[1;34m'rbU'\u001b[0m\u001b[1;33m)\u001b[0m \u001b[1;32mas\u001b[0m \u001b[0mfp\u001b[0m\u001b[1;33m:\u001b[0m\u001b[1;33m\u001b[0m\u001b[0m\n\u001b[0m\u001b[0;32m    197\u001b[0m             \u001b[0mobj\u001b[0m \u001b[1;33m=\u001b[0m \u001b[0mcls\u001b[0m\u001b[1;33m.\u001b[0m\u001b[0mloadFromFileLike\u001b[0m\u001b[1;33m(\u001b[0m\u001b[0mfp\u001b[0m\u001b[1;33m,\u001b[0m \u001b[0mformat\u001b[0m\u001b[1;33m)\u001b[0m\u001b[1;33m\u001b[0m\u001b[0m\n\u001b[0;32m    198\u001b[0m             \u001b[0mobj\u001b[0m\u001b[1;33m.\u001b[0m\u001b[0mfilename\u001b[0m \u001b[1;33m=\u001b[0m \u001b[0mfilename\u001b[0m\u001b[1;33m\u001b[0m\u001b[0m\n",
      "\u001b[1;31mIOError\u001b[0m: [Errno 2] No such file or directory: 'traindata.svm'"
     ]
    }
   ],
   "source": [
    "# ! / us r / bin / env python\n",
    "# Example s c r i p t for feed􀀀forward network usage in PyBrain .\n",
    "# load the neces sary components\n",
    "from pybrain . datasets import ClassificationDataSet\n",
    "from pybrain . utilities import percentError\n",
    "from pybrain . tools . shortcuts import buildNetwork\n",
    "from pybrain . supervised . trainers import BackpropTrainer\n",
    "# load the t r a i n i n g data s e t\n",
    "trndata = ClassificationDataSet.loadFromFile('traindata.svm')\n",
    "# neur a l networks work b e t t e r i f c l a s s e s are encoded using\n",
    "# one output neuron per c l a s s\n",
    "trndata . _convertToOneOfMany()\n",
    "# same for the independent t e s t data s e t\n",
    "tstdata = ClassificationDataSet.loadFromFile ( 'testdata.svm' )\n",
    "tstdata._convertToOneOfMany()\n",
    "# bui ld a feed􀀀forward network with 20 hidden uni t s , plus\n",
    "# a cor responding backpropagat ion t r a i n e r\n",
    "fnn = buildNetwork ( trndata . indim , 20 , trndata . outdim )\n",
    "trainer = BackpropTrainer ( fnn , dataset=trndata , momentum=0.1 )\n",
    "# r ep e a t 5 times\n",
    "for i in range ( 5 ):\n",
    "# t r a i n the network for 10 epochs\n",
    "    trainer . trainEpochs ( 10 )\n",
    "# eva lua t e the r e s u l t on the t r a i n i n g and t e s t data\n",
    "    trnresult = percentError ( trainer . testOnClassData(),trndata [ 'class' ] )\n",
    "    tstresult = percentError ( trainer . testOnClassData(dataset=tstdata ) , tstdata [ 'class' ] )\n",
    "# p r i n t the r e s u l t\n",
    "    print \"epoch: %4d\" % trainer . totalepochs ,\\\n",
    "        \" train error: %5.2f%%\" % trnresult ,\\\n",
    "        \" test error: %5.2f%%\" % tstresult"
   ]
  }
 ],
 "metadata": {
  "kernelspec": {
   "display_name": "Python 2",
   "language": "python",
   "name": "python2"
  },
  "language_info": {
   "codemirror_mode": {
    "name": "ipython",
    "version": 2
   },
   "file_extension": ".py",
   "mimetype": "text/x-python",
   "name": "python",
   "nbconvert_exporter": "python",
   "pygments_lexer": "ipython2",
   "version": "2.7.11"
  }
 },
 "nbformat": 4,
 "nbformat_minor": 0
}
