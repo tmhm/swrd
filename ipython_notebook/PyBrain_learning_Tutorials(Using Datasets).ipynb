{
 "cells": [
  {
   "cell_type": "code",
   "execution_count": 1,
   "metadata": {
    "collapsed": false
   },
   "outputs": [
    {
     "ename": "NameError",
     "evalue": "name 'DS' is not defined",
     "output_type": "error",
     "traceback": [
      "\u001b[1;31m---------------------------------------------------------------------------\u001b[0m",
      "\u001b[1;31mNameError\u001b[0m                                 Traceback (most recent call last)",
      "\u001b[1;32m<ipython-input-1-e1646ae87b6e>\u001b[0m in \u001b[0;36m<module>\u001b[1;34m()\u001b[0m\n\u001b[1;32m----> 1\u001b[1;33m \u001b[0minp\u001b[0m \u001b[1;33m=\u001b[0m \u001b[0mDS\u001b[0m\u001b[1;33m[\u001b[0m\u001b[1;34m'input'\u001b[0m\u001b[1;33m]\u001b[0m\u001b[1;33m\u001b[0m\u001b[0m\n\u001b[0m\u001b[0;32m      2\u001b[0m \u001b[0minp\u001b[0m\u001b[1;33m[\u001b[0m\u001b[1;36m0\u001b[0m\u001b[1;33m,\u001b[0m\u001b[1;33m:\u001b[0m\u001b[1;33m]\u001b[0m\u001b[1;33m\u001b[0m\u001b[0m\n",
      "\u001b[1;31mNameError\u001b[0m: name 'DS' is not defined"
     ]
    }
   ],
   "source": [
    "inp = DS['input']\n",
    "inp[0,:]\n",
    "for inp,targ in DS:"
   ]
  },
  {
   "cell_type": "markdown",
   "metadata": {},
   "source": [
    "#### supervised - dataset for supervised regression training"
   ]
  },
  {
   "cell_type": "code",
   "execution_count": 7,
   "metadata": {
    "collapsed": false
   },
   "outputs": [
    {
     "name": "stdout",
     "output_type": "stream",
     "text": [
      "1\n"
     ]
    },
    {
     "data": {
      "text/plain": [
       "(array([[ 1.,  2.,  3.]]), array([[ 4.,  5.]]))"
      ]
     },
     "execution_count": 7,
     "metadata": {},
     "output_type": "execute_result"
    }
   ],
   "source": [
    "from pybrain.datasets import SupervisedDataSet\n",
    "DS = SupervisedDataSet(3, 2)\n",
    "DS.appendLinked([1,2,3],[4,5])\n",
    "print len(DS)\n",
    "DS['input'] , DS['target']"
   ]
  },
  {
   "cell_type": "markdown",
   "metadata": {},
   "source": [
    "##### sequential -dataset for supervised sequences regression training"
   ]
  },
  {
   "cell_type": "code",
   "execution_count": null,
   "metadata": {
    "collapsed": true
   },
   "outputs": [],
   "source": [
    "for i in range(DS.getNumSequences): # or getSequence(index), or getSequenceLength(index)\n",
    "    for input, target in DS.getSequenceIterator(i):\n",
    "        #do stuff\n",
    "        "
   ]
  },
  {
   "cell_type": "code",
   "execution_count": 14,
   "metadata": {
    "collapsed": false
   },
   "outputs": [
    {
     "name": "stdout",
     "output_type": "stream",
     "text": [
      "{0: 1, 1: 1, 2: 1}\n",
      "{0: 1, 1: 1, 2: 1}\n",
      "3\n",
      "towells\n",
      "[[0 1 2]]\n"
     ]
    }
   ],
   "source": [
    "from pybrain.datasets import ClassificationDataSet \n",
    "DS = ClassificationDataSet(2,nb_classes= 3, class_labels=['test', 'siat', 'towells'])\n",
    "DS.appendLinked([0.1, 0.5], [0])\n",
    "DS.appendLinked([2.2, 1.2], [1])\n",
    "DS.appendLinked([0.3, 3.2], [2])\n",
    "\n",
    "print DS.calculateStatistics()\n",
    "print DS.classHist\n",
    "print DS.nClasses\n",
    "print DS.getClass(2)\n",
    "print DS.getField('target').transpose()\n"
   ]
  },
  {
   "cell_type": "code",
   "execution_count": 18,
   "metadata": {
    "collapsed": false
   },
   "outputs": [
    {
     "name": "stdout",
     "output_type": "stream",
     "text": [
      "[[0]\n",
      " [1]\n",
      " [2]]\n"
     ]
    }
   ],
   "source": [
    "# DS.classHist??\n",
    "print DS.getField('target') "
   ]
  },
  {
   "cell_type": "code",
   "execution_count": 23,
   "metadata": {
    "collapsed": false
   },
   "outputs": [
    {
     "name": "stdout",
     "output_type": "stream",
     "text": [
      "[[1 0 0]\n",
      " [0 1 0]\n",
      " [0 0 1]]\n",
      "---\n",
      "[[0 1 2]]\n",
      "after Conver...\n",
      "[[0 1 2]]\n"
     ]
    }
   ],
   "source": [
    "DS._convertToOneOfMany(bounds= [0,1])\n",
    "print DS.getField('target')\n",
    "print \"---\" \n",
    "print DS.getField('class').transpose()\n",
    "\n",
    "print \"after Conver...\"\n",
    "DS._convertToClassNb()\n",
    "print DS.getField('target').transpose()"
   ]
  }
 ],
 "metadata": {
  "kernelspec": {
   "display_name": "Python 2",
   "language": "python",
   "name": "python2"
  },
  "language_info": {
   "codemirror_mode": {
    "name": "ipython",
    "version": 2
   },
   "file_extension": ".py",
   "mimetype": "text/x-python",
   "name": "python",
   "nbconvert_exporter": "python",
   "pygments_lexer": "ipython2",
   "version": "2.7.11"
  }
 },
 "nbformat": 4,
 "nbformat_minor": 0
}
