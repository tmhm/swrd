{
 "cells": [
  {
   "cell_type": "markdown",
   "metadata": {},
   "source": [
    "# 闭包,装饰器"
   ]
  },
  {
   "cell_type": "markdown",
   "metadata": {},
   "source": [
    "## 闭包\n",
    "- 函数是一个对象，所以可以作为某个函数的返回结果。\n",
    "- 这跟C中的回调函数比较相似\n"
   ]
  },
  {
   "cell_type": "code",
   "execution_count": 1,
   "metadata": {
    "collapsed": false
   },
   "outputs": [
    {
     "name": "stdout",
     "output_type": "stream",
     "text": [
      "11\n"
     ]
    }
   ],
   "source": [
    "def line_conf():\n",
    "    def line(x):\n",
    "        return 2*x+1\n",
    "    return line # return a function object\n",
    "my_line = line_conf()\n",
    "print(my_line(5))"
   ]
  },
  {
   "cell_type": "code",
   "execution_count": 2,
   "metadata": {
    "collapsed": false
   },
   "outputs": [
    {
     "name": "stdout",
     "output_type": "stream",
     "text": [
      "25\n"
     ]
    }
   ],
   "source": [
    "def line_conf():\n",
    "    b = 15\n",
    "    def line(x):\n",
    "        return 2*x+b\n",
    "    return line # return a function object\n",
    "b = 5\n",
    "my_line = line_conf()\n",
    "print(my_line(5))"
   ]
  },
  {
   "cell_type": "code",
   "execution_count": 3,
   "metadata": {
    "collapsed": false
   },
   "outputs": [
    {
     "name": "stdout",
     "output_type": "stream",
     "text": [
      "(<cell at 0x0000000003F1C678: int object at 0x0000000002546688>,)\n",
      "15\n"
     ]
    }
   ],
   "source": [
    "def line_conf():\n",
    "    b = 15\n",
    "    def line(x):\n",
    "        return 2*x+b\n",
    "    return line # return a function object\n",
    "b = 5\n",
    "my_line = line_conf()\n",
    "print(my_line.__closure__)\n",
    "print(my_line.__closure__[0].cell_contents)"
   ]
  },
  {
   "cell_type": "code",
   "execution_count": 5,
   "metadata": {
    "collapsed": false
   },
   "outputs": [
    {
     "name": "stdout",
     "output_type": "stream",
     "text": [
      "(6, 25)\n"
     ]
    }
   ],
   "source": [
    "def line_conf(a, b):\n",
    "    def line(x):\n",
    "        return a*x + b\n",
    "    return line\n",
    "line1 = line_conf(1, 1)\n",
    "line2 = line_conf(4, 5)\n",
    "print(line1(5), line2(5))"
   ]
  },
  {
   "cell_type": "markdown",
   "metadata": {},
   "source": [
    "## 闭包与并行运算\n",
    "闭包有效的减少了函数所需定义的参数数目。这对于并行运算来说有重要的意义。在并行运\n",
    "算的环境下，我们可以让每台电脑负责一个函数，然后将一台电脑的输出和下一台电脑的输\n",
    "入串联起来。最终，我们像流水线一样工作，从串联的电脑集群一端输入数据，从另一端输\n",
    "出数据。这样的情境最适合只有一个参数输入的函数。闭包就可以实现这一目的。\n",
    "并行运算正称为一个热点。这也是函数式编程又热起来的一个重要原因。函数式编程早在\n",
    "1950年代就已经存在，但应用并不广泛。然而，我们上面描述的流水线式的工作并行集群\n",
    "过程，正适合函数式编程。由于函数式编程这一天然优势，越来越多的语言也开始加入对函\n",
    "数式编程范式的支持。"
   ]
  },
  {
   "cell_type": "markdown",
   "metadata": {},
   "source": [
    "==============================\n"
   ]
  },
  {
   "cell_type": "markdown",
   "metadata": {},
   "source": [
    "## 装饰器"
   ]
  },
  {
   "cell_type": "code",
   "execution_count": 6,
   "metadata": {
    "collapsed": false
   },
   "outputs": [
    {
     "name": "stdout",
     "output_type": "stream",
     "text": [
      "25\n",
      "-7\n"
     ]
    }
   ],
   "source": [
    "# get square sum\n",
    "def square_sum(a, b):\n",
    "    return a**2 + b**2\n",
    "# get square diff\n",
    "def square_diff(a, b):\n",
    "    return a**2 - b**2\n",
    "print(square_sum(3, 4))\n",
    "print(square_diff(3, 4))"
   ]
  },
  {
   "cell_type": "code",
   "execution_count": 7,
   "metadata": {
    "collapsed": false,
    "scrolled": true
   },
   "outputs": [
    {
     "name": "stdout",
     "output_type": "stream",
     "text": [
      "('intput:', 3, 4)\n",
      "25\n",
      "('input', 3, 4)\n",
      "-7\n"
     ]
    }
   ],
   "source": [
    "# modify: print input\n",
    "# get square sum\n",
    "def square_sum(a, b):\n",
    "    print(\"intput:\", a, b)\n",
    "    return a**2 + b**2\n",
    "# get square diff\n",
    "def square_diff(a, b):\n",
    "    print(\"input\", a, b)\n",
    "    return a**2 - b**2\n",
    "print(square_sum(3, 4))\n",
    "print(square_diff(3, 4))"
   ]
  },
  {
   "cell_type": "code",
   "execution_count": 8,
   "metadata": {
    "collapsed": false
   },
   "outputs": [
    {
     "name": "stdout",
     "output_type": "stream",
     "text": [
      "('input', 3, 4)\n",
      "25\n",
      "('input', 3, 4)\n",
      "-7\n"
     ]
    }
   ],
   "source": [
    "def decorator(F):\n",
    "    def new_F(a, b):\n",
    "        print(\"input\", a, b)\n",
    "        return F(a, b)\n",
    "    return new_F\n",
    "# get square sum\n",
    "@decorator\n",
    "def square_sum(a, b):\n",
    "    return a**2 + b**2\n",
    "# get square diff\n",
    "@decorator\n",
    "def square_diff(a, b):\n",
    "    return a**2 - b**2\n",
    "print(square_sum(3, 4))\n",
    "print(square_diff(3, 4))"
   ]
  },
  {
   "cell_type": "markdown",
   "metadata": {},
   "source": [
    "定义好装饰器后，我们就可以通过@语法使用了。在函数square_sum和square_diff定义之\n",
    "前调用@decorator，我们实际上将square_sum或square_diff传递给decorator，并将\n",
    "decorator返回的新的可调用对象赋给原来的函数名(square_sum或square_diff)。 所以，当\n",
    "我们调用square_sum(3, 4)的时候，就相当于：\n",
    "\n",
    "    square_sum = decorator(square_sum)\n",
    "    square_sum(3, 4)"
   ]
  }
 ],
 "metadata": {
  "kernelspec": {
   "display_name": "Python 2",
   "language": "python",
   "name": "python2"
  },
  "language_info": {
   "codemirror_mode": {
    "name": "ipython",
    "version": 2
   },
   "file_extension": ".py",
   "mimetype": "text/x-python",
   "name": "python",
   "nbconvert_exporter": "python",
   "pygments_lexer": "ipython2",
   "version": "2.7.11"
  }
 },
 "nbformat": 4,
 "nbformat_minor": 0
}
