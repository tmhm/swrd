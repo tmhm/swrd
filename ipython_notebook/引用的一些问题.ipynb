{
 "cells": [
  {
   "cell_type": "code",
   "execution_count": 2,
   "metadata": {
    "collapsed": false,
    "scrolled": false
   },
   "outputs": [
    {
     "name": "stdout",
     "output_type": "stream",
     "text": [
      "id(object) -> integer\n",
      "\n",
      "Return the identity of an object.  This is guaranteed to be unique among\n",
      "simultaneously existing objects.  (Hint: it's the object's memory address.)\n"
     ]
    }
   ],
   "source": [
    "print id.__doc__\n"
   ]
  },
  {
   "cell_type": "markdown",
   "metadata": {},
   "source": [
    "### python中的引用对象问题：\n",
    "\n",
    "\n",
    "1. python不允许程序员选择采用传值还是传引用。\n",
    "    \n",
    "    - Python参数传递采用的肯定是“传对象引用”的方式。实际上，这种方式相当于传值和传引用的一种综合。如果函数收到的是一个可变对象（比如字典或者列表）的引用，就能修改对象的原始值——相当于通过“传引用”来传递对象。\n",
    "    \n",
    "    - 如果函数收到的是一个不可变对象（比如数字、字符或者元组）的引用，就不能直接修改原始对象——相当于通过“传值'来传递对象。\n",
    "    \n",
    "2. 当人们复制列表或字典时，就复制了对象列表的引用，如果改变引用的值，则修改了原始的参数。\n",
    "\n",
    "3. 为了简化内存管理，Python通过引用计数机制实现自动垃圾回收功能，Python中的每个对象都有一个引用计数，用来计数该对象在不同场所分别被引用了多少次。每当引用一次Python对象，相应的引用计数就增1，每当消毁一次Python对象，则相应的引用就减1，只有当引用计数为零时，才真正从内存中删除Python对象。\n",
    "\n",
    "[参考](http://www.cnblogs.com/yuyan/archive/2012/04/21/2461673.html)"
   ]
  },
  {
   "cell_type": "code",
   "execution_count": 19,
   "metadata": {
    "collapsed": false
   },
   "outputs": [
    {
     "name": "stdout",
     "output_type": "stream",
     "text": [
      "42295960\n",
      "42295960\n",
      "change b to 3 \n",
      "a: 1, b: 3\n",
      "a id is : 42295960; b id is : 42295912\n"
     ]
    }
   ],
   "source": [
    "# variable 动态创建一个新的变量，但是，list，tuple，dictionary 却不会创建新的实例\n",
    "a= 1\n",
    "b = a\n",
    "print id(a)\n",
    "print id(b)\n",
    "\n",
    "b = 3\n",
    "print \"change b to 3 \"\n",
    "print  \"a: %s, b: %s\" %(a ,b)\n",
    "print \"a id is : %s; b id is : %s\" %(id(a),id(b))"
   ]
  },
  {
   "cell_type": "code",
   "execution_count": 25,
   "metadata": {
    "collapsed": false
   },
   "outputs": [
    {
     "name": "stdout",
     "output_type": "stream",
     "text": [
      "66189960\n",
      "66189960\n",
      "change b to 3 \n",
      "a: [1, 2, 6], b: [1, 2, 6]\n",
      "a id is : 66189960; b id is : 66189960\n"
     ]
    }
   ],
   "source": [
    "# list\n",
    "a= [1,2,3]\n",
    "b = a   # 引用\n",
    "print id(a)\n",
    "print id(b)\n",
    "\n",
    "b[2] = 6\n",
    "print \"change b to 3 \"\n",
    "print  \"a: %s, b: %s\" %(a ,b)\n",
    "print \"a id is : %s; b id is : %s\" %(id(a),id(b))"
   ]
  },
  {
   "cell_type": "code",
   "execution_count": 38,
   "metadata": {
    "collapsed": false
   },
   "outputs": [
    {
     "name": "stdout",
     "output_type": "stream",
     "text": [
      "65422344\n",
      "65421832\n",
      "change b to 3 \n",
      "a: [1, 2, 3], b: [1, 2, 6]\n",
      "a id is : 65422344; b id is : 65421832\n"
     ]
    }
   ],
   "source": [
    "# list\n",
    "a= [1,2,3]\n",
    "b = a[:] # 值拷贝， 创建了新的对象实例\n",
    "print id(a)\n",
    "print id(b)\n",
    "\n",
    "b[2] = 6\n",
    "print \"change b to 3 \"\n",
    "print  \"a: %s, b: %s\" %(a ,b)\n",
    "print \"a id is : %s; b id is : %s\" %(id(a),id(b))"
   ]
  },
  {
   "cell_type": "code",
   "execution_count": 32,
   "metadata": {
    "collapsed": false
   },
   "outputs": [
    {
     "name": "stdout",
     "output_type": "stream",
     "text": [
      "66214904\n",
      "66214904\n",
      "change b to 3 \n",
      "a: {'tb': 6, 'tc': 33, 'ta': 11},\n",
      " b: {'tb': 6, 'tc': 33, 'ta': 11}\n",
      "a id is : 66214904;\n",
      " b id is : 66214904\n"
     ]
    }
   ],
   "source": [
    "# dictionary\n",
    "a= {'ta':11,'tb':22,'tc':33}\n",
    "b = a # 引用，改变的是原实例的值\n",
    "print id(a)\n",
    "print id(b)\n",
    "\n",
    "b['tb'] = 6\n",
    "print \"change b to 3 \"\n",
    "print  \"a: %s,\\n b: %s\" %(a ,b)\n",
    "print \"a id is : %s;\\n b id is : %s\" %(id(a),id(b))"
   ]
  },
  {
   "cell_type": "code",
   "execution_count": 36,
   "metadata": {
    "collapsed": false
   },
   "outputs": [
    {
     "name": "stdout",
     "output_type": "stream",
     "text": [
      "66132296\n",
      "66132296\n",
      "change b to 3 \n",
      "a: (1, 2, 3),\n",
      " b: (1, 2, 3)\n",
      "a id is : 66132296;\n",
      " b id is : 66132296\n"
     ]
    }
   ],
   "source": [
    "# tuple 元组用\"()\"标识。内部元素用逗号隔开。但是元组不能二次赋值，相当于只读列表。\n",
    "a= (1,2,3)\n",
    "b = a\n",
    "print id(a)\n",
    "print id(b)\n",
    "\n",
    "# b[0] = 6\n",
    "print \"change b to 3 \"\n",
    "print  \"a: %s,\\n b: %s\" %(a ,b)\n",
    "print \"a id is : %s;\\n b id is : %s\" %(id(a),id(b))"
   ]
  },
  {
   "cell_type": "code",
   "execution_count": 9,
   "metadata": {
    "collapsed": false,
    "scrolled": true
   },
   "outputs": [
    {
     "name": "stdout",
     "output_type": "stream",
     "text": [
      "[1, 2, 3]\n",
      "[1, 2, 3, 5, 6]\n"
     ]
    }
   ],
   "source": [
    "def add_list(p):\n",
    "    pt = p +[5,6]  # 1\n",
    "    p = p + [5,6]  # 2   1 和2 是等价的，没有将值返回， ‘=’左边的变量，都是函数内部生成的局部临时对象，并没有返回，故不会修改传入参数的值。\n",
    "    # 此处和静态语言的理解方式是一样的。\n",
    "\n",
    "p1 = [1,2,3]\n",
    "add_list(p1)  #1 和2 是等价的，没有改变返回值\n",
    "print p1\n",
    "\n",
    "\n",
    "def add_list2(p):\n",
    "    p += [5,6]\n",
    "p2 = [1,2,3]\n",
    "add_list2(p2)\n",
    "print p2\n"
   ]
  },
  {
   "cell_type": "markdown",
   "metadata": {},
   "source": [
    "此处‘=’号左边的p 应该是一个函数新建的一个局部的、临时的对象实例，等号的右边的p是才是函数传进来的，由于临时的“P”并没有返回，故肯定不会改变传入list的值。此处和静态语言应该是一致的。 所以，它并没有修改原来的p引用。"
   ]
  },
  {
   "cell_type": "code",
   "execution_count": 6,
   "metadata": {
    "collapsed": false
   },
   "outputs": [
    {
     "name": "stdout",
     "output_type": "stream",
     "text": [
      "Augmented assignment statements\n",
      "*******************************\n",
      "\n",
      "Augmented assignment is the combination, in a single statement, of a\n",
      "binary operation and an assignment statement:\n",
      "\n",
      "   augmented_assignment_stmt ::= augtarget augop (expression_list | yield_expression)\n",
      "   augtarget                 ::= identifier | attributeref | subscription | slicing\n",
      "   augop                     ::= \"+=\" | \"-=\" | \"*=\" | \"/=\" | \"//=\" | \"%=\" | \"**=\"\n",
      "             | \">>=\" | \"<<=\" | \"&=\" | \"^=\" | \"|=\"\n",
      "\n",
      "(See section Primaries for the syntax definitions for the last three\n",
      "symbols.)\n",
      "\n",
      "An augmented assignment evaluates the target (which, unlike normal\n",
      "assignment statements, cannot be an unpacking) and the expression\n",
      "list, performs the binary operation specific to the type of assignment\n",
      "on the two operands, and assigns the result to the original target.\n",
      "The target is only evaluated once.\n",
      "\n",
      "An augmented assignment expression like \"x += 1\" can be rewritten as\n",
      "\"x = x + 1\" to achieve a similar, but not exactly equal effect. In the\n",
      "augmented version, \"x\" is only evaluated once. Also, when possible,\n",
      "the actual operation is performed *in-place*, meaning that rather than\n",
      "creating a new object and assigning that to the target, the old object\n",
      "is modified instead.\n",
      "\n",
      "With the exception of assigning to tuples and multiple targets in a\n",
      "single statement, the assignment done by augmented assignment\n",
      "statements is handled the same way as normal assignments. Similarly,\n",
      "with the exception of the possible *in-place* behavior, the binary\n",
      "operation performed by augmented assignment is the same as the normal\n",
      "binary operations.\n",
      "\n",
      "For targets which are attribute references, the same caveat about\n",
      "class and instance attributes applies as for regular assignments.\n",
      "\n",
      "Related help topics: NUMBERMETHODS\n",
      "\n",
      "no Python documentation found for '='\n",
      "\n"
     ]
    }
   ],
   "source": [
    "help('+=')"
   ]
  },
  {
   "cell_type": "code",
   "execution_count": 11,
   "metadata": {
    "collapsed": false
   },
   "outputs": [
    {
     "name": "stdout",
     "output_type": "stream",
     "text": [
      "a:  [{'num': 3, 'sqrt': 9}, {'num': 3, 'sqrt': 9}, {'num': 3, 'sqrt': 9}]\n",
      "d:  [{'num': 1, 'sqrt': 1}, {'num': 2, 'sqrt': 4}, {'num': 3, 'sqrt': 9}]\n",
      "c:  [{'num': 1, 'sqrt': 1}, {'num': 2, 'sqrt': 4}, {'num': 3, 'sqrt': 9}]\n"
     ]
    }
   ],
   "source": [
    "# 字典引用\n",
    "a = []\n",
    "b = {'num':0, 'sqrt':0}\n",
    "resurse = [1,2,3]\n",
    "for i in resurse:\n",
    "  b['num'] = i\n",
    "  b['sqrt'] = i * i\n",
    "  a.append(b)\n",
    "print \"a: \",a\n",
    "\n",
    "d=[]\n",
    "for i in resurse:\n",
    "    b['num'] = i\n",
    "    b['sqrt'] = i * i\n",
    "    d1 = b.copy()\n",
    "    d.append(d1)\n",
    "print \"d: \",d\n",
    "\n",
    "c=[]\n",
    "for i in resurse:\n",
    "    c.append({\"num\":i, \"sqrt\":i*i})\n",
    "print \"c: \",c\n"
   ]
  },
  {
   "cell_type": "markdown",
   "metadata": {},
   "source": [
    "b['num'] = i  和 b['sqrt'] = i * i  中的 b['num'] 和 b['sqrt'] 是已经**压入list a 中元素的一个引用**，故它可以在不断地改变list 内部变量的值。 \n",
    "单步调试可以看到，\n",
    "a中值的变化情况：*以执行完语句a.append(b)为节点 *\n",
    "[{'num': 1, 'sqrt': 1}]  --> [{'num': 2, 'sqrt': 4},{'num': 2, 'sqrt': 4}] ->  [{'num': 3, 'sqrt': 9}, {'num': 3, 'sqrt': 9}, {'num': 3, 'sqrt': 9}]\n",
    "在append(b)到list a之前获得b的值拷贝，将值append 到list a 也可以达到目标。如**示例d**所示。\n",
    "\n",
    "当然，示例C是更加简洁的一个版本，这里应该还有迭代器的知识点，暂时还没折腾内部，待到下次和生成器一起分析。"
   ]
  }
 ],
 "metadata": {
  "kernelspec": {
   "display_name": "Python 2",
   "language": "python",
   "name": "python2"
  },
  "language_info": {
   "codemirror_mode": {
    "name": "ipython",
    "version": 2
   },
   "file_extension": ".py",
   "mimetype": "text/x-python",
   "name": "python",
   "nbconvert_exporter": "python",
   "pygments_lexer": "ipython2",
   "version": "2.7.11"
  }
 },
 "nbformat": 4,
 "nbformat_minor": 0
}
