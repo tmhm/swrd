{
 "cells": [
  {
   "cell_type": "code",
   "execution_count": 27,
   "metadata": {
    "collapsed": true
   },
   "outputs": [],
   "source": [
    "class compareS:\n",
    "    def compareStrings(self, A, B):\n",
    "        # write your code here\n",
    "        if B is None:\n",
    "            return True\n",
    "        elif A is None:\n",
    "            return False\n",
    "\n",
    "        CntA = self.countString(A)\n",
    "        CntB = self.countString(B)\n",
    "\n",
    "        for order in range(ord(\"Z\")-ord(\"A\") + 1):\n",
    "            if CntA[order] < CntB[order]:\n",
    "                return False\n",
    "            \n",
    "        return True\n",
    "\n",
    "    def countString(self,string):\n",
    "        count = []\n",
    "        for item in range(ord(\"Z\")-ord(\"A\") + 1):\n",
    "            count.append(0)\n",
    "        for item in string:\n",
    "            count[ord(item) - ord(\"A\")] +=1\n",
    "            print \"itr: %s \\t\" %item\n",
    "        print count\n",
    "        return count\n",
    "    \n",
    "    def countchar(self,ch):\n",
    "        result = {}\n",
    "        for item in ch:\n",
    "            ikey = ord(item)\n",
    "            if result.has_key(ikey):\n",
    "                result[ikey] +=1\n",
    "            else:\n",
    "                result.setdefault(ikey,1)\n",
    "        print result\n",
    "        return result\n",
    "    \n",
    "                \n",
    "    def anagram(self, s, t):\n",
    "        # write your code here\n",
    "        dicS = self.countchar(s)\n",
    "        dicT = self.countchar(t)\n",
    "        if cmp(dicS,dicT):\n",
    "             return True\n",
    "        else:\n",
    "            return False\n",
    "        "
   ]
  },
  {
   "cell_type": "markdown",
   "metadata": {},
   "source": [
    "a ,b = \"ABCDEFG\", \"ACC\"\n",
    "cs = compareS()\n",
    "cs.compareStrings(a,b)\n"
   ]
  },
  {
   "cell_type": "code",
   "execution_count": 29,
   "metadata": {
    "collapsed": false
   },
   "outputs": [
    {
     "name": "stdout",
     "output_type": "stream",
     "text": [
      "{97: 1, 98: 1}\n",
      "{97: 1, 98: 1}\n"
     ]
    },
    {
     "data": {
      "text/plain": [
       "False"
      ]
     },
     "execution_count": 29,
     "metadata": {},
     "output_type": "execute_result"
    }
   ],
   "source": [
    "a,b = 'ab','ba'\n",
    "t= compareS()\n",
    "t.anagram(a,b)"
   ]
  },
  {
   "cell_type": "markdown",
   "metadata": {},
   "source": []
  },
  {
   "cell_type": "code",
   "execution_count": 25,
   "metadata": {
    "collapsed": false
   },
   "outputs": [
    {
     "name": "stdout",
     "output_type": "stream",
     "text": [
      "['3', '50'] 2\n",
      "['50'] 1\n",
      "lis [50]\n",
      "['105'] 1\n",
      "lis [50, 105]\n",
      "['200'] 1\n",
      "lis [50, 105, 200]\n",
      "['5', '20'] 2\n",
      "75\n",
      "['30', '20', '15', '40', '100'] 5\n"
     ]
    }
   ],
   "source": [
    "def gy(ta,tb):\n",
    "    if ta < tb:\n",
    "        return gy(tb,ta)\n",
    "    if ta%tb !=0:\n",
    "        return gy(tb,ta%tb)\n",
    "    else:\n",
    "        return tb\n",
    "\n",
    "def gcd(ta,tb):\n",
    "    if ta< tb:\n",
    "        ta,tb = tb,ta\n",
    "    while tb != 0:\n",
    "        tmp = ta%tb;\n",
    "        ta = tb;\n",
    "        tb = tmp\n",
    "        \n",
    "    return ta\n",
    "    \n",
    "    \n",
    "import sys \n",
    "n,a=0,0\n",
    "lc=0\n",
    "fp = open(\"./data2.txt\")\n",
    "info = []\n",
    "lis = []\n",
    "#for line in sys.stdin.readlines():\n",
    "for line in fp.readlines():\n",
    "    temp = line.split()\n",
    "    print temp, len(temp)\n",
    "    \n",
    "    if len(temp)<2:\n",
    "        lis.extend(int(te) for te in temp)\n",
    "        print \"lis\",lis\n",
    "        continue\n",
    "    lc+=1\n",
    "    if lc > 1:\n",
    "        lc = 0\n",
    "        \n",
    "    if lc == 1:\n",
    "        n,a=int(temp[0]),int(temp[1])\n",
    "    else:\n",
    "        for b in temp:\n",
    "            b = int(b)\n",
    "            if b <= a:\n",
    "                a+=b\n",
    "            else:\n",
    "                #a+=gy(a,b)\n",
    "                a+= gcd(a,b)\n",
    "        print \"%s\" %a"
   ]
  },
  {
   "cell_type": "code",
   "execution_count": 1,
   "metadata": {
    "collapsed": false
   },
   "outputs": [
    {
     "data": {
      "text/plain": [
       "u'/Users/xiawei/ipython notebook script'"
      ]
     },
     "execution_count": 1,
     "metadata": {},
     "output_type": "execute_result"
    }
   ],
   "source": [
    "pwd"
   ]
  },
  {
   "cell_type": "code",
   "execution_count": 38,
   "metadata": {
    "collapsed": false
   },
   "outputs": [
    {
     "name": "stdout",
     "output_type": "stream",
     "text": [
      "['3', '50']\n",
      "n,a <type 'int'> <type 'int'> 3 50\n",
      "['50']\n",
      "[50]\n",
      "['105']\n",
      "[50, 105]\n",
      "['200']\n",
      "[50, 105, 200]\n",
      "lis\n",
      "lis\n",
      "lis\n",
      "ret: 110\n",
      "['5', '20']\n",
      "n,a <type 'int'> <type 'int'> 5 20\n",
      "['30', '20', '15', '40', '100']\n",
      "[30, 20, 15, 40, 100]\n",
      "lis\n",
      "lis\n",
      "lis\n",
      "lis\n",
      "lis\n",
      "ret: 205\n"
     ]
    }
   ],
   "source": [
    "def gy(ta,tb):\n",
    "    if ta < tb:\n",
    "        return gy(tb,ta)\n",
    "    if ta%tb !=0:\n",
    "        return gy(tb,ta%tb)\n",
    "    else:\n",
    "        return tb\n",
    "\n",
    "def gcd(ta,tb):\n",
    "    if ta< tb:\n",
    "        ta,tb = tb,ta\n",
    "    while tb != 0:\n",
    "        tmp = ta%tb;\n",
    "        ta = tb;\n",
    "        tb = tmp\n",
    "        \n",
    "    return ta\n",
    "\n",
    "import sys \n",
    "n,a=0,0\n",
    "lc=0\n",
    "info = []\n",
    "lis = []\n",
    "flag = False\n",
    "#for line in sys.stdin.readlines():\n",
    "fp = open(\"./data2.txt\")\n",
    "\n",
    "for line in fp.readlines():\n",
    "    \n",
    "    temp = line.split()\n",
    "    print temp\n",
    "    \n",
    "    if lc == 0 and len(temp) == 2:\n",
    "        lc += 1\n",
    "        n,a=int(temp[0]),int(temp[1])\n",
    "        print \"n,a\",type(n),type(a),n,a\n",
    "        \n",
    "    elif len(lis) < n:\n",
    "        lis.extend(int(te) for te in temp)\n",
    "        print lis\n",
    "        if len(lis) == n :\n",
    "            flag = True\n",
    "        #    print \"break\"\n",
    "        #    break\n",
    "        else:\n",
    "            continue\n",
    "        \n",
    "    #if lc > 0:\n",
    "    #   lc = 0\n",
    "        \n",
    "    if flag is True:\n",
    "        #n,a=int(temp[0]),int(temp[1])\n",
    "        for b in lis:\n",
    "            print \"lis\"\n",
    "            if b <= a:\n",
    "                a+=b\n",
    "            else:\n",
    "                a+=gcd(a,b)\n",
    "        print \"ret: %s\" %a\n",
    "        lc,lis = 0,[]\n",
    "        flag = False"
   ]
  },
  {
   "cell_type": "code",
   "execution_count": 40,
   "metadata": {
    "collapsed": false
   },
   "outputs": [
    {
     "name": "stdout",
     "output_type": "stream",
     "text": [
      "110\n",
      "205\n"
     ]
    }
   ],
   "source": [
    "def gy(ta,tb):\n",
    "    if ta < tb:\n",
    "        return gy(tb,ta)\n",
    "    if ta%tb !=0:\n",
    "        return gy(tb,ta%tb)\n",
    "    else:\n",
    "        return tb\n",
    "\n",
    "def gcd(ta,tb):\n",
    "    if ta< tb:\n",
    "        ta,tb = tb,ta\n",
    "    while tb != 0:\n",
    "        tmp = ta%tb;\n",
    "        ta = tb;\n",
    "        tb = tmp\n",
    "        \n",
    "    return ta\n",
    "\n",
    "import sys \n",
    "n,a=0,0\n",
    "lc=0\n",
    "info = []\n",
    "lis = []\n",
    "flag = False\n",
    "#for line in sys.stdin.readlines():\n",
    "fp = open(\"./data2.txt\")\n",
    "\n",
    "for line in fp.readlines():\n",
    "    \n",
    "    temp = line.split()\n",
    "    #print temp\n",
    "    \n",
    "    if lc == 0 and len(temp) == 2:\n",
    "        lc += 1\n",
    "        n,a=int(temp[0]),int(temp[1])\n",
    "        #print \"n,a\",type(n),type(a),n,a\n",
    "        \n",
    "    elif len(lis) < n:\n",
    "        lis.extend(int(te) for te in temp)\n",
    "        #print lis\n",
    "        if len(lis) == n :\n",
    "            flag = True\n",
    "        #    print \"break\"\n",
    "        #    break\n",
    "        else:\n",
    "            continue\n",
    "        \n",
    "    #if lc > 0:\n",
    "    #   lc = 0\n",
    "        \n",
    "    if flag is True:\n",
    "        #n,a=int(temp[0]),int(temp[1])\n",
    "        for b in lis:\n",
    "            #print \"lis\"\n",
    "            if b <= a:\n",
    "                a+=b\n",
    "            else:\n",
    "                a+=gcd(a,b)\n",
    "        print \"%s\" %a\n",
    "        lc,lis = 0,[]\n",
    "        flag = False"
   ]
  },
  {
   "cell_type": "markdown",
   "metadata": {},
   "source": [
    "### 小易的升级之路—— 牛客网"
   ]
  },
  {
   "cell_type": "code",
   "execution_count": null,
   "metadata": {
    "collapsed": true
   },
   "outputs": [],
   "source": [
    "def gy(ta,tb):\n",
    "    if ta < tb:\n",
    "        return gy(tb,ta)\n",
    "    if ta%tb !=0:\n",
    "        return gy(tb,ta%tb)\n",
    "    else:\n",
    "        return tb\n",
    "    \n",
    "def gcd(ta,tb):\n",
    "    if ta< tb:\n",
    "        ta,tb = tb,ta\n",
    "    while tb != 0:\n",
    "        tmp = ta%tb;\n",
    "        ta = tb;\n",
    "        tb = tmp\n",
    "        \n",
    "    return ta\n",
    "\n",
    "import sys \n",
    "n,a=0,0\n",
    "lc=0\n",
    "info = []\n",
    "lis = []\n",
    "flag = False\n",
    "\n",
    "for line in sys.stdin.readlines():\n",
    "#fp = open(\"./data2.txt\")\n",
    "\n",
    "#for line in fp.readlines():\n",
    "    \n",
    "    temp = line.split()\n",
    "    #print temp\n",
    "    \n",
    "    if lc == 0 and len(temp) == 2:\n",
    "        lc += 1\n",
    "        n,a=int(temp[0]),int(temp[1])\n",
    "        #print \"n,a\",type(n),type(a),n,a\n",
    "        \n",
    "    elif len(lis) < n:\n",
    "        lis.extend(int(te) for te in temp)\n",
    "        #print lis\n",
    "        if len(lis) == n :\n",
    "            flag = True\n",
    "        #    print \"break\"\n",
    "        #    break\n",
    "        else:\n",
    "            continue\n",
    "        \n",
    "    #if lc > 0:\n",
    "    #   lc = 0\n",
    "        \n",
    "    if flag is True:\n",
    "        #n,a=int(temp[0]),int(temp[1])\n",
    "        for b in lis:\n",
    "            #print \"lis\"\n",
    "            if b <= a:\n",
    "                a+=b\n",
    "            else:\n",
    "                a+=gcd(a,b)\n",
    "        print \"%s\" %a\n",
    "        lc,lis = 0,[]\n",
    "        flag = False\n"
   ]
  },
  {
   "cell_type": "code",
   "execution_count": 3,
   "metadata": {
    "collapsed": false
   },
   "outputs": [],
   "source": [
    "set??"
   ]
  }
 ],
 "metadata": {
  "kernelspec": {
   "display_name": "Python 2",
   "language": "python",
   "name": "python2"
  },
  "language_info": {
   "codemirror_mode": {
    "name": "ipython",
    "version": 2
   },
   "file_extension": ".py",
   "mimetype": "text/x-python",
   "name": "python",
   "nbconvert_exporter": "python",
   "pygments_lexer": "ipython2",
   "version": "2.7.11"
  }
 },
 "nbformat": 4,
 "nbformat_minor": 0
}
