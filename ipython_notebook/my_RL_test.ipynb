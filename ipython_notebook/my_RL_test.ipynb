{
 "cells": [
  {
   "cell_type": "markdown",
   "metadata": {},
   "source": [
    "## my RL test for NFQ"
   ]
  },
  {
   "cell_type": "markdown",
   "metadata": {},
   "source": [
    "from [stackoverflow](http://stackoverflow.com/questions/17962592/pybrain-nfq-customizing-network)\n",
    "\n",
    "\n",
    "At the moment I'm using the NFQ algorithm from pybrain. I would like to experiment with different kind of networks (number of neurons in the hidden layer, e.g) Is there a possibility to do this?\n",
    "\n",
    "self.controller = ActionValueNetwork(3,3)\n",
    "For example, let me just set the input and output neurons.\n",
    "\n",
    "Thanks\n",
    "\n",
    "\n",
    "Unfortunately I've found that it is not possible to do this with functions provided by pyBrain itself, because there is only one ActionValueNetwork constructor.\n",
    "\n",
    "But you could add some functionality to pyBrain yourself to reach this goal. I have been looking into this part of pyBrain yesterday and it seemed not too hard to do this. look at the file pybrain/rl/learners/valuebased/interface.py for the ActionValueNetwork class. You could add your own constructor there with more arguments and call BuildNetwork() with it. For the BuildNetwork() function look in pybrain/tools/shortcuts.py\n",
    "\n",
    "I hope this helps!"
   ]
  },
  {
   "cell_type": "markdown",
   "metadata": {},
   "source": [
    "**some resouce**\n",
    "\n",
    "[Using PyBrain in computer games](https://rdmilligan.wordpress.com/2014/10/27/using-pybrain-in-computer-games/)\n",
    "\n",
    "[Simon's technical blog](http://simontechblog.blogspot.hk/2010/08/pybrain-reinforcement-learning-tutorial_07.html)\n",
    "\n",
    "[PyBrain tutorial](http://pybrain.org/docs/tutorial/reinforcement-learning.html)\n",
    "\n",
    "[Using ODE Environments](http://pybrain.org/docs/advanced/ode.html#using-ode-environments)\n",
    "\n",
    "- RL Components: [Learners](http://pybrain.org/docs/api/rl/learners.html)"
   ]
  }
 ],
 "metadata": {
  "kernelspec": {
   "display_name": "Python 2",
   "language": "python",
   "name": "python2"
  },
  "language_info": {
   "codemirror_mode": {
    "name": "ipython",
    "version": 2
   },
   "file_extension": ".py",
   "mimetype": "text/x-python",
   "name": "python",
   "nbconvert_exporter": "python",
   "pygments_lexer": "ipython2",
   "version": "2.7.11"
  }
 },
 "nbformat": 4,
 "nbformat_minor": 0
}
