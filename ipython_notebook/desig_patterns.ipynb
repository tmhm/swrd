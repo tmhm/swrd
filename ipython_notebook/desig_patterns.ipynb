{
 "cells": [
  {
   "cell_type": "markdown",
   "metadata": {},
   "source": [
    "## 工厂模式 ##\n",
    "\n",
    "工厂模式是一种创造型设计模式，正如其名，它像工厂一样生产出对象实例。\n",
    "\n",
    "该模式的主要目的是将可能扩展到不同类中的创建过程封装进单个函数。通过提供合适的上下文，它会返回合适的对象。\n",
    "\n",
    "### 何时使用它？ ###\n",
    "\n",
    "使用工厂模式的最佳时机是你的单个实体有多个变种时。假设你有一个按钮类，该类有不同的变化，比如图像按钮，输入按钮，flash按钮。你可以会根据不同场景创建不同的按钮，此时便可以使用工厂来为你创造按钮。\n",
    "首先我们先创造三个类："
   ]
  },
  {
   "cell_type": "code",
   "execution_count": 4,
   "metadata": {
    "collapsed": true
   },
   "outputs": [],
   "source": [
    "class Button(object):\n",
    "    html = \"\"\n",
    "    def get_html(self):\n",
    "        return self.html\n",
    " \n",
    "class Image(Button):\n",
    "    html = \"<img></img>\"\n",
    " \n",
    "class Input(Button):\n",
    "    html = \"<input></input>\"\n",
    " \n",
    "class Flash(Button):\n",
    "    html = \"<obj></obj>\""
   ]
  },
  {
   "cell_type": "code",
   "execution_count": 14,
   "metadata": {
    "collapsed": true
   },
   "outputs": [],
   "source": [
    "#译注：globals()将以字典的方式返回所有全局变量，因此targetclass = typ.capitalize()将通过传入的typ字符串得到类名(Image、Input或Flash)，\n",
    "#而globals()[targetclass]将通过类名取到类的类(见元类)，而globals()[targetclass]()将创建此类的对象。\n",
    "class ButtonFactory():\n",
    "    def create_button(self, typ):\n",
    "        targetclass = typ.capitalize()\n",
    "        return globals()[targetclass]()"
   ]
  },
  {
   "cell_type": "code",
   "execution_count": 9,
   "metadata": {
    "collapsed": false
   },
   "outputs": [
    {
     "name": "stdout",
     "output_type": "stream",
     "text": [
      "<img></img>\n",
      "<input></input>\n",
      "<obj></obj>\n"
     ]
    }
   ],
   "source": [
    "button_obj = ButtonFactory()\n",
    "button = ['image', 'input', 'flash']\n",
    "for b in button:\n",
    "    print button_obj.create_button(b).get_html()"
   ]
  },
  {
   "cell_type": "markdown",
   "metadata": {},
   "source": [
    "### 单例模式\n",
    "单例模式是一种创造型模式，它保证你在runtime时只有一个特定的实例，提供一个全局的指针。\n",
    "\n",
    "这为其他人调用该实例变得更加简单，由于该变量总会返回同样的东西。\n",
    "\n",
    "#### 何时使用它？\n",
    "单例模式也许是最简单的设计模式了。它给某个特殊的类型提供了独一无二的实例。为了达成这点 ，你必须操纵该类型的创建过程。一种简便的方法是将单例委托给一个内部的私有类。"
   ]
  },
  {
   "cell_type": "code",
   "execution_count": 13,
   "metadata": {
    "collapsed": false
   },
   "outputs": [
    {
     "name": "stdout",
     "output_type": "stream",
     "text": [
      "<__main__.__OnlyOne instance at 0x0000000003F31A08>sausage\n",
      "<__main__.__OnlyOne instance at 0x0000000003F31A08>eggs\n",
      "<__main__.__OnlyOne instance at 0x0000000003F31A08>spam\n",
      "<__main__.__OnlyOne instance at 0x0000000003F31A08>spam\n",
      "<__main__.__OnlyOne instance at 0x0000000003F31A08>spam\n",
      "<__main__.OnlyOne instance at 0x0000000003F31888>\n",
      "<__main__.OnlyOne instance at 0x0000000003F31C08>\n",
      "<__main__.OnlyOne instance at 0x0000000003F31A48>\n"
     ]
    }
   ],
   "source": [
    "class OnlyOne:\n",
    "    class __OnlyOne:\n",
    "        def __init__(self, arg):\n",
    "            self.val = arg\n",
    "        def __str__(self):\n",
    "            return repr(self) + self.val\n",
    "    instance = None\n",
    "    def __init__(self, arg):\n",
    "        if not OnlyOne.instance:\n",
    "            OnlyOne.instance = OnlyOne.__OnlyOne(arg)\n",
    "        else:\n",
    "            OnlyOne.instance.val = arg\n",
    "    def __getattr__(self, name):\n",
    "        return getattr(self.instance, name)\n",
    "    \n",
    "x = OnlyOne('sausage')\n",
    "print(x)\n",
    "y = OnlyOne('eggs')\n",
    "print(y)\n",
    "z = OnlyOne('spam')\n",
    "print(z)\n",
    "print(x)\n",
    "print(y)\n",
    "print(`x`)\n",
    "print(`y`)\n",
    "print(`z`)"
   ]
  },
  {
   "cell_type": "markdown",
   "metadata": {},
   "source": [
    "### 策略模式"
   ]
  },
  {
   "cell_type": "code",
   "execution_count": 16,
   "metadata": {
    "collapsed": false
   },
   "outputs": [
    {
     "name": "stdout",
     "output_type": "stream",
     "text": [
      "Strategy Example 0\n",
      "Strategy Example 1 from execute 1\n",
      "Strategy Example 2 from execute 2\n"
     ]
    }
   ],
   "source": [
    "import types\n",
    "\n",
    "class StrategyExample:\n",
    "    def __init__(self, func=None):\n",
    "        self.name = 'Strategy Example 0'\n",
    "        if func is not None:\n",
    "            self.execute = types.MethodType(func, self)\n",
    "\n",
    "    def execute(self):\n",
    "        print(self.name)\n",
    "\n",
    "def execute_replacement1(self):\n",
    "    print(self.name + ' from execute 1')\n",
    "\n",
    "def execute_replacement2(self):\n",
    "    print(self.name + ' from execute 2')\n",
    "\n",
    "if __name__ == '__main__':\n",
    "    strat0 = StrategyExample()\n",
    "\n",
    "    strat1 = StrategyExample(execute_replacement1)\n",
    "    strat1.name = 'Strategy Example 1'\n",
    "\n",
    "    strat2 = StrategyExample(execute_replacement2)\n",
    "    strat2.name = 'Strategy Example 2'\n",
    "\n",
    "    strat0.execute()\n",
    "    strat1.execute()\n",
    "    strat2.execute()\n"
   ]
  }
 ],
 "metadata": {
  "kernelspec": {
   "display_name": "Python 2",
   "language": "python",
   "name": "python2"
  },
  "language_info": {
   "codemirror_mode": {
    "name": "ipython",
    "version": 2
   },
   "file_extension": ".py",
   "mimetype": "text/x-python",
   "name": "python",
   "nbconvert_exporter": "python",
   "pygments_lexer": "ipython2",
   "version": "2.7.11"
  }
 },
 "nbformat": 4,
 "nbformat_minor": 0
}
