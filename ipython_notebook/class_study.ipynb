{
 "cells": [
  {
   "cell_type": "markdown",
   "metadata": {},
   "source": [
    "$ \\alpha  \\beta  \\gamma  \\Gamma  \\delta  \\Delta $"
   ]
  },
  {
   "cell_type": "code",
   "execution_count": null,
   "metadata": {
    "collapsed": true
   },
   "outputs": [],
   "source": []
  },
  {
   "cell_type": "markdown",
   "metadata": {},
   "source": [
    "$$\n",
    "\\begin{aligned}\n",
    "\\dot{x} & = \\sigma(y-x) \\\\\n",
    "\\dot{y} & = \\rho x - y - xz \\\\\n",
    "\\dot{z} & = -\\beta z + xy\n",
    "\\end{aligned}\n",
    "$$"
   ]
  },
  {
   "cell_type": "markdown",
   "metadata": {},
   "source": [
    "$\\frac{1}{\\pi}=\\frac{2\\sqrt{2}}{9801}\\sum_{k=0}^\\infty\\frac{(4k)!(1103+26390k)}{(k!)^4396^{4k}}$\n"
   ]
  },
  {
   "cell_type": "code",
   "execution_count": 1,
   "metadata": {
    "collapsed": true
   },
   "outputs": [],
   "source": [
    "class Ball:\n",
    "    def __init__(self, radius):\n",
    "        if radius <= 0:\n",
    "            raise ValueError('必須是正數')\n",
    "        self.__radius = radius\n",
    "    \n",
    "    def getRadius(self):\n",
    "        return self.__radius\n",
    "        \n",
    "    def setRadius(self, radius):\n",
    "        self.__radius = radius\n",
    "        \n",
    "    def delRadius(self):\n",
    "        del self.__radius\n",
    "        \n",
    "    radius = property(getRadius, setRadius, delRadius, 'radius 特性說明')\n",
    "\n"
   ]
  },
  {
   "cell_type": "code",
   "execution_count": 2,
   "metadata": {
    "collapsed": false
   },
   "outputs": [
    {
     "name": "stdout",
     "output_type": "stream",
     "text": [
      "1.23\n",
      "2.31\n"
     ]
    }
   ],
   "source": [
    "#output\n",
    "ball = Ball(1.23)\n",
    "print ball.radius\n",
    "ball.radius = 2.31\n",
    "print ball.radius"
   ]
  },
  {
   "cell_type": "code",
   "execution_count": null,
   "metadata": {
    "collapsed": true
   },
   "outputs": [],
   "source": [
    "def getActionValues(self, state):\n",
    "        \"\"\" Run forward activation for each of the actions and returns all values. \"\"\"\n",
    "        values = array([self.network.activate(r_[state, one_to_n(i, self.numActions)]) for i in range(self.numActions)])\n",
    "        return values"
   ]
  },
  {
   "cell_type": "code",
   "execution_count": 2,
   "metadata": {
    "collapsed": false
   },
   "outputs": [
    {
     "name": "stdout",
     "output_type": "stream",
     "text": [
      "3\n"
     ]
    }
   ],
   "source": [
    "n = 2\n",
    "n+=1\n",
    "print n"
   ]
  },
  {
   "cell_type": "code",
   "execution_count": 3,
   "metadata": {
    "collapsed": false
   },
   "outputs": [
    {
     "name": "stdout",
     "output_type": "stream",
     "text": [
      "A List :  abc\n",
      "B List :  zara\n",
      "all : xyz\n"
     ]
    }
   ],
   "source": [
    "\n",
    "aList = [123, 'xyz', 'zara', 'abc'];\n",
    "\n",
    "print \"A List : \", aList.pop()\n",
    "print \"B List : \", aList.pop(2)\n",
    "print \"all :\", aList.pop()"
   ]
  },
  {
   "cell_type": "code",
   "execution_count": 6,
   "metadata": {
    "collapsed": false
   },
   "outputs": [
    {
     "name": "stdout",
     "output_type": "stream",
     "text": [
      "[1, 2, 3]\n",
      "[10, -3] \n",
      " c 3.000000 :\n"
     ]
    }
   ],
   "source": [
    "a = [1,2,3,4,5]\n",
    "print a[:3]\n",
    "b=list()\n",
    "b.append(10)\n",
    "c= 3\n",
    "b.append(-c)\n",
    "print b, \"\\n c %f :\" %c\n"
   ]
  },
  {
   "cell_type": "code",
   "execution_count": 18,
   "metadata": {
    "collapsed": false
   },
   "outputs": [
    {
     "name": "stdout",
     "output_type": "stream",
     "text": [
      "if a:  4\n"
     ]
    }
   ],
   "source": [
    "a= 3\n",
    "b= 10\n",
    "if b>2:\n",
    "  \n",
    "    a += 1\n",
    "    print \"if a: \",a\n",
    "elif b>7:\n",
    "    a -=4\n",
    "    print \"elif a: \",a\n",
    "    \n",
    "else :\n",
    "    a += 10\n",
    "    print \"else a:\" ,a"
   ]
  },
  {
   "cell_type": "markdown",
   "metadata": {},
   "source": [
    "单个'/'是浮点除，两个除号'//'是整除，\n",
    "而且**整除也适用于浮点数，但是，用整除计算浮点除的结果只是在整除的结果上*浮点话*，比如3.6//2.1,结果是1.0。"
   ]
  },
  {
   "cell_type": "code",
   "execution_count": 17,
   "metadata": {
    "collapsed": false,
    "scrolled": true
   },
   "outputs": [
    {
     "name": "stdout",
     "output_type": "stream",
     "text": [
      "5 5.0 5.0\n",
      "5 3.0 3.33333333333\n",
      "5 2 2\n",
      "5 1 1\n",
      "5 1 1\n",
      "5 1 1\n",
      "5 0 0\n",
      "3.6/2.1 = 1.71428571429\n",
      "3.6//2.1 = 1.0\n"
     ]
    }
   ],
   "source": [
    "\n",
    "a = 5\n",
    "for i in [1.0,1.5,2,3,4,5,6]:\n",
    "    \n",
    "    b= 5//i\n",
    "    c = 5/i\n",
    "    print a, b,c\n",
    "print \"3.6/2.1 =\",3.6/2.1  \n",
    "print \"3.6//2.1 =\",3.6//2.1, "
   ]
  },
  {
   "cell_type": "code",
   "execution_count": 23,
   "metadata": {
    "collapsed": false
   },
   "outputs": [
    {
     "name": "stdout",
     "output_type": "stream",
     "text": [
      "a is not None\n",
      "else \n"
     ]
    }
   ],
   "source": [
    "a = 4\n",
    "if a is None:\n",
    "    print \"a is None.\"\n",
    "elif a is not None:\n",
    "    print \"a is not None\"\n",
    "    \n",
    "b= 1\n",
    "if not b:\n",
    "    print \"not b\"\n",
    "else:\n",
    "    print \"else \""
   ]
  },
  {
   "cell_type": "code",
   "execution_count": 19,
   "metadata": {
    "collapsed": false
   },
   "outputs": [
    {
     "name": "stdout",
     "output_type": "stream",
     "text": [
      "b : [(0, 200, 0, 200, 0, 200)] type: <type 'list'>\n",
      "b1: (0, 200, 0, 200, 0, 200) type: <type 'tuple'>\n",
      "b2: [(0, 200), (0, 200), (0, 200)] type: <type 'list'>\n",
      "=========================\n",
      "0 type: <type 'int'> (0, 200) type: <type 'tuple'> \n",
      "\n",
      "200 type: <type 'int'> (0, 200) type: <type 'tuple'> \n",
      "\n",
      "0 type: <type 'int'> (0, 200) type: <type 'tuple'> \n",
      "\n",
      "sensor_limits: \n",
      "[(0, 200), (0, 200), (0, 200), (0, 200), (0, 200), (0, 200), (0, 200), (-1, 1), (-1, 1), (0, 250)]\n",
      "sensor_limits after append: \n",
      "[(0, 200), (0, 200), (0, 200), (0, 200), (0, 200), (0, 200), (0, 200), (-1, 1), (-1, 1), (0, 250), (0, 200)]\n"
     ]
    }
   ],
   "source": [
    "b= [(0,200)*3]\n",
    "\n",
    "print \"b :\" ,b , \"type:\" , type(b)\n",
    "b1 = (0,200)*3\n",
    "b2 = [(0,200)]*3\n",
    "print \"b1:\",b1 , \"type:\" , type(b1)\n",
    "print \"b2:\",b2 , \"type:\" , type(b2)\n",
    "print \"=========================\"\n",
    "for a1,a2 in zip(b1,b2):\n",
    "    print a1,\"type:\",type(a1),a2,\"type:\",type(a2),\n",
    "    print '\\n'\n",
    "    \n",
    "sensor_limits = [(0,200)]*7 + [(-1,1)]*2 +[(0,250)]\n",
    "print \"sensor_limits: \\n\" ,sensor_limits\n",
    "sensor_limits.append((0,200))\n",
    "print \"sensor_limits after append: \\n\" ,sensor_limits"
   ]
  },
  {
   "cell_type": "markdown",
   "metadata": {},
   "source": [
    "### isinstance  \n",
    "  \n",
    "isinstance(object, classinfo)  判断一个对象是否是一个已知的类型。  \n",
    "\n",
    "    isinstance(object, class-or-type-or-tuple) -> bool  \n",
    "      \n",
    "    Return whether an object is an instance of a class or of a subclass thereof.  \n",
    "    With a type as second argument, return whether that is the object's type.  \n",
    "    The form using a tuple, isinstance(x, (A, B, ...)), is a shortcut for  \n",
    "    isinstance(x, A) or isinstance(x, B) or ... (etc.).  \n",
    "  \n",
    "其第一个参数为对象，第二个为类型名或类型名的一个列表。其返回值为布尔型。若对象的类型与参数二的类型相同则返回True。若参数二为一个元组，则若对象类型与元组中类型名之一相同即返回True。  "
   ]
  },
  {
   "cell_type": "code",
   "execution_count": 4,
   "metadata": {
    "collapsed": false
   },
   "outputs": [
    {
     "name": "stdout",
     "output_type": "stream",
     "text": [
      "[3]\n",
      "True\n",
      "True\n",
      "True\n",
      "False\n"
     ]
    }
   ],
   "source": [
    "tes = list()\n",
    "tes.append(3)\n",
    "ta= 'a','b'\n",
    "print tes\n",
    "print isinstance(tes, list)\n",
    "print isinstance(ta, tuple)\n",
    "\n",
    "print isinstance(tes,(int, tuple, list))\n",
    "print isinstance(tes,(int, tuple))"
   ]
  },
  {
   "cell_type": "code",
   "execution_count": 2,
   "metadata": {
    "collapsed": false,
    "scrolled": false
   },
   "outputs": [
    {
     "name": "stdout",
     "output_type": "stream",
     "text": [
      "id(object) -> integer\n",
      "\n",
      "Return the identity of an object.  This is guaranteed to be unique among\n",
      "simultaneously existing objects.  (Hint: it's the object's memory address.)\n"
     ]
    }
   ],
   "source": [
    "print id.__doc__\n"
   ]
  },
  {
   "cell_type": "markdown",
   "metadata": {},
   "source": [
    "### python中的引用对象问题：\n",
    "\n",
    "\n",
    "1. python不允许程序员选择采用传值还是传引用。\n",
    "    \n",
    "    - Python参数传递采用的肯定是“传对象引用”的方式。实际上，这种方式相当于传值和传引用的一种综合。如果函数收到的是一个可变对象（比如字典或者列表）的引用，就能修改对象的原始值——相当于通过“传引用”来传递对象。\n",
    "    \n",
    "    - 如果函数收到的是一个不可变对象（比如数字、字符或者元组）的引用，就不能直接修改原始对象——相当于通过“传值'来传递对象。\n",
    "    \n",
    "2. 当人们复制列表或字典时，就复制了对象列表的引用，如果改变引用的值，则修改了原始的参数。\n",
    "\n",
    "3. 为了简化内存管理，Python通过引用计数机制实现自动垃圾回收功能，Python中的每个对象都有一个引用计数，用来计数该对象在不同场所分别被引用了多少次。每当引用一次Python对象，相应的引用计数就增1，每当消毁一次Python对象，则相应的引用就减1，只有当引用计数为零时，才真正从内存中删除Python对象。\n",
    "\n",
    "[参考](http://www.cnblogs.com/yuyan/archive/2012/04/21/2461673.html)"
   ]
  },
  {
   "cell_type": "code",
   "execution_count": 19,
   "metadata": {
    "collapsed": false
   },
   "outputs": [
    {
     "name": "stdout",
     "output_type": "stream",
     "text": [
      "42295960\n",
      "42295960\n",
      "change b to 3 \n",
      "a: 1, b: 3\n",
      "a id is : 42295960; b id is : 42295912\n"
     ]
    }
   ],
   "source": [
    "# variable 动态创建一个新的变量，但是，list，tuple，dictionary 却不会创建新的实例\n",
    "a= 1\n",
    "b = a\n",
    "print id(a)\n",
    "print id(b)\n",
    "\n",
    "b = 3\n",
    "print \"change b to 3 \"\n",
    "print  \"a: %s, b: %s\" %(a ,b)\n",
    "print \"a id is : %s; b id is : %s\" %(id(a),id(b))"
   ]
  },
  {
   "cell_type": "code",
   "execution_count": 25,
   "metadata": {
    "collapsed": false
   },
   "outputs": [
    {
     "name": "stdout",
     "output_type": "stream",
     "text": [
      "66189960\n",
      "66189960\n",
      "change b to 3 \n",
      "a: [1, 2, 6], b: [1, 2, 6]\n",
      "a id is : 66189960; b id is : 66189960\n"
     ]
    }
   ],
   "source": [
    "# list\n",
    "a= [1,2,3]\n",
    "b = a   # 引用\n",
    "print id(a)\n",
    "print id(b)\n",
    "\n",
    "b[2] = 6\n",
    "print \"change b to 3 \"\n",
    "print  \"a: %s, b: %s\" %(a ,b)\n",
    "print \"a id is : %s; b id is : %s\" %(id(a),id(b))"
   ]
  },
  {
   "cell_type": "code",
   "execution_count": 38,
   "metadata": {
    "collapsed": false
   },
   "outputs": [
    {
     "name": "stdout",
     "output_type": "stream",
     "text": [
      "65422344\n",
      "65421832\n",
      "change b to 3 \n",
      "a: [1, 2, 3], b: [1, 2, 6]\n",
      "a id is : 65422344; b id is : 65421832\n"
     ]
    }
   ],
   "source": [
    "# list\n",
    "a= [1,2,3]\n",
    "b = a[:] # 值拷贝， 创建了新的对象实例\n",
    "print id(a)\n",
    "print id(b)\n",
    "\n",
    "b[2] = 6\n",
    "print \"change b to 3 \"\n",
    "print  \"a: %s, b: %s\" %(a ,b)\n",
    "print \"a id is : %s; b id is : %s\" %(id(a),id(b))"
   ]
  },
  {
   "cell_type": "code",
   "execution_count": 32,
   "metadata": {
    "collapsed": false
   },
   "outputs": [
    {
     "name": "stdout",
     "output_type": "stream",
     "text": [
      "66214904\n",
      "66214904\n",
      "change b to 3 \n",
      "a: {'tb': 6, 'tc': 33, 'ta': 11},\n",
      " b: {'tb': 6, 'tc': 33, 'ta': 11}\n",
      "a id is : 66214904;\n",
      " b id is : 66214904\n"
     ]
    }
   ],
   "source": [
    "# dictionary\n",
    "a= {'ta':11,'tb':22,'tc':33}\n",
    "b = a # 引用，改变的是原实例的值\n",
    "print id(a)\n",
    "print id(b)\n",
    "\n",
    "b['tb'] = 6\n",
    "print \"change b to 3 \"\n",
    "print  \"a: %s,\\n b: %s\" %(a ,b)\n",
    "print \"a id is : %s;\\n b id is : %s\" %(id(a),id(b))"
   ]
  },
  {
   "cell_type": "code",
   "execution_count": 36,
   "metadata": {
    "collapsed": false
   },
   "outputs": [
    {
     "name": "stdout",
     "output_type": "stream",
     "text": [
      "66132296\n",
      "66132296\n",
      "change b to 3 \n",
      "a: (1, 2, 3),\n",
      " b: (1, 2, 3)\n",
      "a id is : 66132296;\n",
      " b id is : 66132296\n"
     ]
    }
   ],
   "source": [
    "# tuple 元组用\"()\"标识。内部元素用逗号隔开。但是元组不能二次赋值，相当于只读列表。\n",
    "a= (1,2,3)\n",
    "b = a\n",
    "print id(a)\n",
    "print id(b)\n",
    "\n",
    "# b[0] = 6\n",
    "print \"change b to 3 \"\n",
    "print  \"a: %s,\\n b: %s\" %(a ,b)\n",
    "print \"a id is : %s;\\n b id is : %s\" %(id(a),id(b))"
   ]
  },
  {
   "cell_type": "code",
   "execution_count": 40,
   "metadata": {
    "collapsed": false
   },
   "outputs": [
    {
     "name": "stdout",
     "output_type": "stream",
     "text": [
      "[1, 2, 3]\n",
      "[1, 2, 3, 1]\n"
     ]
    }
   ],
   "source": [
    "def add_list(p):\n",
    "    p = p + [1]\n",
    "p1 = [1,2,3]\n",
    "add_list(p1)\n",
    "print p1\n",
    "\n",
    "\n",
    "def add_list2(p):\n",
    "    p += [1]\n",
    "p2 = [1,2,3]\n",
    "add_list2(p2)\n",
    "print p2\n"
   ]
  },
  {
   "cell_type": "code",
   "execution_count": 45,
   "metadata": {
    "collapsed": false
   },
   "outputs": [
    {
     "name": "stdout",
     "output_type": "stream",
     "text": [
      "a:  [{'num': 3, 'sqrt': 9}, {'num': 3, 'sqrt': 9}, {'num': 3, 'sqrt': 9}]\n",
      "c:  [{'num': 1, 'sqrt': 1}, {'num': 2, 'sqrt': 4}, {'num': 3, 'sqrt': 9}]\n"
     ]
    }
   ],
   "source": [
    "# 字典引用\n",
    "a = []\n",
    "b = {'num':0, 'sqrt':0}\n",
    "resurse = [1,2,3]\n",
    "for i in resurse:\n",
    "  b['num'] = i\n",
    "  b['sqrt'] = i * i\n",
    "  a.append(b)\n",
    "print \"a: \",a\n",
    "\n",
    "c=[]\n",
    "for i in resurse:\n",
    "    c.append({\"num\":i, \"sqrt\":i*i})\n",
    "print \"c: \",c"
   ]
  },
  {
   "cell_type": "code",
   "execution_count": 6,
   "metadata": {
    "collapsed": false
   },
   "outputs": [
    {
     "name": "stdout",
     "output_type": "stream",
     "text": [
      "[(1, 6), (1, 7), (1, 8), (1, 9), (1, 10), (2, 6), (2, 7), (2, 8), (2, 9), (2, 10), (3, 6), (3, 7), (3, 8), (3, 9), (3, 10), (4, 6), (4, 7), (4, 8), (4, 9), (4, 10)]\n",
      "==========\n",
      "[(1, 6), (2, 7), (3, 8), (4, 9)]\n"
     ]
    }
   ],
   "source": [
    "a =[1,2,3,4]\n",
    "b =[6,7,8,9,10]\n",
    "\n",
    "print [(s1,s2) for s1 in a for s2 in b]\n",
    "print \"==========\"\n",
    "print [(s1,s2) for s1,s2 in zip(a,b) ]"
   ]
  },
  {
   "cell_type": "code",
   "execution_count": 17,
   "metadata": {
    "collapsed": false
   },
   "outputs": [
    {
     "name": "stdout",
     "output_type": "stream",
     "text": [
      "[1, 2, 3]\n"
     ]
    }
   ],
   "source": [
    "a=[1,2,3]\n",
    "# a = None\n",
    "assert len(a) < 5  # 为真通过\n",
    "assert a != None \n",
    "print a\n"
   ]
  },
  {
   "cell_type": "code",
   "execution_count": 18,
   "metadata": {
    "collapsed": false
   },
   "outputs": [
    {
     "name": "stdout",
     "output_type": "stream",
     "text": [
      "3\n"
     ]
    }
   ],
   "source": [
    "a = [1,2,3]\n",
    "print len(a)"
   ]
  },
  {
   "cell_type": "code",
   "execution_count": 1,
   "metadata": {
    "collapsed": true
   },
   "outputs": [],
   "source": [
    "# 保存network\n",
    "from pybrain.tools.shortcuts import buildNetwork\n",
    "import pickle\n",
    "\n",
    "net = buildNetwork(2,4,1)\n",
    "\n",
    "fileObject = open('filename', 'w')\n",
    "\n",
    "pickle.dump(net, fileObject)\n",
    "\n",
    "fileObject.close()\n",
    "\n",
    "fileObject = open('filename','r')\n",
    "net = pickle.load(fileObject)"
   ]
  },
  {
   "cell_type": "code",
   "execution_count": 7,
   "metadata": {
    "collapsed": false
   },
   "outputs": [
    {
     "name": "stdout",
     "output_type": "stream",
     "text": [
      "[ 1.71715833]\n",
      "[ 1.71715833]\n"
     ]
    }
   ],
   "source": [
    "# pickle 的C语言版本， P得大写，  即 cPickle\n",
    "from pybrain.tools.shortcuts import buildNetwork\n",
    "import cPickle\n",
    "\n",
    "net = buildNetwork(2,4,1)\n",
    "\n",
    "fileObject = open('filename', 'w')\n",
    "\n",
    "cPickle.dump(net, fileObject)\n",
    "\n",
    "fileObject.close()\n",
    "\n",
    "fileObject = open('filename','r')\n",
    "net2 = cPickle.load(fileObject)\n",
    "print net.activate((1,2))\n",
    "print net2.activate((1,2))"
   ]
  },
  {
   "cell_type": "code",
   "execution_count": 10,
   "metadata": {
    "collapsed": false
   },
   "outputs": [
    {
     "name": "stdout",
     "output_type": "stream",
     "text": [
      "[ 1.14931957]\n",
      "[ 1.14931957]\n"
     ]
    }
   ],
   "source": [
    "# Network read and write\n",
    "from pybrain.tools.shortcuts import buildNetwork\n",
    "from pybrain.tools.xml.networkwriter import NetworkWriter\n",
    "from pybrain.tools.xml.networkreader import NetworkReader\n",
    "\n",
    "net = buildNetwork(2,4,1)\n",
    "\n",
    "NetworkWriter.writeToFile(net, 'filename.xml')\n",
    "net2 = NetworkReader.readFrom('filename.xml') \n",
    "print net.activate((1,2))\n",
    "print net2.activate((1,2))"
   ]
  },
  {
   "cell_type": "code",
   "execution_count": 10,
   "metadata": {
    "collapsed": false
   },
   "outputs": [
    {
     "name": "stdout",
     "output_type": "stream",
     "text": [
      "[]\n"
     ]
    },
    {
     "data": {
      "text/plain": [
       "array([], shape=(0L, 3L), dtype=float64)"
      ]
     },
     "execution_count": 10,
     "metadata": {},
     "output_type": "execute_result"
    }
   ],
   "source": [
    "from scipy import zeros\n",
    "a= zeros((0, 4), float)\n",
    "print a\n",
    "zeros((0, 3), float)"
   ]
  },
  {
   "cell_type": "code",
   "execution_count": 33,
   "metadata": {
    "collapsed": false
   },
   "outputs": [],
   "source": [
    "class animal(object):  \n",
    "    def __init__(self):  \n",
    "        print 'animal init'  \n",
    "          \n",
    "    def say(self):  \n",
    "        print 'animal say'  \n",
    "        \n",
    "class dog(animal):  \n",
    "    def __init__(self):   \n",
    "        #animal.__init__(self)  \n",
    "        print 'dog init'  \n",
    "          \n",
    "    def say(self):  \n",
    "        animal.say(self)  \n",
    "        print 'dog say'  \n",
    "        \n",
    "class cat(animal):  \n",
    "    def __init__(self):   \n",
    "        #animal.__init__(self)  \n",
    "        print 'cat init'  \n",
    "          \n",
    "    def say(self):  \n",
    "        #animal.say(self)  \n",
    "        print 'cat say'  \n",
    "        \n",
    "class wolfhound(cat,dog):\n",
    "    def __init__(self):\n",
    "        print \"wolfhound init.\"\n",
    "    \n",
    "    def run(self):\n",
    "        print \"wolfhound run\"\n",
    "        "
   ]
  },
  {
   "cell_type": "code",
   "execution_count": 34,
   "metadata": {
    "collapsed": false
   },
   "outputs": [
    {
     "name": "stdout",
     "output_type": "stream",
     "text": [
      "dog init\n",
      "animal say\n",
      "dog say\n",
      "wolfhound init.\n",
      "wolfhound run\n",
      "cat say\n"
     ]
    }
   ],
   "source": [
    "d = dog()  \n",
    "d.say()  \n",
    "w = wolfhound()\n",
    "w.run()\n",
    "w.say()"
   ]
  },
  {
   "cell_type": "code",
   "execution_count": 20,
   "metadata": {
    "collapsed": false
   },
   "outputs": [
    {
     "name": "stdout",
     "output_type": "stream",
     "text": [
      "调用子类构造方法\n",
      "调用子类方法 child method\n",
      "调用父类方法\n",
      "父类属性 : 200\n"
     ]
    }
   ],
   "source": [
    "class Parent:        # 定义父类\n",
    "   parentAttr = 100\n",
    "   def __init__(self):\n",
    "      print \"调用父类构造函数\"\n",
    "\n",
    "   def parentMethod(self):\n",
    "      print '调用父类方法'\n",
    "\n",
    "   def setAttr(self, attr):\n",
    "      Parent.parentAttr = attr\n",
    "\n",
    "   def getAttr(self):\n",
    "      print \"父类属性 :\", Parent.parentAttr\n",
    "\n",
    "class Child(Parent): # 定义子类\n",
    "   def __init__(self):\n",
    "      print \"调用子类构造方法\"\n",
    "\n",
    "   def childMethod(self):\n",
    "      print '调用子类方法 child method'\n",
    "\n",
    "c = Child()          # 实例化子类\n",
    "c.childMethod()      # 调用子类的方法\n",
    "c.parentMethod()     # 调用父类方法\n",
    "c.setAttr(200)       # 再次调用父类的方法\n",
    "c.getAttr()          # 再次调用父类的方法"
   ]
  },
  {
   "cell_type": "code",
   "execution_count": 22,
   "metadata": {
    "collapsed": false
   },
   "outputs": [
    {
     "name": "stdout",
     "output_type": "stream",
     "text": [
      "net params length: [30],and in detial: \n",
      "[-0.41553792  1.60938622  0.09159058 -1.37015648  0.31102895 -1.91573435\n",
      "  0.29242125 -1.31622264 -1.96940472 -1.0350375  -0.27981987 -0.71200205\n",
      " -1.67496963 -1.02378206 -0.4704411   1.43794701  1.44550468  0.70355618\n",
      " -2.80163554 -0.44668533  0.59013807 -0.2920634  -0.58936122 -1.76992708\n",
      " -0.20619234  1.05457789  2.34099937 -0.78338568  0.23208603  0.15430617]\n"
     ]
    }
   ],
   "source": [
    "import numpy\n",
    "from pybrain.tools.shortcuts import buildNetwork\n",
    "net = buildNetwork(2,3,4,1)\n",
    "print \"net params length: [%s],and in detial: \\n\"% len(net.params) , net.params \n"
   ]
  },
  {
   "cell_type": "code",
   "execution_count": 23,
   "metadata": {
    "collapsed": false
   },
   "outputs": [
    {
     "name": "stdout",
     "output_type": "stream",
     "text": [
      "net params length: [30],and in detial: \n",
      "[ 0  1  2  3  4  5  6  7  8  9 10 11 12 13 14 15 16 17 18 19 20 21 22 23 24\n",
      " 25 26 27 28 29]\n"
     ]
    }
   ],
   "source": [
    "#new_params = numpy.array([1.0]* len(net.params))\n",
    "te = []\n",
    "for i in xrange(len(net.params)):\n",
    "    te.append(i)\n",
    "new_params = numpy.array(te)\n",
    "net._setParameters(new_params)\n",
    "print \"net params length: [%s],and in detial: \\n\"% len(net.params) , net.params "
   ]
  },
  {
   "cell_type": "code",
   "execution_count": 24,
   "metadata": {
    "collapsed": false,
    "scrolled": true
   },
   "outputs": [
    {
     "name": "stdout",
     "output_type": "stream",
     "text": [
      "bias -> out => [0]\n",
      "bias -> hidden0 => [1 2 3]\n",
      "bias -> hidden1 => [4 5 6 7]\n",
      "hidden1 -> out => [26 27 28 29]\n",
      "hidden0 -> hidden1 => [14 15 16 17 18 19 20 21 22 23 24 25]\n",
      "in -> hidden0 => [ 8  9 10 11 12 13]\n"
     ]
    }
   ],
   "source": [
    "# net is our neural network from previous example\n",
    "for c in [connection for connections in net.connections.values() for connection in connections]:\n",
    "    print(\"{} -> {} => {}\".format(c.inmod.name, c.outmod.name, c.params))"
   ]
  },
  {
   "cell_type": "code",
   "execution_count": 28,
   "metadata": {
    "collapsed": false
   },
   "outputs": [],
   "source": [
    "from pybrain.tools.xml.networkwriter import NetworkWriter\n",
    "from pybrain.tools.xml.networkreader import NetworkReader\n",
    "NetworkWriter.writeToFile(net,'testNet.xml')\n",
    "from pybrain.structure import SoftmaxLayer\n",
    "from pybrain.structure import LinearLayer, SigmoidLayer\n",
    "LinearLayer??"
   ]
  },
  {
   "cell_type": "code",
   "execution_count": 1,
   "metadata": {
    "collapsed": false
   },
   "outputs": [],
   "source": [
    "from pybrain.tools.shortcuts import buildNetwork\n",
    "from pybrain.tests.helpers import gradientCheck\n",
    "from pybrain.structure import TanhLayer\n",
    "\n",
    "n = buildNetwork(13, 15, 1, hiddenclass=TanhLayer)\n",
    "#n.randomize()\n",
    "#gradientCheck(n)"
   ]
  },
  {
   "cell_type": "code",
   "execution_count": 114,
   "metadata": {
    "collapsed": false
   },
   "outputs": [
    {
     "name": "stdout",
     "output_type": "stream",
     "text": [
      "[1.0, 2.0, 3.0, 4.0, 5.0, 6.0]\n",
      "2\n"
     ]
    }
   ],
   "source": [
    "# c.index(min(c))  enumerate\n",
    "a= [1,2,3,4,5,6]\n",
    "b = 3.2\n",
    "dd =[]\n",
    "dd=[float(td) for td in a]\n",
    "print dd\n",
    "dis = [(b-x)**2 for x in a]\n",
    "c= dis.index(min(dis ))\n",
    "print c"
   ]
  },
  {
   "cell_type": "code",
   "execution_count": 4,
   "metadata": {
    "collapsed": false
   },
   "outputs": [
    {
     "name": "stdout",
     "output_type": "stream",
     "text": [
      "min: 1\n",
      "max: 5\n"
     ]
    }
   ],
   "source": [
    "c = [-10, -45, 0, 5, 3, 50, 15, -20, 25]\n",
    "\n",
    "print \"min: %s\" %c.index(min(c))  # 返回最小值\n",
    "print \"max: %s\" %c.index(max(c)) # 返回最大值"
   ]
  },
  {
   "cell_type": "code",
   "execution_count": 20,
   "metadata": {
    "collapsed": false
   },
   "outputs": [
    {
     "name": "stdout",
     "output_type": "stream",
     "text": [
      "2016-05-31\n",
      "0.00300002098083\n"
     ]
    }
   ],
   "source": [
    "import time\n",
    "# ISOTIMEFORMAT='%Y-%m-%d %X'\n",
    "start = time.time()\n",
    "ISOTIMEFORMAT='%Y-%m-%d'\n",
    "t= time.strftime( ISOTIMEFORMAT, time.gmtime( time.time() ) )\n",
    "f = open( t + \"test.txt\",'wb')\n",
    "f.write(\"hello,\\n This is a test file\")\n",
    "f.close()\n",
    "print t\n",
    "\n",
    "elapsed = time.time() - start\n",
    "print elapsed"
   ]
  },
  {
   "cell_type": "code",
   "execution_count": 4,
   "metadata": {
    "collapsed": false
   },
   "outputs": [
    {
     "name": "stdout",
     "output_type": "stream",
     "text": [
      "3.75\n"
     ]
    }
   ],
   "source": [
    "from numpy import mean\n",
    "a= [4,4,3,4]\n",
    "b =mean(a)\n",
    "print b"
   ]
  },
  {
   "cell_type": "code",
   "execution_count": 10,
   "metadata": {
    "collapsed": false
   },
   "outputs": [
    {
     "name": "stdout",
     "output_type": "stream",
     "text": [
      "0:00:00.001000\n"
     ]
    }
   ],
   "source": [
    "import datetime, time\n",
    "starttime = datetime.datetime.now()\n",
    "for i in range(1000):\n",
    "    y = i+1\n",
    "endtime = datetime.datetime.now()\n",
    "\n",
    "\n",
    "endtime = datetime.datetime.now()\n",
    "print (endtime - starttime)"
   ]
  },
  {
   "cell_type": "code",
   "execution_count": 18,
   "metadata": {
    "collapsed": false
   },
   "outputs": [
    {
     "name": "stdout",
     "output_type": "stream",
     "text": [
      "0.0105317995579\n"
     ]
    }
   ],
   "source": [
    "import time\n",
    "start = time.clock()\n",
    "for i in range(10000):\n",
    "    y = i+1\n",
    "    \n",
    "end = time.clock()\n",
    "print end - start\n",
    "#time.time?\n",
    "#time.clock?"
   ]
  },
  {
   "cell_type": "code",
   "execution_count": 3,
   "metadata": {
    "collapsed": false
   },
   "outputs": [
    {
     "name": "stdout",
     "output_type": "stream",
     "text": [
      "Li 升序:  [0, 1, 1, 2, 3, 4, 5, 6]\n",
      "[1, 2, 3, 4, 5, 6]\n",
      "li 降序:  [6, 5, 4, 3, 2, 1]\n"
     ]
    }
   ],
   "source": [
    "li= [0,1,5,6,2,3,4]\n",
    "li.append(1)\n",
    "li.append(2)\n",
    "li.remove(2)\n",
    "li.remove(1)\n",
    "li.append(1)\n",
    "li.sort()\n",
    "print \"Li 升序: \",li\n",
    "del li[:2]\n",
    "print li\n",
    "li.sort(reverse = True)\n",
    "print \"li 降序: \", li\n"
   ]
  },
  {
   "cell_type": "code",
   "execution_count": 46,
   "metadata": {
    "collapsed": false
   },
   "outputs": [
    {
     "name": "stdout",
     "output_type": "stream",
     "text": [
      "[(3, 5), (2, 6), (1, 7), (0, 8)]\n",
      "{0: 8, 1: 7, 2: 6, 3: 5}\n",
      "7\n",
      "[(0, 8), (1, 7), (2, 6), (3, 5)]\n",
      "2\n",
      "3\n",
      "a end:  3\n",
      "[(0, 8), (1, 7), (2, 6), (3, 5)]\n"
     ]
    }
   ],
   "source": [
    "a= 5\n",
    "mydict={0:8,1:7,2:6,3:5}\n",
    "#for n,i in enumerate(xrange(a)):\n",
    "#    mydict.setdefault(n,i)\n",
    "print sorted(mydict.iteritems(), key=lambda e:e[1], reverse=False)\n",
    "a= sorted(mydict.iteritems(), key=lambda e:e[1], reverse=True)\n",
    "print mydict\n",
    "print mydict[1]\n",
    "print a\n",
    "l = len(a)\n",
    "cnt = 0\n",
    "for sep in a[2:]:\n",
    "    print sep[0]\n",
    "    \n",
    "print \"a end: \",a[-1][0]\n",
    "print a"
   ]
  },
  {
   "cell_type": "code",
   "execution_count": 72,
   "metadata": {
    "collapsed": false
   },
   "outputs": [
    {
     "name": "stdout",
     "output_type": "stream",
     "text": [
      "0.00120217661552\n",
      "======\n",
      "0.000834304427144\n"
     ]
    }
   ],
   "source": [
    "from random import sample\n",
    "l =8000\n",
    "mini_proportion =0.3\n",
    "import time\n",
    "start = time.clock()\n",
    "\n",
    "minIndices = sample(list(range(l)), int(l * mini_proportion))\n",
    "end = time.clock()\n",
    "print end - start\n",
    "print '======'\n",
    "start = time.clock()\n",
    "\n",
    "minIndices = sample(list(xrange(l)), int(l * mini_proportion))\n",
    "end = time.clock()\n",
    "print end - start\n",
    "\n",
    "\n"
   ]
  }
 ],
 "metadata": {
  "kernelspec": {
   "display_name": "Python 2",
   "language": "python",
   "name": "python2"
  },
  "language_info": {
   "codemirror_mode": {
    "name": "ipython",
    "version": 2
   },
   "file_extension": ".py",
   "mimetype": "text/x-python",
   "name": "python",
   "nbconvert_exporter": "python",
   "pygments_lexer": "ipython2",
   "version": "2.7.11"
  }
 },
 "nbformat": 4,
 "nbformat_minor": 0
}
