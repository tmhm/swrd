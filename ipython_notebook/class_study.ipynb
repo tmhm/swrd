{
 "cells": [
  {
   "cell_type": "markdown",
   "metadata": {},
   "source": [
    "$ \\alpha  \\beta  \\gamma  \\Gamma  \\delta  \\Delta $"
   ]
  },
  {
   "cell_type": "code",
   "execution_count": null,
   "metadata": {
    "collapsed": true
   },
   "outputs": [],
   "source": []
  },
  {
   "cell_type": "markdown",
   "metadata": {},
   "source": [
    "$$\n",
    "\\begin{aligned}\n",
    "\\dot{x} & = \\sigma(y-x) \\\\\n",
    "\\dot{y} & = \\rho x - y - xz \\\\\n",
    "\\dot{z} & = -\\beta z + xy\n",
    "\\end{aligned}\n",
    "$$"
   ]
  },
  {
   "cell_type": "markdown",
   "metadata": {},
   "source": [
    "$\\frac{1}{\\pi}=\\frac{2\\sqrt{2}}{9801}\\sum_{k=0}^\\infty\\frac{(4k)!(1103+26390k)}{(k!)^4396^{4k}}$\n"
   ]
  },
  {
   "cell_type": "code",
   "execution_count": 1,
   "metadata": {
    "collapsed": true
   },
   "outputs": [],
   "source": [
    "class Ball:\n",
    "    def __init__(self, radius):\n",
    "        if radius <= 0:\n",
    "            raise ValueError('必須是正數')\n",
    "        self.__radius = radius\n",
    "    \n",
    "    def getRadius(self):\n",
    "        return self.__radius\n",
    "        \n",
    "    def setRadius(self, radius):\n",
    "        self.__radius = radius\n",
    "        \n",
    "    def delRadius(self):\n",
    "        del self.__radius\n",
    "        \n",
    "    radius = property(getRadius, setRadius, delRadius, 'radius 特性說明')\n",
    "\n"
   ]
  },
  {
   "cell_type": "code",
   "execution_count": 2,
   "metadata": {
    "collapsed": false
   },
   "outputs": [
    {
     "name": "stdout",
     "output_type": "stream",
     "text": [
      "1.23\n",
      "2.31\n"
     ]
    }
   ],
   "source": [
    "#output\n",
    "ball = Ball(1.23)\n",
    "print ball.radius\n",
    "ball.radius = 2.31\n",
    "print ball.radius"
   ]
  },
  {
   "cell_type": "code",
   "execution_count": null,
   "metadata": {
    "collapsed": true
   },
   "outputs": [],
   "source": [
    "def getActionValues(self, state):\n",
    "        \"\"\" Run forward activation for each of the actions and returns all values. \"\"\"\n",
    "        values = array([self.network.activate(r_[state, one_to_n(i, self.numActions)]) for i in range(self.numActions)])\n",
    "        return values"
   ]
  },
  {
   "cell_type": "code",
   "execution_count": 2,
   "metadata": {
    "collapsed": false
   },
   "outputs": [
    {
     "name": "stdout",
     "output_type": "stream",
     "text": [
      "3\n"
     ]
    }
   ],
   "source": [
    "n = 2\n",
    "n+=1\n",
    "print n"
   ]
  },
  {
   "cell_type": "code",
   "execution_count": 3,
   "metadata": {
    "collapsed": false
   },
   "outputs": [
    {
     "name": "stdout",
     "output_type": "stream",
     "text": [
      "A List :  abc\n",
      "B List :  zara\n",
      "all : xyz\n"
     ]
    }
   ],
   "source": [
    "\n",
    "aList = [123, 'xyz', 'zara', 'abc'];\n",
    "\n",
    "print \"A List : \", aList.pop()\n",
    "print \"B List : \", aList.pop(2)\n",
    "print \"all :\", aList.pop()"
   ]
  },
  {
   "cell_type": "code",
   "execution_count": 6,
   "metadata": {
    "collapsed": false
   },
   "outputs": [
    {
     "name": "stdout",
     "output_type": "stream",
     "text": [
      "[1, 2, 3]\n",
      "[10, -3] \n",
      " c 3.000000 :\n"
     ]
    }
   ],
   "source": [
    "a = [1,2,3,4,5]\n",
    "print a[:3]\n",
    "b=list()\n",
    "b.append(10)\n",
    "c= 3\n",
    "b.append(-c)\n",
    "print b, \"\\n c %f :\" %c\n"
   ]
  },
  {
   "cell_type": "code",
   "execution_count": 18,
   "metadata": {
    "collapsed": false
   },
   "outputs": [
    {
     "name": "stdout",
     "output_type": "stream",
     "text": [
      "if a:  4\n"
     ]
    }
   ],
   "source": [
    "a= 3\n",
    "b= 10\n",
    "if b>2:\n",
    "  \n",
    "    a += 1\n",
    "    print \"if a: \",a\n",
    "elif b>7:\n",
    "    a -=4\n",
    "    print \"elif a: \",a\n",
    "    \n",
    "else :\n",
    "    a += 10\n",
    "    print \"else a:\" ,a"
   ]
  },
  {
   "cell_type": "markdown",
   "metadata": {},
   "source": [
    "单个'/'是浮点除，两个除号'//'是整除，\n",
    "而且**整除也适用于浮点数，但是，用整除计算浮点除的结果只是在整除的结果上*浮点话*，比如3.6//2.1,结果是1.0。"
   ]
  },
  {
   "cell_type": "code",
   "execution_count": 17,
   "metadata": {
    "collapsed": false,
    "scrolled": true
   },
   "outputs": [
    {
     "name": "stdout",
     "output_type": "stream",
     "text": [
      "5 5.0 5.0\n",
      "5 3.0 3.33333333333\n",
      "5 2 2\n",
      "5 1 1\n",
      "5 1 1\n",
      "5 1 1\n",
      "5 0 0\n",
      "3.6/2.1 = 1.71428571429\n",
      "3.6//2.1 = 1.0\n"
     ]
    }
   ],
   "source": [
    "\n",
    "a = 5\n",
    "for i in [1.0,1.5,2,3,4,5,6]:\n",
    "    \n",
    "    b= 5//i\n",
    "    c = 5/i\n",
    "    print a, b,c\n",
    "print \"3.6/2.1 =\",3.6/2.1  \n",
    "print \"3.6//2.1 =\",3.6//2.1, "
   ]
  },
  {
   "cell_type": "code",
   "execution_count": 23,
   "metadata": {
    "collapsed": false
   },
   "outputs": [
    {
     "name": "stdout",
     "output_type": "stream",
     "text": [
      "a is not None\n",
      "else \n"
     ]
    }
   ],
   "source": [
    "a = 4\n",
    "if a is None:\n",
    "    print \"a is None.\"\n",
    "elif a is not None:\n",
    "    print \"a is not None\"\n",
    "    \n",
    "b= 1\n",
    "if not b:\n",
    "    print \"not b\"\n",
    "else:\n",
    "    print \"else \""
   ]
  },
  {
   "cell_type": "code",
   "execution_count": 19,
   "metadata": {
    "collapsed": false
   },
   "outputs": [
    {
     "name": "stdout",
     "output_type": "stream",
     "text": [
      "b : [(0, 200, 0, 200, 0, 200)] type: <type 'list'>\n",
      "b1: (0, 200, 0, 200, 0, 200) type: <type 'tuple'>\n",
      "b2: [(0, 200), (0, 200), (0, 200)] type: <type 'list'>\n",
      "=========================\n",
      "0 type: <type 'int'> (0, 200) type: <type 'tuple'> \n",
      "\n",
      "200 type: <type 'int'> (0, 200) type: <type 'tuple'> \n",
      "\n",
      "0 type: <type 'int'> (0, 200) type: <type 'tuple'> \n",
      "\n",
      "sensor_limits: \n",
      "[(0, 200), (0, 200), (0, 200), (0, 200), (0, 200), (0, 200), (0, 200), (-1, 1), (-1, 1), (0, 250)]\n",
      "sensor_limits after append: \n",
      "[(0, 200), (0, 200), (0, 200), (0, 200), (0, 200), (0, 200), (0, 200), (-1, 1), (-1, 1), (0, 250), (0, 200)]\n"
     ]
    }
   ],
   "source": [
    "b= [(0,200)*3]\n",
    "\n",
    "print \"b :\" ,b , \"type:\" , type(b)\n",
    "b1 = (0,200)*3\n",
    "b2 = [(0,200)]*3\n",
    "print \"b1:\",b1 , \"type:\" , type(b1)\n",
    "print \"b2:\",b2 , \"type:\" , type(b2)\n",
    "print \"=========================\"\n",
    "for a1,a2 in zip(b1,b2):\n",
    "    print a1,\"type:\",type(a1),a2,\"type:\",type(a2),\n",
    "    print '\\n'\n",
    "    \n",
    "sensor_limits = [(0,200)]*7 + [(-1,1)]*2 +[(0,250)]\n",
    "print \"sensor_limits: \\n\" ,sensor_limits\n",
    "sensor_limits.append((0,200))\n",
    "print \"sensor_limits after append: \\n\" ,sensor_limits"
   ]
  },
  {
   "cell_type": "markdown",
   "metadata": {},
   "source": [
    "### isinstance  \n",
    "  \n",
    "isinstance(object, classinfo)  判断一个对象是否是一个已知的类型。  \n",
    "\n",
    "    isinstance(object, class-or-type-or-tuple) -> bool  \n",
    "      \n",
    "    Return whether an object is an instance of a class or of a subclass thereof.  \n",
    "    With a type as second argument, return whether that is the object's type.  \n",
    "    The form using a tuple, isinstance(x, (A, B, ...)), is a shortcut for  \n",
    "    isinstance(x, A) or isinstance(x, B) or ... (etc.).  \n",
    "  \n",
    "其第一个参数为对象，第二个为类型名或类型名的一个列表。其返回值为布尔型。若对象的类型与参数二的类型相同则返回True。若参数二为一个元组，则若对象类型与元组中类型名之一相同即返回True。  "
   ]
  },
  {
   "cell_type": "code",
   "execution_count": 4,
   "metadata": {
    "collapsed": false
   },
   "outputs": [
    {
     "name": "stdout",
     "output_type": "stream",
     "text": [
      "[3]\n",
      "True\n",
      "True\n",
      "True\n",
      "False\n"
     ]
    }
   ],
   "source": [
    "tes = list()\n",
    "tes.append(3)\n",
    "ta= 'a','b'\n",
    "print tes\n",
    "print isinstance(tes, list)\n",
    "print isinstance(ta, tuple)\n",
    "\n",
    "print isinstance(tes,(int, tuple, list))\n",
    "print isinstance(tes,(int, tuple))"
   ]
  },
  {
   "cell_type": "code",
   "execution_count": 2,
   "metadata": {
    "collapsed": false,
    "scrolled": false
   },
   "outputs": [
    {
     "name": "stdout",
     "output_type": "stream",
     "text": [
      "id(object) -> integer\n",
      "\n",
      "Return the identity of an object.  This is guaranteed to be unique among\n",
      "simultaneously existing objects.  (Hint: it's the object's memory address.)\n"
     ]
    }
   ],
   "source": [
    "print id.__doc__\n"
   ]
  },
  {
   "cell_type": "markdown",
   "metadata": {},
   "source": [
    "### python中的引用对象问题：\n",
    "\n",
    "\n",
    "1. python不允许程序员选择采用传值还是传引用。\n",
    "    \n",
    "    - Python参数传递采用的肯定是“传对象引用”的方式。实际上，这种方式相当于传值和传引用的一种综合。如果函数收到的是一个可变对象（比如字典或者列表）的引用，就能修改对象的原始值——相当于通过“传引用”来传递对象。\n",
    "    \n",
    "    - 如果函数收到的是一个不可变对象（比如数字、字符或者元组）的引用，就不能直接修改原始对象——相当于通过“传值'来传递对象。\n",
    "    \n",
    "2. 当人们复制列表或字典时，就复制了对象列表的引用，如果改变引用的值，则修改了原始的参数。\n",
    "\n",
    "3. 为了简化内存管理，Python通过引用计数机制实现自动垃圾回收功能，Python中的每个对象都有一个引用计数，用来计数该对象在不同场所分别被引用了多少次。每当引用一次Python对象，相应的引用计数就增1，每当消毁一次Python对象，则相应的引用就减1，只有当引用计数为零时，才真正从内存中删除Python对象。\n",
    "\n",
    "[参考](http://www.cnblogs.com/yuyan/archive/2012/04/21/2461673.html)"
   ]
  },
  {
   "cell_type": "code",
   "execution_count": 19,
   "metadata": {
    "collapsed": false
   },
   "outputs": [
    {
     "name": "stdout",
     "output_type": "stream",
     "text": [
      "42295960\n",
      "42295960\n",
      "change b to 3 \n",
      "a: 1, b: 3\n",
      "a id is : 42295960; b id is : 42295912\n"
     ]
    }
   ],
   "source": [
    "# variable 动态创建一个新的变量，但是，list，tuple，dictionary 却不会创建新的实例\n",
    "a= 1\n",
    "b = a\n",
    "print id(a)\n",
    "print id(b)\n",
    "\n",
    "b = 3\n",
    "print \"change b to 3 \"\n",
    "print  \"a: %s, b: %s\" %(a ,b)\n",
    "print \"a id is : %s; b id is : %s\" %(id(a),id(b))"
   ]
  },
  {
   "cell_type": "code",
   "execution_count": 25,
   "metadata": {
    "collapsed": false
   },
   "outputs": [
    {
     "name": "stdout",
     "output_type": "stream",
     "text": [
      "66189960\n",
      "66189960\n",
      "change b to 3 \n",
      "a: [1, 2, 6], b: [1, 2, 6]\n",
      "a id is : 66189960; b id is : 66189960\n"
     ]
    }
   ],
   "source": [
    "# list\n",
    "a= [1,2,3]\n",
    "b = a   # 引用\n",
    "print id(a)\n",
    "print id(b)\n",
    "\n",
    "b[2] = 6\n",
    "print \"change b to 3 \"\n",
    "print  \"a: %s, b: %s\" %(a ,b)\n",
    "print \"a id is : %s; b id is : %s\" %(id(a),id(b))"
   ]
  },
  {
   "cell_type": "code",
   "execution_count": 38,
   "metadata": {
    "collapsed": false
   },
   "outputs": [
    {
     "name": "stdout",
     "output_type": "stream",
     "text": [
      "65422344\n",
      "65421832\n",
      "change b to 3 \n",
      "a: [1, 2, 3], b: [1, 2, 6]\n",
      "a id is : 65422344; b id is : 65421832\n"
     ]
    }
   ],
   "source": [
    "# list\n",
    "a= [1,2,3]\n",
    "b = a[:] # 值拷贝， 创建了新的对象实例\n",
    "print id(a)\n",
    "print id(b)\n",
    "\n",
    "b[2] = 6\n",
    "print \"change b to 3 \"\n",
    "print  \"a: %s, b: %s\" %(a ,b)\n",
    "print \"a id is : %s; b id is : %s\" %(id(a),id(b))"
   ]
  },
  {
   "cell_type": "code",
   "execution_count": 32,
   "metadata": {
    "collapsed": false
   },
   "outputs": [
    {
     "name": "stdout",
     "output_type": "stream",
     "text": [
      "66214904\n",
      "66214904\n",
      "change b to 3 \n",
      "a: {'tb': 6, 'tc': 33, 'ta': 11},\n",
      " b: {'tb': 6, 'tc': 33, 'ta': 11}\n",
      "a id is : 66214904;\n",
      " b id is : 66214904\n"
     ]
    }
   ],
   "source": [
    "# dictionary\n",
    "a= {'ta':11,'tb':22,'tc':33}\n",
    "b = a # 引用，改变的是原实例的值\n",
    "print id(a)\n",
    "print id(b)\n",
    "\n",
    "b['tb'] = 6\n",
    "print \"change b to 3 \"\n",
    "print  \"a: %s,\\n b: %s\" %(a ,b)\n",
    "print \"a id is : %s;\\n b id is : %s\" %(id(a),id(b))"
   ]
  },
  {
   "cell_type": "code",
   "execution_count": 36,
   "metadata": {
    "collapsed": false
   },
   "outputs": [
    {
     "name": "stdout",
     "output_type": "stream",
     "text": [
      "66132296\n",
      "66132296\n",
      "change b to 3 \n",
      "a: (1, 2, 3),\n",
      " b: (1, 2, 3)\n",
      "a id is : 66132296;\n",
      " b id is : 66132296\n"
     ]
    }
   ],
   "source": [
    "# tuple 元组用\"()\"标识。内部元素用逗号隔开。但是元组不能二次赋值，相当于只读列表。\n",
    "a= (1,2,3)\n",
    "b = a\n",
    "print id(a)\n",
    "print id(b)\n",
    "\n",
    "# b[0] = 6\n",
    "print \"change b to 3 \"\n",
    "print  \"a: %s,\\n b: %s\" %(a ,b)\n",
    "print \"a id is : %s;\\n b id is : %s\" %(id(a),id(b))"
   ]
  },
  {
   "cell_type": "code",
   "execution_count": 40,
   "metadata": {
    "collapsed": false
   },
   "outputs": [
    {
     "name": "stdout",
     "output_type": "stream",
     "text": [
      "[1, 2, 3]\n",
      "[1, 2, 3, 1]\n"
     ]
    }
   ],
   "source": [
    "def add_list(p):\n",
    "    p = p + [1]\n",
    "p1 = [1,2,3]\n",
    "add_list(p1)\n",
    "print p1\n",
    "\n",
    "\n",
    "def add_list2(p):\n",
    "    p += [1]\n",
    "p2 = [1,2,3]\n",
    "add_list2(p2)\n",
    "print p2\n"
   ]
  },
  {
   "cell_type": "code",
   "execution_count": 45,
   "metadata": {
    "collapsed": false
   },
   "outputs": [
    {
     "name": "stdout",
     "output_type": "stream",
     "text": [
      "a:  [{'num': 3, 'sqrt': 9}, {'num': 3, 'sqrt': 9}, {'num': 3, 'sqrt': 9}]\n",
      "c:  [{'num': 1, 'sqrt': 1}, {'num': 2, 'sqrt': 4}, {'num': 3, 'sqrt': 9}]\n"
     ]
    }
   ],
   "source": [
    "# 字典引用\n",
    "a = []\n",
    "b = {'num':0, 'sqrt':0}\n",
    "resurse = [1,2,3]\n",
    "for i in resurse:\n",
    "  b['num'] = i\n",
    "  b['sqrt'] = i * i\n",
    "  a.append(b)\n",
    "print \"a: \",a\n",
    "\n",
    "c=[]\n",
    "for i in resurse:\n",
    "    c.append({\"num\":i, \"sqrt\":i*i})\n",
    "print \"c: \",c"
   ]
  },
  {
   "cell_type": "code",
   "execution_count": 6,
   "metadata": {
    "collapsed": false
   },
   "outputs": [
    {
     "name": "stdout",
     "output_type": "stream",
     "text": [
      "[(1, 6), (1, 7), (1, 8), (1, 9), (1, 10), (2, 6), (2, 7), (2, 8), (2, 9), (2, 10), (3, 6), (3, 7), (3, 8), (3, 9), (3, 10), (4, 6), (4, 7), (4, 8), (4, 9), (4, 10)]\n",
      "==========\n",
      "[(1, 6), (2, 7), (3, 8), (4, 9)]\n"
     ]
    }
   ],
   "source": [
    "a =[1,2,3,4]\n",
    "b =[6,7,8,9,10]\n",
    "\n",
    "print [(s1,s2) for s1 in a for s2 in b]\n",
    "print \"==========\"\n",
    "print [(s1,s2) for s1,s2 in zip(a,b) ]"
   ]
  },
  {
   "cell_type": "code",
   "execution_count": 17,
   "metadata": {
    "collapsed": false
   },
   "outputs": [
    {
     "name": "stdout",
     "output_type": "stream",
     "text": [
      "[1, 2, 3]\n"
     ]
    }
   ],
   "source": [
    "a=[1,2,3]\n",
    "# a = None\n",
    "assert len(a) < 5  # 为真通过\n",
    "assert a != None \n",
    "print a\n"
   ]
  },
  {
   "cell_type": "code",
   "execution_count": 18,
   "metadata": {
    "collapsed": false
   },
   "outputs": [
    {
     "name": "stdout",
     "output_type": "stream",
     "text": [
      "3\n"
     ]
    }
   ],
   "source": [
    "a = [1,2,3]\n",
    "print len(a)"
   ]
  },
  {
   "cell_type": "code",
   "execution_count": 1,
   "metadata": {
    "collapsed": true
   },
   "outputs": [],
   "source": [
    "# 保存network\n",
    "from pybrain.tools.shortcuts import buildNetwork\n",
    "import pickle\n",
    "\n",
    "net = buildNetwork(2,4,1)\n",
    "\n",
    "fileObject = open('filename', 'w')\n",
    "\n",
    "pickle.dump(net, fileObject)\n",
    "\n",
    "fileObject.close()\n",
    "\n",
    "fileObject = open('filename','r')\n",
    "net = pickle.load(fileObject)"
   ]
  },
  {
   "cell_type": "code",
   "execution_count": 7,
   "metadata": {
    "collapsed": false
   },
   "outputs": [
    {
     "name": "stdout",
     "output_type": "stream",
     "text": [
      "[ 1.71715833]\n",
      "[ 1.71715833]\n"
     ]
    }
   ],
   "source": [
    "# pickle 的C语言版本， P得大写，  即 cPickle\n",
    "from pybrain.tools.shortcuts import buildNetwork\n",
    "import cPickle\n",
    "\n",
    "net = buildNetwork(2,4,1)\n",
    "\n",
    "fileObject = open('filename', 'w')\n",
    "\n",
    "cPickle.dump(net, fileObject)\n",
    "\n",
    "fileObject.close()\n",
    "\n",
    "fileObject = open('filename','r')\n",
    "net2 = cPickle.load(fileObject)\n",
    "print net.activate((1,2))\n",
    "print net2.activate((1,2))"
   ]
  },
  {
   "cell_type": "code",
   "execution_count": 10,
   "metadata": {
    "collapsed": false
   },
   "outputs": [
    {
     "name": "stdout",
     "output_type": "stream",
     "text": [
      "[ 1.14931957]\n",
      "[ 1.14931957]\n"
     ]
    }
   ],
   "source": [
    "# Network read and write\n",
    "from pybrain.tools.shortcuts import buildNetwork\n",
    "from pybrain.tools.xml.networkwriter import NetworkWriter\n",
    "from pybrain.tools.xml.networkreader import NetworkReader\n",
    "\n",
    "net = buildNetwork(2,4,1)\n",
    "\n",
    "NetworkWriter.writeToFile(net, 'filename.xml')\n",
    "net2 = NetworkReader.readFrom('filename.xml') \n",
    "print net.activate((1,2))\n",
    "print net2.activate((1,2))"
   ]
  },
  {
   "cell_type": "code",
   "execution_count": 10,
   "metadata": {
    "collapsed": false
   },
   "outputs": [
    {
     "name": "stdout",
     "output_type": "stream",
     "text": [
      "[]\n"
     ]
    },
    {
     "data": {
      "text/plain": [
       "array([], shape=(0L, 3L), dtype=float64)"
      ]
     },
     "execution_count": 10,
     "metadata": {},
     "output_type": "execute_result"
    }
   ],
   "source": [
    "from scipy import zeros\n",
    "a= zeros((0, 4), float)\n",
    "print a\n",
    "zeros((0, 3), float)"
   ]
  },
  {
   "cell_type": "code",
   "execution_count": 33,
   "metadata": {
    "collapsed": false
   },
   "outputs": [],
   "source": [
    "class animal(object):  \n",
    "    def __init__(self):  \n",
    "        print 'animal init'  \n",
    "          \n",
    "    def say(self):  \n",
    "        print 'animal say'  \n",
    "        \n",
    "class dog(animal):  \n",
    "    def __init__(self):   \n",
    "        #animal.__init__(self)  \n",
    "        print 'dog init'  \n",
    "          \n",
    "    def say(self):  \n",
    "        animal.say(self)  \n",
    "        print 'dog say'  \n",
    "        \n",
    "class cat(animal):  \n",
    "    def __init__(self):   \n",
    "        #animal.__init__(self)  \n",
    "        print 'cat init'  \n",
    "          \n",
    "    def say(self):  \n",
    "        #animal.say(self)  \n",
    "        print 'cat say'  \n",
    "        \n",
    "class wolfhound(cat,dog):\n",
    "    def __init__(self):\n",
    "        print \"wolfhound init.\"\n",
    "    \n",
    "    def run(self):\n",
    "        print \"wolfhound run\"\n",
    "        "
   ]
  },
  {
   "cell_type": "code",
   "execution_count": 34,
   "metadata": {
    "collapsed": false
   },
   "outputs": [
    {
     "name": "stdout",
     "output_type": "stream",
     "text": [
      "dog init\n",
      "animal say\n",
      "dog say\n",
      "wolfhound init.\n",
      "wolfhound run\n",
      "cat say\n"
     ]
    }
   ],
   "source": [
    "d = dog()  \n",
    "d.say()  \n",
    "w = wolfhound()\n",
    "w.run()\n",
    "w.say()"
   ]
  },
  {
   "cell_type": "code",
   "execution_count": 20,
   "metadata": {
    "collapsed": false
   },
   "outputs": [
    {
     "name": "stdout",
     "output_type": "stream",
     "text": [
      "调用子类构造方法\n",
      "调用子类方法 child method\n",
      "调用父类方法\n",
      "父类属性 : 200\n"
     ]
    }
   ],
   "source": [
    "class Parent:        # 定义父类\n",
    "   parentAttr = 100\n",
    "   def __init__(self):\n",
    "      print \"调用父类构造函数\"\n",
    "\n",
    "   def parentMethod(self):\n",
    "      print '调用父类方法'\n",
    "\n",
    "   def setAttr(self, attr):\n",
    "      Parent.parentAttr = attr\n",
    "\n",
    "   def getAttr(self):\n",
    "      print \"父类属性 :\", Parent.parentAttr\n",
    "\n",
    "class Child(Parent): # 定义子类\n",
    "   def __init__(self):\n",
    "      print \"调用子类构造方法\"\n",
    "\n",
    "   def childMethod(self):\n",
    "      print '调用子类方法 child method'\n",
    "\n",
    "c = Child()          # 实例化子类\n",
    "c.childMethod()      # 调用子类的方法\n",
    "c.parentMethod()     # 调用父类方法\n",
    "c.setAttr(200)       # 再次调用父类的方法\n",
    "c.getAttr()          # 再次调用父类的方法"
   ]
  },
  {
   "cell_type": "code",
   "execution_count": 22,
   "metadata": {
    "collapsed": false
   },
   "outputs": [
    {
     "name": "stdout",
     "output_type": "stream",
     "text": [
      "net params length: [30],and in detial: \n",
      "[-0.41553792  1.60938622  0.09159058 -1.37015648  0.31102895 -1.91573435\n",
      "  0.29242125 -1.31622264 -1.96940472 -1.0350375  -0.27981987 -0.71200205\n",
      " -1.67496963 -1.02378206 -0.4704411   1.43794701  1.44550468  0.70355618\n",
      " -2.80163554 -0.44668533  0.59013807 -0.2920634  -0.58936122 -1.76992708\n",
      " -0.20619234  1.05457789  2.34099937 -0.78338568  0.23208603  0.15430617]\n"
     ]
    }
   ],
   "source": [
    "import numpy\n",
    "from pybrain.tools.shortcuts import buildNetwork\n",
    "net = buildNetwork(2,3,4,1)\n",
    "print \"net params length: [%s],and in detial: \\n\"% len(net.params) , net.params \n"
   ]
  },
  {
   "cell_type": "code",
   "execution_count": 23,
   "metadata": {
    "collapsed": false
   },
   "outputs": [
    {
     "name": "stdout",
     "output_type": "stream",
     "text": [
      "net params length: [30],and in detial: \n",
      "[ 0  1  2  3  4  5  6  7  8  9 10 11 12 13 14 15 16 17 18 19 20 21 22 23 24\n",
      " 25 26 27 28 29]\n"
     ]
    }
   ],
   "source": [
    "#new_params = numpy.array([1.0]* len(net.params))\n",
    "te = []\n",
    "for i in xrange(len(net.params)):\n",
    "    te.append(i)\n",
    "new_params = numpy.array(te)\n",
    "net._setParameters(new_params)\n",
    "print \"net params length: [%s],and in detial: \\n\"% len(net.params) , net.params "
   ]
  },
  {
   "cell_type": "code",
   "execution_count": 24,
   "metadata": {
    "collapsed": false,
    "scrolled": true
   },
   "outputs": [
    {
     "name": "stdout",
     "output_type": "stream",
     "text": [
      "bias -> out => [0]\n",
      "bias -> hidden0 => [1 2 3]\n",
      "bias -> hidden1 => [4 5 6 7]\n",
      "hidden1 -> out => [26 27 28 29]\n",
      "hidden0 -> hidden1 => [14 15 16 17 18 19 20 21 22 23 24 25]\n",
      "in -> hidden0 => [ 8  9 10 11 12 13]\n"
     ]
    }
   ],
   "source": [
    "# net is our neural network from previous example\n",
    "for c in [connection for connections in net.connections.values() for connection in connections]:\n",
    "    print(\"{} -> {} => {}\".format(c.inmod.name, c.outmod.name, c.params))"
   ]
  },
  {
   "cell_type": "code",
   "execution_count": 28,
   "metadata": {
    "collapsed": false
   },
   "outputs": [],
   "source": [
    "from pybrain.tools.xml.networkwriter import NetworkWriter\n",
    "from pybrain.tools.xml.networkreader import NetworkReader\n",
    "NetworkWriter.writeToFile(net,'testNet.xml')\n",
    "from pybrain.structure import SoftmaxLayer\n",
    "from pybrain.structure import LinearLayer, SigmoidLayer\n",
    "LinearLayer??"
   ]
  },
  {
   "cell_type": "code",
   "execution_count": 81,
   "metadata": {
    "collapsed": false
   },
   "outputs": [
    {
     "name": "stdout",
     "output_type": "stream",
     "text": [
      "('Incorrect gradient', array([  3.11846647e-11,   4.46151936e-09,   1.14369948e-04,\n",
      "         1.30569989e-07,   1.28222988e-07,   1.60094387e-09,\n",
      "         3.08612421e-09,   8.37214212e-06,   5.03655004e-08,\n",
      "         1.83569304e-08,   1.41658040e-09,   3.23353905e-05,\n",
      "         9.36757163e-04,   6.62900251e-09,   3.73229465e-02,\n",
      "         2.38903527e-10,   9.91175264e-06,   3.87714430e-07,\n",
      "         7.24483698e-08,   1.34319690e-07,   1.98810628e-07,\n",
      "         1.02127561e-07,   2.07058689e-07,   5.40309215e-08,\n",
      "         8.37580946e-08,   2.24863360e-08,   1.74242117e-07,\n",
      "         4.42473370e-08,   6.66061005e-08,   1.63307126e-04,\n",
      "         4.79100112e-06,   7.02973047e-04,   1.31092470e-04,\n",
      "         1.00629121e-03,   4.05436561e-05,   9.66647631e-05,\n",
      "         1.61276113e-03,   4.20293750e-05,   4.54147335e-04,\n",
      "         1.85808914e-05,   1.02224322e-05,   9.13549866e-05,\n",
      "         1.25903958e-06,   8.89034861e-07,   1.42964106e-07,\n",
      "         5.26392296e-08,   1.70400947e-07,   3.11920508e-08,\n",
      "         8.09515730e-09,   1.99088885e-08,   3.26987527e-07,\n",
      "         1.32527950e-07,   4.46907570e-07,   1.96106632e-07,\n",
      "         8.23159651e-08,   9.84658738e-06,   4.59544697e-07,\n",
      "         1.91422189e-07,   5.33404333e-07,   7.00934429e-08,\n",
      "         2.66911538e-07,   6.15731888e-08,   1.41427380e-07,\n",
      "         2.47793448e-07,   8.56568675e-08,   2.61977419e-07,\n",
      "         3.86927887e-07,   3.49824519e-07,   1.20115780e-08,\n",
      "         2.28729413e-10,   2.77083697e-09,   1.19736128e-09,\n",
      "         2.09287175e-08,   7.69225497e-10,   2.74355967e-09,\n",
      "         1.35006760e-08,   2.35833367e-09,   5.27296852e-10,\n",
      "         9.29389400e-10,   2.19962185e-09,   1.99191898e-10,\n",
      "         1.10423620e-08,   1.04965937e-09,   2.58902308e-09,\n",
      "         2.28207629e-09,   7.64790168e-07,   1.08445808e-09,\n",
      "         9.98216263e-10,   4.30402119e-09,   1.31261296e-09,\n",
      "         4.24431372e-09,   9.32404982e-10,   2.74150052e-09,\n",
      "         8.24727932e-10,   3.36906555e-04,   1.56445834e-04,\n",
      "         7.78160395e-05,   1.36682463e-04,   2.56321681e-02,\n",
      "         1.01540467e-04,   6.40430182e-05,   3.63119708e-05,\n",
      "         4.62416560e-05,   1.31854617e-03,   1.43054545e-05,\n",
      "         5.59494706e-06,   1.67865718e-05,   4.71529672e-08,\n",
      "         2.33502271e-08,   2.34789821e-08,   1.11185897e-08,\n",
      "         8.96568896e-06,   1.22860819e-08,   2.51559676e-08,\n",
      "         2.75399389e-07,   1.87489256e-08,   1.83395649e-06,\n",
      "         2.67063638e-08,   1.50367442e-08,   2.88824060e-08,\n",
      "         8.85814240e-07,   7.20977471e-08,   1.89292243e-07,\n",
      "         5.48544539e-08,   1.31489877e-05,   4.62138374e-08,\n",
      "         1.16424732e-07,   1.22761161e-06,   7.26849685e-08,\n",
      "         2.85339759e-07,   1.62707398e-07,   6.99471305e-08,\n",
      "         9.71223919e-08,   1.44403651e-08,   2.00342817e-09,\n",
      "         1.08758437e-09,   9.17435064e-10,   9.95535823e-09,\n",
      "         1.22445378e-09,   1.46598947e-09,   8.10285555e-10,\n",
      "         1.38770502e-09,   1.79695117e-09,   6.97255058e-10,\n",
      "         6.92000030e-10,   6.24942709e-10,   2.51793004e-04,\n",
      "         2.29405168e-05,   8.73125545e-05,   4.89727938e-05,\n",
      "         6.00167534e-03,   3.99684608e-05,   3.64477427e-05,\n",
      "         4.76009253e-04,   2.84346536e-05,   1.59905487e-03,\n",
      "         7.95347824e-05,   1.94653069e-05,   2.37287750e-05,\n",
      "         2.91845274e-03,   6.64687584e-05,   1.24599507e-02,\n",
      "         1.14401935e-05,   6.19588505e-04,   4.62662875e-04,\n",
      "         2.18709893e-03,   8.31281709e-02,   2.47387539e-03,\n",
      "         7.12131832e-03,   2.76840021e-03,   9.06005380e-04,\n",
      "         2.83920923e-03,   2.52713610e-07,   1.10068850e-08,\n",
      "         3.93955562e-09,   8.25272346e-09,   2.40328864e-08,\n",
      "         1.43220180e-08,   3.01233244e-08,   7.76051550e-07,\n",
      "         1.39533580e-09,   7.02846141e-08,   3.14306821e-08,\n",
      "         1.01070188e-08,   7.38017306e-08,   3.33333393e-01,\n",
      "         5.75944581e-02,   3.33333335e-01,   2.03120610e-02,\n",
      "         2.03238833e-02,   5.27678674e-02,   1.81435666e-02,\n",
      "         3.33333340e-01,   3.33333336e-01,   3.33333354e-01,\n",
      "         3.33333339e-01,   7.86561431e-03,   3.33333344e-01,\n",
      "         4.23875735e-09,   5.82125378e-10,   2.61586124e-10,\n",
      "         5.00442133e-10,   3.51268739e-08,   3.45272589e-10,\n",
      "         1.92071630e-10,   1.66027046e-09,   3.07662253e-10,\n",
      "         6.77923800e-09,   2.60186804e-10,   3.51637139e-10,\n",
      "         5.14938470e-10,   6.94667877e-11,   6.43574713e-11,\n",
      "         8.21486379e-11,   1.61380215e-10,   7.29959052e-11,\n",
      "         1.51644607e-10,   8.53566181e-11,   3.01953132e-11,\n",
      "         8.69955089e-11,   1.46451395e-10,   1.23687463e-10,\n",
      "         3.67235604e-11,   1.62122066e-11,   5.87430516e-11,\n",
      "         3.61899559e-11]))\n",
      "('Incorrect module:', <FullConnection 'FullConnection-543': 'bias' -> 'hidden0'>, [(0.00015657980090571746, -0.00015657980467764787), (-0.022479443238385327, 0.0224794432512887), (0.00011068005173127087, -0.00011067996519287249), (-2.8018516207551722e-05, 2.8018531939011382e-05), (-0.2366128166910724, 0.23661281678410973), (-0.097202047865226779, 0.097202047910638356), (-0.01085271873962392, 0.010852718723697308), (-0.02417655277022579, 0.024176552759769265), (0.03335194711575195, -0.033351947092974399), (-0.018999612136444671, 0.018999612272363464), (-0.00099226838823014761, 0.00099226832306342772), (-0.21822683644458746, 0.21822683643479834), (0.12643749184210673, -0.12643749192076115), (-0.85705890712713195, 0.85705890712217681), (0.62484338595776245, -0.62484338575474752)])\n",
      "('Incorrect module:', <FullConnection 'FullConnection-544': 'in' -> 'hidden0'>, [(3.9491870857407429e-06, -3.9489522762892193e-06), (-1.5154635040545578e-05, 1.5154599797284618e-05), (-0.00012580780971813144, 0.00012580786412641487), (-0.00020498364288154541, 0.00020498380770561653), (-0.00036858927049401104, 0.00036858938123884855), (-8.8105968638408264e-05, 8.8106022477774104e-05), (-0.00010534132745021791, 0.00010534145777896242), (-0.00033899367810634614, 0.00033899377749335713), (-5.3889308783539338e-05, 5.3889281925734167e-05), (0.00016332539173753062, -0.00016332540875296786), (7.4413497365948062e-05, -7.4413419870467123e-05), (-0.00013540949718833569, 0.00013540946142143184), (-0.00013749845770472146, 0.00013749851257571777), (-0.00056696666120509666, 0.00056696664030297939), (0.0021756813856055315, -0.0021756814683193682), (0.018061649722030337, -0.018061649620371156), (0.029428560633614216, -0.029428560643918189), (0.052916669560316376, -0.052916669546210215), (0.012648969468051842, -0.012648969538453514), (0.015123370813960898, -0.015123370722402996), (0.04866776621942185, -0.048667766205934271), (0.0077366406838441605, -0.0077366408279821997), (-0.02344787674855707, 0.023447876695836811), (-0.010683204222585549, 0.010683204321182416), (0.019440119915699428, -0.019440119902736086), (0.019740022387689401, -0.019740022449976635), (2.7915237368927571e-06, -2.7915447731174936e-06), (-1.0712210518559091e-05, 1.0712153386549517e-05), (-8.892855149423186e-05, 8.892847569441642e-05), (-0.00014489480805927738, 0.00014489476285461933), (-0.0002605411380643728, 0.0002605410331923963), (-6.2278615187437493e-05, 6.2278626700162931e-05), (-7.4461606824058305e-05, 7.4461603549735855e-05), (-0.00023962118748622159, 0.00023962121176168694), (-3.8092215275685489e-05, 3.809214055294774e-05), (0.00011544824237849634, -0.00011544815103903261), (5.2599950251100248e-05, -5.2600090949539435e-05), (-9.5715603590112368e-05, 9.5715491088554927e-05), (-9.7192206936653713e-05, 9.7192254244760079e-05), (-7.06670731016625e-07, 7.067124663251434e-07), (2.7117826504245672e-06, -2.7117752487981761e-06), (2.2512151217681976e-05, -2.2512158803777993e-05), (3.6679938837180231e-05, -3.6679825843322078e-05), (6.5955662157755467e-05, -6.595568535772145e-05), (1.5765753283616198e-05, -1.5765777572340767e-05), (1.8849862328450374e-05, -1.8849866112446989e-05), (6.065980292055289e-05, -6.0659754996805759e-05), (9.6429964965565547e-06, -9.6430086138354909e-06), (-2.9225577686474373e-05, 2.9225566411383852e-05), (-1.3315611400373748e-05, 1.3315626379295509e-05), (2.4230284938938614e-05, -2.4230228934385423e-05), (2.4604085223181749e-05, -2.4604041026776713e-05), (-0.0059677447192551933, 0.0059677446873074302), (0.022900660635198061, -0.022900660645586157), (0.19011226254570227, -0.19011226248810686), (0.30975743255034582, -0.30975743253724985), (0.55698720390000822, -0.55698720397012735), (0.13313978741984622, -0.13313978730611353), (0.1591846972457257, -0.15918469731257545), (0.5122643441442799, -0.51226434416573596), (0.081433882704231977, -0.081433882803683133), (-0.2468062978280286, 0.24680629778783825), (-0.1124486498880696, 0.11244864989157222), (0.20462168396641536, -0.20462168409673964), (0.20777837996985513, -0.20777838000141102), (-0.0024515874328391121, 0.0024515875440833668), (0.0094077368349582951, -0.0094077368117950755), (0.078099324889323085, -0.078099324896108158), (0.12725032061420241, -0.12725032050298068), (0.22881388088327587, -0.22881388084261545), (0.054694670265671638, -0.054694670292843028), (0.06539408463782713, -0.065394084536318786), (0.21044144605307866, -0.21044144599136061), (0.033453556215438433, -0.033453556202989176), (-0.10138959465683339, 0.10138959477545839), (-0.046194619554658624, 0.046194619574002616), (0.084059887360773161, -0.084059887495158137), (0.085356678127703325, -0.085356678225512184), (-0.0002737225136561937, 0.00027372260014146832), (0.0010503844732547797, -0.0010503845571108172), (0.0087198780827492401, -0.0087198779308295116), (0.01420764242609082, -0.014207642395902553), (0.025547328965652032, -0.025547328974528938), (0.0061067218848395903, -0.0061067219614407975), (0.0073013236181353105, -0.0073013235457608516), (0.023496025807403131, -0.023496025625124872), (0.0037351274424767891, -0.0037351272075270003), (-0.011320263081913227, 0.011320263171299416), (-0.005157681595409992, 0.0051576816706422335), (0.009385381633891467, -0.0093853816940381307), (0.0095301697918235718, -0.0095301699309935373), (-0.00060977041371636416, 0.00060977045635013383), (0.0023399367712306531, -0.0023399366333443083), (0.019425233222696393, -0.019425233199754643), (0.03165030119142169, -0.031650301157704064), (0.056911669941407471, -0.056911669932269149), (0.013603916902672189, -0.013603916826365747), (0.01626512581606452, -0.016265125746262044), (0.052341991113182905, -0.052341991130244736), (0.0083207266200365799, -0.0083207266632356891), (-0.025218099200661488, 0.0252180992199591), (-0.011489744114364939, 0.011489744267123569), (0.020907772493176029, -0.020907772513290013), (0.021230316422004555, -0.021230316504805558), (0.00084118818693060661, -0.00084118828569401671), (-0.0032279807708731202, 0.0032279807715696052), (-0.026797424649902531, 0.026797424501623368), (-0.043662104418539016, 0.043662104542985247), (-0.078510572793179273, 0.078510573042755993), (-0.018766824262215508, 0.01876682426127374), (-0.022438005169889627, 0.022438005120584137), (-0.072206626649020458, 0.072206626622328685), (-0.011478577480982112, 0.011478577366386133), (0.034788777328753705, -0.034788777303340623), (0.015850288571650772, -0.015850288526131351), (-0.028842611646410821, 0.028842611854429379), (-0.029287566233569505, 0.029287566150060229), (-0.00047919988689033117, 0.0004791998464703795), (0.0018388846209678998, -0.0018388846001471393), (0.015265695667983512, -0.015265695596511364), (0.024873002050947429, -0.024873001935876715), (0.044725137830888544, -0.044725137982037921), (0.010690901517006529, -0.010690901441900991), (0.012782264071835782, -0.012782263969501884), (0.041133967238887771, -0.041133967121353976), (0.0065390041324989443, -0.0065390041714685765), (-0.019818131566755989, 0.019818131524740323), (-0.0090294378935931747, 0.0090294378640720652), (0.016430777860795141, -0.016430777793896567), (0.016684255252834842, -0.016684255255139391), (-2.5026558226031007e-05, 2.5026591909949047e-05), (9.603706990886326e-05, -9.603690065418391e-05), (0.00079726191918549731, -0.00079726192314666378), (0.0012990103944383556, -0.0012990102882248777), (0.0023358024421824605, -0.0023358024958675117), (0.00055834000930254739, -0.00055834004086818823), (0.00066756292062212705, -0.00066756283834124019), (0.0021482509790476494, -0.0021482509104941983), (0.00034150418674805443, -0.0003415041582854883), (-0.001035016153290685, 0.0010350160173366874), (-0.00047156887840429896, 0.00047156883953292095), (0.00085810917339861265, -0.00085810925032347996), (0.00087134721223044542, -0.0008713471610910517), (-0.0055040215868453887, 0.0055040215163337791), (0.021121166607958018, -0.021121166537962921), (0.17533960418906083, -0.17533960416926675), (0.28568775570140176, -0.28568775573001304), (0.51370655718076896, -0.51370655723692593), (0.12279417074634817, -0.12279417083149724), (0.14681526290978331, -0.14681526289139768), (0.47245888371264022, -0.47245888373792511), (0.07510606927580972, -0.075106069308272794), (-0.22762823393430959, 0.22762823403965626), (-0.10371083642344524, 0.10371083647431334), (0.18872157216342295, -0.18872157225846564), (0.1916329773530554, -0.19163297731994433), (0.0031889509824895028, -0.003188950936650059), (-0.01223730029815819, 0.012237300284212438), (-0.10158924601320479, 0.10158924612646558), (-0.16552337865218439, 0.1655233787256627), (-0.29763419426772869, 0.29763419423511905), (-0.071145177261193501, 0.071145177249487546), (-0.085062652737331962, 0.08506265275487479), (-0.27373588523021181, 0.27373588518120329), (-0.043515376825637081, 0.043515376968450425), (0.13188452639467413, -0.13188452641088588), (0.060088567693447198, -0.060088567788163516), (-0.10934256588053182, 0.10934256583494673), (-0.11102939219351231, 0.11102939212470631), (-0.021616363976497775, 0.021616363865550881), (0.082950769324207668, -0.082950769308975936), (0.68862460726977914, -0.68862460717022955), (1.122003323102837, -1.1220033230840976), (2.0175189617120588, -2.0175189617277489), (0.48225891689618472, -0.48225891691178191), (0.57659878514067275, -0.57659878510696316), (1.8555238261911911, -1.8555238260886675), (0.29496979702808079, -0.29496979708776294), (-0.89398173288625893, 0.89398173275245796), (-0.40731148180709154, 0.40731148176487153), (0.74118063124087008, -0.74118063109196441), (0.75261481500435157, -0.75261481491395443), (0.015759525916888617, -0.015759525684444498), (-0.060475702593276733, 0.060475702556850308), (-0.50204545764840547, 0.50204545776200149), (-0.81800253125360012, 0.81800253126651512), (-1.470883003241638, 1.4708830032295062), (-0.35159344595322722, 0.35159344602408993), (-0.42037243210516867, 0.42037243191961338), (-1.3527795821747699, 1.3527795819645583), (-0.2150493101438129, 0.21504931013716089), (0.65176216980634938, -0.65176216990092684), (0.29695261704346826, -0.29695261710704912), (-0.54036170837223418, 0.54036170854532273), (-0.54869786127727282, 0.54869786125788522)])\n"
     ]
    },
    {
     "data": {
      "text/plain": [
       "False"
      ]
     },
     "execution_count": 81,
     "metadata": {},
     "output_type": "execute_result"
    }
   ],
   "source": [
    "from pybrain.tools.shortcuts import buildNetwork\n",
    "from pybrain.tests.helpers import gradientCheck\n",
    "from pybrain.structure import TanhLayer\n",
    "\n",
    "n = buildNetwork(13, 15, 1, hiddenclass=TanhLayer)\n",
    "#n.randomize()\n",
    "gradientCheck(n)"
   ]
  },
  {
   "cell_type": "code",
   "execution_count": 114,
   "metadata": {
    "collapsed": false
   },
   "outputs": [
    {
     "name": "stdout",
     "output_type": "stream",
     "text": [
      "[1.0, 2.0, 3.0, 4.0, 5.0, 6.0]\n",
      "2\n"
     ]
    }
   ],
   "source": [
    "# c.index(min(c))  enumerate\n",
    "a= [1,2,3,4,5,6]\n",
    "b = 3.2\n",
    "dd =[]\n",
    "dd=[float(td) for td in a]\n",
    "print dd\n",
    "dis = [(b-x)**2 for x in a]\n",
    "c= dis.index(min(dis ))\n",
    "print c"
   ]
  },
  {
   "cell_type": "code",
   "execution_count": 4,
   "metadata": {
    "collapsed": false
   },
   "outputs": [
    {
     "name": "stdout",
     "output_type": "stream",
     "text": [
      "min: 1\n",
      "max: 5\n"
     ]
    }
   ],
   "source": [
    "c = [-10, -45, 0, 5, 3, 50, 15, -20, 25]\n",
    "\n",
    "print \"min: %s\" %c.index(min(c))  # 返回最小值\n",
    "print \"max: %s\" %c.index(max(c)) # 返回最大值"
   ]
  },
  {
   "cell_type": "code",
   "execution_count": 20,
   "metadata": {
    "collapsed": false
   },
   "outputs": [
    {
     "name": "stdout",
     "output_type": "stream",
     "text": [
      "2016-05-31\n",
      "0.00300002098083\n"
     ]
    }
   ],
   "source": [
    "import time\n",
    "# ISOTIMEFORMAT='%Y-%m-%d %X'\n",
    "start = time.time()\n",
    "ISOTIMEFORMAT='%Y-%m-%d'\n",
    "t= time.strftime( ISOTIMEFORMAT, time.gmtime( time.time() ) )\n",
    "f = open( t + \"test.txt\",'wb')\n",
    "f.write(\"hello,\\n This is a test file\")\n",
    "f.close()\n",
    "print t\n",
    "\n",
    "elapsed = time.time() - start\n",
    "print elapsed"
   ]
  },
  {
   "cell_type": "code",
   "execution_count": 4,
   "metadata": {
    "collapsed": false
   },
   "outputs": [
    {
     "name": "stdout",
     "output_type": "stream",
     "text": [
      "3.75\n"
     ]
    }
   ],
   "source": [
    "from numpy import mean\n",
    "a= [4,4,3,4]\n",
    "b =mean(a)\n",
    "print b"
   ]
  },
  {
   "cell_type": "code",
   "execution_count": 10,
   "metadata": {
    "collapsed": false
   },
   "outputs": [
    {
     "name": "stdout",
     "output_type": "stream",
     "text": [
      "0:00:00.001000\n"
     ]
    }
   ],
   "source": [
    "import datetime, time\n",
    "starttime = datetime.datetime.now()\n",
    "for i in range(1000):\n",
    "    y = i+1\n",
    "endtime = datetime.datetime.now()\n",
    "\n",
    "\n",
    "endtime = datetime.datetime.now()\n",
    "print (endtime - starttime)"
   ]
  },
  {
   "cell_type": "code",
   "execution_count": 18,
   "metadata": {
    "collapsed": false
   },
   "outputs": [
    {
     "name": "stdout",
     "output_type": "stream",
     "text": [
      "0.0105317995579\n"
     ]
    }
   ],
   "source": [
    "import time\n",
    "start = time.clock()\n",
    "for i in range(10000):\n",
    "    y = i+1\n",
    "    \n",
    "end = time.clock()\n",
    "print end - start\n",
    "#time.time?\n",
    "#time.clock?"
   ]
  },
  {
   "cell_type": "code",
   "execution_count": 3,
   "metadata": {
    "collapsed": false
   },
   "outputs": [
    {
     "name": "stdout",
     "output_type": "stream",
     "text": [
      "Li 升序:  [0, 1, 1, 2, 3, 4, 5, 6]\n",
      "[1, 2, 3, 4, 5, 6]\n",
      "li 降序:  [6, 5, 4, 3, 2, 1]\n"
     ]
    }
   ],
   "source": [
    "li= [0,1,5,6,2,3,4]\n",
    "li.append(1)\n",
    "li.append(2)\n",
    "li.remove(2)\n",
    "li.remove(1)\n",
    "li.append(1)\n",
    "li.sort()\n",
    "print \"Li 升序: \",li\n",
    "del li[:2]\n",
    "print li\n",
    "li.sort(reverse = True)\n",
    "print \"li 降序: \", li\n"
   ]
  },
  {
   "cell_type": "code",
   "execution_count": 46,
   "metadata": {
    "collapsed": false
   },
   "outputs": [
    {
     "name": "stdout",
     "output_type": "stream",
     "text": [
      "[(3, 5), (2, 6), (1, 7), (0, 8)]\n",
      "{0: 8, 1: 7, 2: 6, 3: 5}\n",
      "7\n",
      "[(0, 8), (1, 7), (2, 6), (3, 5)]\n",
      "2\n",
      "3\n",
      "a end:  3\n",
      "[(0, 8), (1, 7), (2, 6), (3, 5)]\n"
     ]
    }
   ],
   "source": [
    "a= 5\n",
    "mydict={0:8,1:7,2:6,3:5}\n",
    "#for n,i in enumerate(xrange(a)):\n",
    "#    mydict.setdefault(n,i)\n",
    "print sorted(mydict.iteritems(), key=lambda e:e[1], reverse=False)\n",
    "a= sorted(mydict.iteritems(), key=lambda e:e[1], reverse=True)\n",
    "print mydict\n",
    "print mydict[1]\n",
    "print a\n",
    "l = len(a)\n",
    "cnt = 0\n",
    "for sep in a[2:]:\n",
    "    print sep[0]\n",
    "    \n",
    "print \"a end: \",a[-1][0]\n",
    "print a"
   ]
  },
  {
   "cell_type": "code",
   "execution_count": 72,
   "metadata": {
    "collapsed": false
   },
   "outputs": [
    {
     "name": "stdout",
     "output_type": "stream",
     "text": [
      "0.00120217661552\n",
      "======\n",
      "0.000834304427144\n"
     ]
    }
   ],
   "source": [
    "from random import sample\n",
    "l =8000\n",
    "mini_proportion =0.3\n",
    "import time\n",
    "start = time.clock()\n",
    "\n",
    "minIndices = sample(list(range(l)), int(l * mini_proportion))\n",
    "end = time.clock()\n",
    "print end - start\n",
    "print '======'\n",
    "start = time.clock()\n",
    "\n",
    "minIndices = sample(list(xrange(l)), int(l * mini_proportion))\n",
    "end = time.clock()\n",
    "print end - start\n",
    "\n",
    "\n"
   ]
  }
 ],
 "metadata": {
  "kernelspec": {
   "display_name": "Python 2",
   "language": "python",
   "name": "python2"
  },
  "language_info": {
   "codemirror_mode": {
    "name": "ipython",
    "version": 2
   },
   "file_extension": ".py",
   "mimetype": "text/x-python",
   "name": "python",
   "nbconvert_exporter": "python",
   "pygments_lexer": "ipython2",
   "version": "2.7.11"
  }
 },
 "nbformat": 4,
 "nbformat_minor": 0
}
