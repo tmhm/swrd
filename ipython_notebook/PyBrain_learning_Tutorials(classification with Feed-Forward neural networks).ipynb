{
 "cells": [
  {
   "cell_type": "markdown",
   "metadata": {},
   "source": [
    "### classification with Feed-Forward neural networks\n",
    "[resource](http://pybrain.org/docs/tutorial/fnn.html)"
   ]
  },
  {
   "cell_type": "markdown",
   "metadata": {},
   "source": [
    "#### build dataset"
   ]
  },
  {
   "cell_type": "code",
   "execution_count": 1,
   "metadata": {
    "collapsed": true
   },
   "outputs": [],
   "source": [
    "from pybrain.datasets            import ClassificationDataSet\n",
    "from pybrain.utilities           import percentError\n",
    "from pybrain.tools.shortcuts     import buildNetwork\n",
    "from pybrain.supervised.trainers import BackpropTrainer\n",
    "from pybrain.structure.modules   import SoftmaxLayer"
   ]
  },
  {
   "cell_type": "code",
   "execution_count": 2,
   "metadata": {
    "collapsed": true
   },
   "outputs": [],
   "source": [
    "from pylab import ion,ioff,figure,draw,contourf,clf,show,hold,plot\n",
    "from scipy import diag, arange , meshgrid , where\n",
    "from numpy.random import multivariate_normal"
   ]
  },
  {
   "cell_type": "code",
   "execution_count": 4,
   "metadata": {
    "collapsed": false
   },
   "outputs": [],
   "source": [
    "means = [(-1,0),(2,4),(3,1)]\n",
    "cov = [diag([1,1]),diag([0.5,1.2]),diag([1.5,0.7])]\n",
    "alldata = ClassificationDataSet(2,1, nb_classes=3)\n",
    "for n in xrange(400):\n",
    "    for klass in range(3):\n",
    "        input = multivariate_normal(means[klass],cov[klass])\n",
    "        alldata.addSample(input, [klass])"
   ]
  },
  {
   "cell_type": "code",
   "execution_count": 21,
   "metadata": {
    "collapsed": false
   },
   "outputs": [
    {
     "name": "stdout",
     "output_type": "stream",
     "text": [
      "[[1, 0], [0, 100]]\n"
     ]
    }
   ],
   "source": [
    "print cov\n",
    "#multivariate_normal??"
   ]
  },
  {
   "cell_type": "code",
   "execution_count": 10,
   "metadata": {
    "collapsed": true
   },
   "outputs": [],
   "source": [
    "tstdata, trndata = alldata.splitWithProportion(0.25)\n",
    "# For neural network classification, it is highly advisable to encode classes with one output neuron per class.\n",
    "# Note that this operation duplicates the original targets and stores them in an (integer) field named ‘class’.\n",
    "trndata._convertToOneOfMany()\n",
    "tstdata._convertToOneOfMany()"
   ]
  },
  {
   "cell_type": "code",
   "execution_count": 11,
   "metadata": {
    "collapsed": false
   },
   "outputs": [
    {
     "name": "stdout",
     "output_type": "stream",
     "text": [
      "number of training patterns: 900\n",
      "Input and output dimensions: 2 3\n",
      "First sample (input ,target , class):\n",
      "[-1.21812156 -1.07283208] [1 0 0] [ 0.]\n"
     ]
    }
   ],
   "source": [
    "print \"number of training patterns:\", len(trndata)\n",
    "print \"Input and output dimensions:\", trndata.indim, trndata.outdim\n",
    "print \"First sample (input ,target , class):\"\n",
    "print trndata['input'][0],trndata['target'][0], trndata['class'][0]"
   ]
  },
  {
   "cell_type": "markdown",
   "metadata": {},
   "source": [
    "#### build network"
   ]
  },
  {
   "cell_type": "code",
   "execution_count": 13,
   "metadata": {
    "collapsed": true
   },
   "outputs": [],
   "source": [
    "fnn = buildNetwork(trndata.indim, 5, trndata.outdim, outclass = SoftmaxLayer) "
   ]
  },
  {
   "cell_type": "code",
   "execution_count": 14,
   "metadata": {
    "collapsed": false
   },
   "outputs": [],
   "source": [
    "trainer = BackpropTrainer(fnn, dataset= trndata, momentum= 0.1, verbose= True, weightdecay= 0.01)"
   ]
  },
  {
   "cell_type": "code",
   "execution_count": 15,
   "metadata": {
    "collapsed": true
   },
   "outputs": [],
   "source": [
    "BackpropTrainer??"
   ]
  },
  {
   "cell_type": "code",
   "execution_count": 23,
   "metadata": {
    "collapsed": false
   },
   "outputs": [],
   "source": [
    "#for visualization\n",
    "ticks = arange(-3., 6. , 0.2)  # (shart , end ,step_detal)\n",
    "#print ticks\n",
    "X,Y = meshgrid(ticks,ticks)\n",
    "#need colum vector in dadaset , not arrays\n",
    "griddata = ClassificationDataSet(2,1, nb_classes= 3)\n",
    "#griddata??\n",
    "for i in xrange(X.size):\n",
    "    griddata.addSample([X.ravel()[i], Y.ravel()[i]], [0])\n",
    "griddata._convertToOneOfMany()  # this is still needed to make the fnn feel confy"
   ]
  },
  {
   "cell_type": "markdown",
   "metadata": {},
   "source": [
    "range(3)    函数说明：range([start,] stop[, step])，根据start与stop指定的范围以及step设定的步长，生成一个序列。\n",
    "xrange(3)   函数说明：用法与range完全相同，所不同的是生成的不是一个数组，而是一个生成器。\n",
    "[refer](http://www.cnblogs.com/buro79xxd/archive/2011/05/23/2054493.html)\n",
    "[refer2](http://ciniao.legu.cc/article.php?id=17)"
   ]
  },
  {
   "cell_type": "code",
   "execution_count": 33,
   "metadata": {
    "collapsed": false
   },
   "outputs": [
    {
     "name": "stdout",
     "output_type": "stream",
     "text": [
      "Total error: 0.015941405725\n",
      "epoch:   61 train error:  4.44% test error:  4.33%\n",
      "Total error: 0.0161163384999\n",
      "epoch:   62 train error:  4.56% test error:  4.00%\n",
      "Total error: 0.0160689663983\n",
      "epoch:   63 train error:  4.33% test error:  4.00%\n",
      "Total error: 0.0158046918335\n",
      "epoch:   64 train error:  4.44% test error:  4.67%\n",
      "Total error: 0.0158743841892\n",
      "epoch:   65 train error:  4.78% test error:  3.67%\n",
      "Total error: 0.016053801356\n",
      "epoch:   66 train error:  4.33% test error:  4.00%\n",
      "Total error: 0.0158619983831\n",
      "epoch:   67 train error:  4.33% test error:  4.00%\n",
      "Total error: 0.0160387239538\n",
      "epoch:   68 train error:  4.89% test error:  4.33%\n",
      "Total error: 0.0157257277516\n",
      "epoch:   69 train error:  5.00% test error:  4.67%\n",
      "Total error: 0.0160353766481\n",
      "epoch:   70 train error:  4.67% test error:  4.00%\n",
      "Total error: 0.0160145045072\n",
      "epoch:   71 train error:  4.67% test error:  4.00%\n",
      "Total error: 0.0159508252438\n",
      "epoch:   72 train error:  4.78% test error:  4.67%\n",
      "Total error: 0.0160557339793\n",
      "epoch:   73 train error:  4.44% test error:  4.00%\n",
      "Total error: 0.0159372009807\n",
      "epoch:   74 train error:  4.78% test error:  4.00%\n",
      "Total error: 0.0159891236133\n",
      "epoch:   75 train error:  5.00% test error:  4.33%\n",
      "Total error: 0.0159721312881\n",
      "epoch:   76 train error:  4.78% test error:  4.00%\n",
      "Total error: 0.015703637499\n",
      "epoch:   77 train error:  4.89% test error:  4.67%\n",
      "Total error: 0.0159937184159\n",
      "epoch:   78 train error:  4.56% test error:  5.00%\n",
      "Total error: 0.0159097853465\n",
      "epoch:   79 train error:  4.89% test error:  4.67%\n",
      "Total error: 0.0159845240548\n",
      "epoch:   80 train error:  5.00% test error:  4.33%\n"
     ]
    }
   ],
   "source": [
    "for i in range(20):\n",
    "    trainer.trainEpochs(1)\n",
    "    trnresult = percentError(trainer.testOnClassData(),trndata['class'])\n",
    "    tstresult = percentError(trainer.testOnClassData(dataset=tstdata), tstdata['class'])\n",
    "    print \"epoch: %4d\" % trainer.totalepochs, \"train error: %5.2f%%\" %trnresult, \"test error: %5.2f%%\" %tstresult\n",
    "    \n",
    "    out = fnn.activateOnDataset(griddata)\n",
    "    out = out.argmax(axis = 1) # the highest output activation gives the class\n",
    "    out = out.reshape(X.shape)\n",
    "    \n",
    "    figure(1)\n",
    "    ioff() #interactive graphics off\n",
    "    clf() # clear the plot \n",
    "    hold(True) # overplot on\n",
    "    for c in [0,1,2]:\n",
    "        here,_ = where(tstdata['class'] == c)\n",
    "        plot(tstdata['input'][here, 0],tstdata['input'][here, 1], 'o')\n",
    "    if out.max()!= out.min(): #safety check against flat field\n",
    "        contourf(X,Y,out) #plot the contour\n",
    "    ion() # interactive graphics on\n",
    "    draw() #update the plot\n",
    "    \n",
    "ioff()\n",
    "show()"
   ]
  },
  {
   "cell_type": "code",
   "execution_count": null,
   "metadata": {
    "collapsed": true
   },
   "outputs": [],
   "source": []
  },
  {
   "cell_type": "code",
   "execution_count": null,
   "metadata": {
    "collapsed": true
   },
   "outputs": [],
   "source": []
  },
  {
   "cell_type": "code",
   "execution_count": 8,
   "metadata": {
    "collapsed": false
   },
   "outputs": [],
   "source": [
    "# for test\n",
    "mean = [0, 0]\n",
    "cov = [[1, 0], [0, 100]]  # diagonal covariance\n",
    "\n",
    "#Diagonal covariance means that points are oriented along x or y-axis:\n",
    "import numpy as np\n",
    "import matplotlib.pyplot as plt\n",
    "x, y = np.random.multivariate_normal(mean, cov, 5000).T\n",
    "plt.plot(x, y, 'x')\n",
    "plt.axis('equal')\n",
    "plt.show()"
   ]
  }
 ],
 "metadata": {
  "kernelspec": {
   "display_name": "Python 2",
   "language": "python",
   "name": "python2"
  },
  "language_info": {
   "codemirror_mode": {
    "name": "ipython",
    "version": 2
   },
   "file_extension": ".py",
   "mimetype": "text/x-python",
   "name": "python",
   "nbconvert_exporter": "python",
   "pygments_lexer": "ipython2",
   "version": "2.7.11"
  }
 },
 "nbformat": 4,
 "nbformat_minor": 0
}
