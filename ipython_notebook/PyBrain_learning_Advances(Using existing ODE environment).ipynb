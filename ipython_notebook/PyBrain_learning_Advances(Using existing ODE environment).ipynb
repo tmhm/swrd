{
 "cells": [
  {
   "cell_type": "markdown",
   "metadata": {},
   "source": [
    "### [Using ODE Environments](http://pybrain.org/docs/advanced/ode.html)"
   ]
  },
  {
   "cell_type": "markdown",
   "metadata": {},
   "source": [
    "#### Using an existing ODE environment\n",
    "\n",
    "ODE: Object Database and Environment\n",
    "\n",
    "ODE stands for Open Development Environment"
   ]
  },
  {
   "cell_type": "markdown",
   "metadata": {},
   "source": [
    "#### Creating your own learning task in an existing ODE environment"
   ]
  },
  {
   "cell_type": "markdown",
   "metadata": {},
   "source": [
    "The necessary methods that you need to define your own task are described already in that basic class:\n",
    "    \n",
    "* __init__(self, env) - the constructor\n",
    "* performAction(self, action) - processes and filters the output from the controller and communicates it to the environment.\n",
    "* isFinished(self) - checks if the maximum number of timesteps has been reached or if other break condition has been met.\n",
    "* res(self) - resets counters rewards and similar.\n",
    "\n",
    "If we take a look at the StandingTask (the next class in the file) we see that only little has to be done to create an own task. First of all the class must inherit from JohnnieTask. Then, the constructor has to be overwritten to declare some variables and constants for the specific task. In this case there were some additional position sensors added and normalized for reward calculation. As normally last step the getReward Method has to be overwritten, because the reward definition is normally what defines the task. In this case just the vertical head position is returned (with some clipping to prevent the robot from jumping to get more reward). That is already enough to create a task that is sufficiently defined to make a proper learning method (like PGPE in the above mentioned and testable example johnnie_pgpe.py) learn a controller that let the robot stand complete upright without falling.\n",
    "\n",
    "For some special cases you maybe are forced to rewrite the performAction method and the isFinished method, but that special cases are out of scope of this HowTo. If you need to make such changes and encounter problems please feel free to contact the PyBrain mailing list."
   ]
  },
  {
   "cell_type": "markdown",
   "metadata": {},
   "source": [
    "#### Creating your own ODE environment"
   ]
  },
  {
   "cell_type": "markdown",
   "metadata": {},
   "source": [
    "If you want to your own environment you need the following:\n",
    "\n",
    "- Environment that inherits from ODEEnvironment\n",
    "- Agent that inherits from OptimizationAgent\n",
    "- Tasks that inherit from EpisodicTask\n",
    "\n",
    "For all ODE environments, an instance can be found in **pybrain/rl/environments/ode/instances/** ,\n",
    "\n",
    "on my PC is :** F:\\Anaconda2\\Lib\\site-packages\\pybrain\\rl\\environments\\ode\\instances **"
   ]
  }
 ],
 "metadata": {
  "kernelspec": {
   "display_name": "Python 2",
   "language": "python",
   "name": "python2"
  },
  "language_info": {
   "codemirror_mode": {
    "name": "ipython",
    "version": 2
   },
   "file_extension": ".py",
   "mimetype": "text/x-python",
   "name": "python",
   "nbconvert_exporter": "python",
   "pygments_lexer": "ipython2",
   "version": "2.7.11"
  }
 },
 "nbformat": 4,
 "nbformat_minor": 0
}
