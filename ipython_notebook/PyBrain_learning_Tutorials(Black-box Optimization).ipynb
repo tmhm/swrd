{
 "cells": [
  {
   "cell_type": "markdown",
   "metadata": {},
   "source": [
    "### [Black-box optimization](http://pybrain.org/docs/tutorial/optimization.html)"
   ]
  },
  {
   "cell_type": "markdown",
   "metadata": {},
   "source": [
    "### Continuous optimization"
   ]
  },
  {
   "cell_type": "code",
   "execution_count": 22,
   "metadata": {
    "collapsed": false
   },
   "outputs": [
    {
     "name": "stdout",
     "output_type": "stream",
     "text": [
      "[ 2.1  1.   3. ]\n"
     ]
    },
    {
     "data": {
      "text/plain": [
       "numpy.ndarray"
      ]
     },
     "execution_count": 22,
     "metadata": {},
     "output_type": "execute_result"
    }
   ],
   "source": [
    " from numpy import array \n",
    "#% clear\n",
    "#% reset\n",
    "#from array import array\n",
    "def objF(x): return (x**2)\n",
    "\n",
    "x0 = array([2.1, 1, 3])\n",
    "# x0 = [2.1, -1]\n",
    "print x0\n",
    "type(x0)"
   ]
  },
  {
   "cell_type": "code",
   "execution_count": 25,
   "metadata": {
    "collapsed": false
   },
   "outputs": [
    {
     "ename": "ValueError",
     "evalue": "setting an array element with a sequence.",
     "output_type": "error",
     "traceback": [
      "\u001b[1;31m---------------------------------------------------------------------------\u001b[0m",
      "\u001b[1;31mValueError\u001b[0m                                Traceback (most recent call last)",
      "\u001b[1;32m<ipython-input-25-8ff0bcf8a05b>\u001b[0m in \u001b[0;36m<module>\u001b[1;34m()\u001b[0m\n\u001b[0;32m      4\u001b[0m \u001b[0ml\u001b[0m\u001b[1;33m.\u001b[0m\u001b[0mminimize\u001b[0m \u001b[1;33m=\u001b[0m \u001b[0mTrue\u001b[0m\u001b[1;33m\u001b[0m\u001b[0m\n\u001b[0;32m      5\u001b[0m \u001b[0ml\u001b[0m\u001b[1;33m.\u001b[0m\u001b[0mmaxEvaluations\u001b[0m \u001b[1;33m=\u001b[0m \u001b[1;36m200\u001b[0m\u001b[1;33m\u001b[0m\u001b[0m\n\u001b[1;32m----> 6\u001b[1;33m \u001b[0ml\u001b[0m\u001b[1;33m.\u001b[0m\u001b[0mlearn\u001b[0m\u001b[1;33m(\u001b[0m\u001b[1;33m)\u001b[0m\u001b[1;33m\u001b[0m\u001b[0m\n\u001b[0m",
      "\u001b[1;32mf:\\Anaconda2\\lib\\site-packages\\pybrain\\optimization\\optimizer.pyc\u001b[0m in \u001b[0;36mlearn\u001b[1;34m(self, additionalLearningSteps)\u001b[0m\n\u001b[0;32m    182\u001b[0m         \u001b[1;32mwhile\u001b[0m \u001b[1;32mnot\u001b[0m \u001b[0mself\u001b[0m\u001b[1;33m.\u001b[0m\u001b[0m_stoppingCriterion\u001b[0m\u001b[1;33m(\u001b[0m\u001b[1;33m)\u001b[0m\u001b[1;33m:\u001b[0m\u001b[1;33m\u001b[0m\u001b[0m\n\u001b[0;32m    183\u001b[0m             \u001b[1;32mtry\u001b[0m\u001b[1;33m:\u001b[0m\u001b[1;33m\u001b[0m\u001b[0m\n\u001b[1;32m--> 184\u001b[1;33m                 \u001b[0mself\u001b[0m\u001b[1;33m.\u001b[0m\u001b[0m_learnStep\u001b[0m\u001b[1;33m(\u001b[0m\u001b[1;33m)\u001b[0m\u001b[1;33m\u001b[0m\u001b[0m\n\u001b[0m\u001b[0;32m    185\u001b[0m                 \u001b[0mself\u001b[0m\u001b[1;33m.\u001b[0m\u001b[0m_notify\u001b[0m\u001b[1;33m(\u001b[0m\u001b[1;33m)\u001b[0m\u001b[1;33m\u001b[0m\u001b[0m\n\u001b[0;32m    186\u001b[0m                 \u001b[0mself\u001b[0m\u001b[1;33m.\u001b[0m\u001b[0mnumLearningSteps\u001b[0m \u001b[1;33m+=\u001b[0m \u001b[1;36m1\u001b[0m\u001b[1;33m\u001b[0m\u001b[0m\n",
      "\u001b[1;32mf:\\Anaconda2\\lib\\site-packages\\pybrain\\optimization\\distributionbased\\cmaes.pyc\u001b[0m in \u001b[0;36m_learnStep\u001b[1;34m(self)\u001b[0m\n\u001b[0;32m     58\u001b[0m         \u001b[0marfitness\u001b[0m \u001b[1;33m=\u001b[0m \u001b[0mzeros\u001b[0m\u001b[1;33m(\u001b[0m\u001b[0mself\u001b[0m\u001b[1;33m.\u001b[0m\u001b[0mbatchSize\u001b[0m\u001b[1;33m)\u001b[0m\u001b[1;33m\u001b[0m\u001b[0m\n\u001b[0;32m     59\u001b[0m         \u001b[1;32mfor\u001b[0m \u001b[0mk\u001b[0m \u001b[1;32min\u001b[0m \u001b[0mxrange\u001b[0m\u001b[1;33m(\u001b[0m\u001b[0mself\u001b[0m\u001b[1;33m.\u001b[0m\u001b[0mbatchSize\u001b[0m\u001b[1;33m)\u001b[0m\u001b[1;33m:\u001b[0m\u001b[1;33m\u001b[0m\u001b[0m\n\u001b[1;32m---> 60\u001b[1;33m             \u001b[0marfitness\u001b[0m\u001b[1;33m[\u001b[0m\u001b[0mk\u001b[0m\u001b[1;33m]\u001b[0m \u001b[1;33m=\u001b[0m \u001b[0mself\u001b[0m\u001b[1;33m.\u001b[0m\u001b[0m_oneEvaluation\u001b[0m\u001b[1;33m(\u001b[0m\u001b[0marx\u001b[0m\u001b[1;33m[\u001b[0m\u001b[1;33m:\u001b[0m\u001b[1;33m,\u001b[0m \u001b[0mk\u001b[0m\u001b[1;33m]\u001b[0m\u001b[1;33m)\u001b[0m\u001b[1;33m\u001b[0m\u001b[0m\n\u001b[0m\u001b[0;32m     61\u001b[0m \u001b[1;33m\u001b[0m\u001b[0m\n\u001b[0;32m     62\u001b[0m         \u001b[1;31m# Sort by fitness and compute weighted mean into center\u001b[0m\u001b[1;33m\u001b[0m\u001b[1;33m\u001b[0m\u001b[0m\n",
      "\u001b[1;31mValueError\u001b[0m: setting an array element with a sequence."
     ]
    }
   ],
   "source": [
    "from pybrain.optimization import CMAES\n",
    "l = CMAES(objF, x0)\n",
    "# l??\n",
    "l.minimize = True\n",
    "l.maxEvaluations = 200\n",
    "l.learn()"
   ]
  },
  {
   "cell_type": "markdown",
   "metadata": {},
   "source": [
    "### general optimazation: using Evolvable"
   ]
  },
  {
   "cell_type": "code",
   "execution_count": 27,
   "metadata": {
    "collapsed": true
   },
   "outputs": [],
   "source": [
    "from random import random\n",
    "from pybrain.structure.evolvables.evolvable import Evolvable\n",
    "class SimpleEvo(Evolvable):\n",
    "    def __init__(self, x): self.x = max(0, min(x,10))\n",
    "    def mutate(self): self.x = max(0,min(self.x + random() - 0.3, 10))\n",
    "    def copy(self): return SimpleEvo(self.x)\n",
    "    def randomize(self): self.x = 10* random()\n",
    "    def __repr__(self): return '<-%.2f->' + str(self.x)"
   ]
  },
  {
   "cell_type": "code",
   "execution_count": 35,
   "metadata": {
    "collapsed": false
   },
   "outputs": [],
   "source": [
    "\n",
    "from pybrain.optimization import HillClimber\n",
    "x0 = SimpleEvo(1.2)\n",
    "l = HillClimber(lambda x: x.x,x0, maxEvaluations = 50)\n",
    "l.learn()\n",
    "l??\n"
   ]
  },
  {
   "cell_type": "markdown",
   "metadata": {},
   "source": [
    "### optimization in reinforcement learning"
   ]
  },
  {
   "cell_type": "code",
   "execution_count": 43,
   "metadata": {
    "collapsed": false
   },
   "outputs": [],
   "source": [
    "from pybrain.rl.environments.cartpole.balancetask import BalanceTask\n",
    "task = BalanceTask()\n",
    "\n",
    "from pybrain.tools.shortcuts import buildNetwork\n",
    "net = buildNetwork(task.outdim, 3, task.indim)\n"
   ]
  },
  {
   "cell_type": "code",
   "execution_count": 46,
   "metadata": {
    "collapsed": true
   },
   "outputs": [],
   "source": [
    "# HillClimber(task, net, maxEvaluations = 100).learn()\n",
    "\n",
    "# or \n",
    "from pybrain.rl.agents import OptimizationAgent\n",
    "from pybrain.rl.experiments import EpisodicExperiment\n",
    "agent = OptimizationAgent(net, HillClimber())\n",
    "exp = EpisodicExperiment(task, agent)\n",
    "exp.doEpisodes(100)"
   ]
  },
  {
   "cell_type": "code",
   "execution_count": 52,
   "metadata": {
    "collapsed": false
   },
   "outputs": [
    {
     "data": {
      "text/plain": [
       "[[-1, -1, -1, -1, -1, -1, -1986],\n",
       " [-1, -1, -1, -1, -1, -1988],\n",
       " [-1, -1, -1, -1, -1, -1988],\n",
       " [-1, -1, -1, -1, -1, -1, -1, -1984],\n",
       " [-1, -1, -1, -1, -1, -1, -1, -1, -1982],\n",
       " [-1, -1, -1, -1, -1, -1, -1, -1984],\n",
       " [-1, -1, -1, -1, -1, -1, -1, -1, -1982],\n",
       " [-1, -1, -1, -1, -1, -1, -1, -1, -1982],\n",
       " [-1, -1, -1, -1, -1, -1, -1986],\n",
       " [-1, -1, -1, -1, -1, -1988]]"
      ]
     },
     "execution_count": 52,
     "metadata": {},
     "output_type": "execute_result"
    }
   ],
   "source": [
    "from pybrain.rl.learners import ENAC\n",
    "from pybrain.rl.agents import LearningAgent\n",
    "agent = LearningAgent(net, ENAC())\n",
    "exp = EpisodicExperiment(task, agent)\n",
    "exp.doEpisodes(10)"
   ]
  }
 ],
 "metadata": {
  "kernelspec": {
   "display_name": "Python 2",
   "language": "python",
   "name": "python2"
  },
  "language_info": {
   "codemirror_mode": {
    "name": "ipython",
    "version": 2
   },
   "file_extension": ".py",
   "mimetype": "text/x-python",
   "name": "python",
   "nbconvert_exporter": "python",
   "pygments_lexer": "ipython2",
   "version": "2.7.11"
  }
 },
 "nbformat": 4,
 "nbformat_minor": 0
}
