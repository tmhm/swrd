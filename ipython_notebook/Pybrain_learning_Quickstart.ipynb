{
 "cells": [
  {
   "cell_type": "markdown",
   "metadata": {},
   "source": [
    "## Quickstart\n",
    "### [building a network](http://pybrain.org/docs/quickstart/network.html)"
   ]
  },
  {
   "cell_type": "code",
   "execution_count": 7,
   "metadata": {
    "collapsed": false
   },
   "outputs": [
    {
     "data": {
      "text/plain": [
       "array([ 0.18910745])"
      ]
     },
     "execution_count": 7,
     "metadata": {},
     "output_type": "execute_result"
    }
   ],
   "source": [
    "from pybrain.tools.shortcuts import buildNetwork\n",
    "net = buildNetwork(2,3,1)\n",
    "net.activate([2,5])\n"
   ]
  },
  {
   "cell_type": "code",
   "execution_count": 13,
   "metadata": {
    "collapsed": false
   },
   "outputs": [
    {
     "data": {
      "text/plain": [
       "<SigmoidLayer 'hidden0'>"
      ]
     },
     "execution_count": 13,
     "metadata": {},
     "output_type": "execute_result"
    }
   ],
   "source": [
    "net['in']\n",
    "net['hidden0']\n",
    "#net['out'];"
   ]
  },
  {
   "cell_type": "code",
   "execution_count": 15,
   "metadata": {
    "collapsed": false
   },
   "outputs": [
    {
     "data": {
      "text/plain": [
       "<TanhLayer 'hidden0'>"
      ]
     },
     "execution_count": 15,
     "metadata": {},
     "output_type": "execute_result"
    }
   ],
   "source": [
    "from pybrain.structure import TanhLayer\n",
    "net = buildNetwork(2,3,2,hiddenclass=TanhLayer)\n",
    "net['hidden0']"
   ]
  },
  {
   "cell_type": "code",
   "execution_count": 21,
   "metadata": {
    "collapsed": false
   },
   "outputs": [
    {
     "data": {
      "text/plain": [
       "array([ 0.00125517,  0.99874483])"
      ]
     },
     "execution_count": 21,
     "metadata": {},
     "output_type": "execute_result"
    }
   ],
   "source": [
    "from pybrain.structure import SoftmaxLayer\n",
    "net = buildNetwork(2,3,2,hiddenclass=TanhLayer,outclass=SoftmaxLayer)\n",
    "net.activate([2,5])"
   ]
  },
  {
   "cell_type": "code",
   "execution_count": 22,
   "metadata": {
    "collapsed": false
   },
   "outputs": [
    {
     "data": {
      "text/plain": [
       "<BiasUnit 'bias'>"
      ]
     },
     "execution_count": 22,
     "metadata": {},
     "output_type": "execute_result"
    }
   ],
   "source": [
    "net = buildNetwork(2,3,1,bias=True)\n",
    "net['bias']"
   ]
  },
  {
   "cell_type": "markdown",
   "metadata": {},
   "source": [
    "### building a databset"
   ]
  },
  {
   "cell_type": "code",
   "execution_count": 27,
   "metadata": {
    "collapsed": false
   },
   "outputs": [
    {
     "data": {
      "text/plain": [
       "0"
      ]
     },
     "execution_count": 27,
     "metadata": {},
     "output_type": "execute_result"
    }
   ],
   "source": [
    "from pybrain.datasets import SupervisedDataSet\n",
    "ds = SupervisedDataSet(2,1)\n",
    "len(ds)\n",
    "#print ds"
   ]
  },
  {
   "cell_type": "code",
   "execution_count": 57,
   "metadata": {
    "collapsed": false
   },
   "outputs": [
    {
     "data": {
      "text/plain": [
       "4"
      ]
     },
     "execution_count": 57,
     "metadata": {},
     "output_type": "execute_result"
    }
   ],
   "source": [
    "#add a XOR function dataset\n",
    "ds.clear()\n",
    "ds.addSample((0,0),(0,))\n",
    "ds.addSample((0,1),(1,))\n",
    "ds.addSample((1,0),(1,))\n",
    "ds.addSample((1,1),(0,))\n",
    "len(ds)\n",
    "#print ds"
   ]
  },
  {
   "cell_type": "code",
   "execution_count": 44,
   "metadata": {
    "collapsed": false
   },
   "outputs": [
    {
     "name": "stdout",
     "output_type": "stream",
     "text": [
      "[ 0.  0.] [ 0.]\n",
      "[ 0.  1.] [ 1.]\n",
      "[ 1.  0.] [ 1.]\n",
      "[ 1.  1.] [ 0.]\n"
     ]
    }
   ],
   "source": [
    "for inpt ,targe in ds:\n",
    "    print inpt, targe"
   ]
  },
  {
   "cell_type": "code",
   "execution_count": 46,
   "metadata": {
    "collapsed": false
   },
   "outputs": [],
   "source": [
    "# print ds?"
   ]
  },
  {
   "cell_type": "code",
   "execution_count": 55,
   "metadata": {
    "collapsed": false
   },
   "outputs": [
    {
     "data": {
      "text/plain": [
       "array([[ 0.],\n",
       "       [ 1.],\n",
       "       [ 1.],\n",
       "       [ 0.]])"
      ]
     },
     "execution_count": 55,
     "metadata": {},
     "output_type": "execute_result"
    }
   ],
   "source": [
    "ds['input']\n",
    "ds['target']"
   ]
  },
  {
   "cell_type": "code",
   "execution_count": 56,
   "metadata": {
    "collapsed": false
   },
   "outputs": [
    {
     "data": {
      "text/plain": [
       "array([], shape=(0L, 2L), dtype=float64)"
      ]
     },
     "execution_count": 56,
     "metadata": {},
     "output_type": "execute_result"
    }
   ],
   "source": [
    "ds.clear()\n",
    "ds['input']"
   ]
  },
  {
   "cell_type": "markdown",
   "metadata": {},
   "source": [
    "### training network on 'ds' dataset"
   ]
  },
  {
   "cell_type": "code",
   "execution_count": 60,
   "metadata": {
    "collapsed": true
   },
   "outputs": [],
   "source": [
    "from pybrain.supervised.trainers import BackpropTrainer\n",
    "net = buildNetwork(2,3,1,bias = True,hiddenclass = TanhLayer)\n",
    "trainer = BackpropTrainer(net,ds)"
   ]
  },
  {
   "cell_type": "code",
   "execution_count": 73,
   "metadata": {
    "collapsed": false
   },
   "outputs": [
    {
     "data": {
      "text/plain": [
       "0.10686789896685028"
      ]
     },
     "execution_count": 73,
     "metadata": {},
     "output_type": "execute_result"
    }
   ],
   "source": [
    "trainer.train()"
   ]
  },
  {
   "cell_type": "code",
   "execution_count": 76,
   "metadata": {
    "collapsed": false
   },
   "outputs": [
    {
     "data": {
      "text/plain": [
       "([0.10368835159150679,\n",
       "  0.088754772793211423,\n",
       "  0.084229860550631377,\n",
       "  0.080123116796182489,\n",
       "  0.07647208179783839,\n",
       "  0.073206907693710341,\n",
       "  0.070321319263049922,\n",
       "  0.067773100086420582,\n",
       "  0.065436822632200867,\n",
       "  0.063313195184196078,\n",
       "  0.061389405487577355,\n",
       "  0.059604585875976564,\n",
       "  0.057986021130034093,\n",
       "  0.05652574616336279,\n",
       "  0.055191524804349891,\n",
       "  0.053947091190591344,\n",
       "  0.052792431213675738,\n",
       "  0.051746925161919179,\n",
       "  0.050724801759983305,\n",
       "  0.08888105124684835],\n",
       " [0.1933219601824947,\n",
       "  0.13920435847099413,\n",
       "  0.14965098809657265,\n",
       "  0.16012744267387588,\n",
       "  0.17034567187459304,\n",
       "  0.18023440175978045,\n",
       "  0.18981086865998012,\n",
       "  0.19871755039240466,\n",
       "  0.20731205506222694,\n",
       "  0.21595828568173767,\n",
       "  0.22391697710621306,\n",
       "  0.2319758398036508,\n",
       "  0.23972407725661496,\n",
       "  0.24713913474093585,\n",
       "  0.25387555759915614,\n",
       "  0.26073237367583718,\n",
       "  0.26718949582940549,\n",
       "  0.27314862194469858,\n",
       "  0.27900095400268493,\n",
       "  0.28488547674050863])"
      ]
     },
     "execution_count": 76,
     "metadata": {},
     "output_type": "execute_result"
    }
   ],
   "source": [
    "trainer.trainUntilConvergence()"
   ]
  },
  {
   "cell_type": "code",
   "execution_count": 82,
   "metadata": {
    "collapsed": false
   },
   "outputs": [
    {
     "data": {
      "text/plain": [
       "array([ 0.5611842])"
      ]
     },
     "execution_count": 82,
     "metadata": {},
     "output_type": "execute_result"
    }
   ],
   "source": [
    "net.activate((1,1))"
   ]
  },
  {
   "cell_type": "markdown",
   "metadata": {},
   "source": [
    "### 验证和分析"
   ]
  },
  {
   "cell_type": "markdown",
   "metadata": {},
   "source": [
    "查看网络测试结果"
   ]
  },
  {
   "cell_type": "code",
   "execution_count": 89,
   "metadata": {
    "collapsed": false,
    "scrolled": true
   },
   "outputs": [
    {
     "name": "stdout",
     "output_type": "stream",
     "text": [
      "FeedForwardNetwork-107\n",
      "   Modules:\n",
      "    [<BiasUnit 'bias'>, <LinearLayer 'in'>, <TanhLayer 'hidden0'>, <LinearLayer 'out'>]\n",
      "   Connections:\n",
      "    [<FullConnection 'FullConnection-103': 'bias' -> 'out'>, <FullConnection 'FullConnection-104': 'bias' -> 'hidden0'>, <FullConnection 'FullConnection-105': 'in' -> 'hidden0'>, <FullConnection 'FullConnection-106': 'hidden0' -> 'out'>]\n",
      "\n"
     ]
    }
   ],
   "source": [
    "print net"
   ]
  },
  {
   "cell_type": "markdown",
   "metadata": {},
   "source": [
    "打印神经网络模型的*轮子*，O(∩_∩)O哈哈~"
   ]
  },
  {
   "cell_type": "code",
   "execution_count": 88,
   "metadata": {
    "collapsed": false
   },
   "outputs": [
    {
     "name": "stdout",
     "output_type": "stream",
     "text": [
      "Module: out\n",
      "Module: bias\n",
      "-connection to out\n",
      "- parameters [ 0.52451225]\n",
      "-connection to hidden0\n",
      "- parameters [ 0.95444718 -0.64096651  0.34477295]\n",
      "Module: in\n",
      "-connection to hidden0\n",
      "- parameters [-0.73759924  2.44786252  0.30969723  0.13791398  0.60012864  0.54063644]\n",
      "Module: hidden0\n",
      "-connection to out\n",
      "- parameters [-0.34533571  0.01628854  0.42303251]\n"
     ]
    }
   ],
   "source": [
    "\n",
    "for mod in net.modules:\n",
    "    print \"Module:\", mod.name\n",
    "    if mod.paramdim > 0:\n",
    "        print \"--parameters:\", mod.params\n",
    "    for conn in net.connections[mod]:\n",
    "        print \"-connection to\", conn.outmod.name\n",
    "        if conn.paramdim > 0:\n",
    "            print \"- parameters\", conn.params\n",
    "    if hasattr(net, \"recurrentConns\"):\n",
    "        print \"Recurrent connections\"\n",
    "        for conn in net.recurrentConns:             \n",
    "            print \"-\", conn.inmod.name, \" to\", conn.outmod.name\n",
    "            if conn.paramdim > 0:\n",
    "                print \"- parameters\", conn.params\n",
    "            "
   ]
  }
 ],
 "metadata": {
  "kernelspec": {
   "display_name": "Python 2",
   "language": "python",
   "name": "python2"
  },
  "language_info": {
   "codemirror_mode": {
    "name": "ipython",
    "version": 2
   },
   "file_extension": ".py",
   "mimetype": "text/x-python",
   "name": "python",
   "nbconvert_exporter": "python",
   "pygments_lexer": "ipython2",
   "version": "2.7.11"
  }
 },
 "nbformat": 4,
 "nbformat_minor": 0
}
